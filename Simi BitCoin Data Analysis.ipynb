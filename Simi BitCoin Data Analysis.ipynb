{
 "cells": [
  {
   "cell_type": "code",
   "execution_count": 277,
   "id": "42d6fe8e-fbdf-49df-88f9-b00a3d2df550",
   "metadata": {},
   "outputs": [],
   "source": [
    "import pandas as pd\n",
    "import numpy as np\n",
    "import matplotlib.pyplot as plt\n",
    "import seaborn as sns"
   ]
  },
  {
   "cell_type": "code",
   "execution_count": 278,
   "id": "071cd1cc-f8c2-4864-a393-5080c074795d",
   "metadata": {},
   "outputs": [],
   "source": [
    "Bitcoin_df = pd.read_csv(r\"C:\\Users\\b-sbenjamin\\Downloads\\bitcoin_price_Training - Training.csv\")"
   ]
  },
  {
   "cell_type": "code",
   "execution_count": 279,
   "id": "fea879d5-fe44-48b9-9ff3-9075a2aa2fd6",
   "metadata": {},
   "outputs": [
    {
     "data": {
      "text/html": [
       "<div>\n",
       "<style scoped>\n",
       "    .dataframe tbody tr th:only-of-type {\n",
       "        vertical-align: middle;\n",
       "    }\n",
       "\n",
       "    .dataframe tbody tr th {\n",
       "        vertical-align: top;\n",
       "    }\n",
       "\n",
       "    .dataframe thead th {\n",
       "        text-align: right;\n",
       "    }\n",
       "</style>\n",
       "<table border=\"1\" class=\"dataframe\">\n",
       "  <thead>\n",
       "    <tr style=\"text-align: right;\">\n",
       "      <th></th>\n",
       "      <th>Date</th>\n",
       "      <th>Open</th>\n",
       "      <th>High</th>\n",
       "      <th>Low</th>\n",
       "      <th>Close</th>\n",
       "      <th>Volume</th>\n",
       "      <th>Market Cap</th>\n",
       "    </tr>\n",
       "  </thead>\n",
       "  <tbody>\n",
       "    <tr>\n",
       "      <th>0</th>\n",
       "      <td>Jul 31, 2017</td>\n",
       "      <td>2763.24</td>\n",
       "      <td>2889.62</td>\n",
       "      <td>2720.61</td>\n",
       "      <td>2875.34</td>\n",
       "      <td>860,575,000</td>\n",
       "      <td>45,535,800,000</td>\n",
       "    </tr>\n",
       "    <tr>\n",
       "      <th>1</th>\n",
       "      <td>Jul 30, 2017</td>\n",
       "      <td>2724.39</td>\n",
       "      <td>2758.53</td>\n",
       "      <td>2644.85</td>\n",
       "      <td>2757.18</td>\n",
       "      <td>705,943,000</td>\n",
       "      <td>44,890,700,000</td>\n",
       "    </tr>\n",
       "    <tr>\n",
       "      <th>2</th>\n",
       "      <td>Jul 29, 2017</td>\n",
       "      <td>2807.02</td>\n",
       "      <td>2808.76</td>\n",
       "      <td>2692.80</td>\n",
       "      <td>2726.45</td>\n",
       "      <td>803,746,000</td>\n",
       "      <td>46,246,700,000</td>\n",
       "    </tr>\n",
       "    <tr>\n",
       "      <th>3</th>\n",
       "      <td>Jul 28, 2017</td>\n",
       "      <td>2679.73</td>\n",
       "      <td>2897.45</td>\n",
       "      <td>2679.73</td>\n",
       "      <td>2809.01</td>\n",
       "      <td>1,380,100,000</td>\n",
       "      <td>44,144,400,000</td>\n",
       "    </tr>\n",
       "    <tr>\n",
       "      <th>4</th>\n",
       "      <td>Jul 27, 2017</td>\n",
       "      <td>2538.71</td>\n",
       "      <td>2693.32</td>\n",
       "      <td>2529.34</td>\n",
       "      <td>2671.78</td>\n",
       "      <td>789,104,000</td>\n",
       "      <td>41,816,500,000</td>\n",
       "    </tr>\n",
       "  </tbody>\n",
       "</table>\n",
       "</div>"
      ],
      "text/plain": [
       "           Date     Open     High      Low    Close         Volume  \\\n",
       "0  Jul 31, 2017  2763.24  2889.62  2720.61  2875.34    860,575,000   \n",
       "1  Jul 30, 2017  2724.39  2758.53  2644.85  2757.18    705,943,000   \n",
       "2  Jul 29, 2017  2807.02  2808.76  2692.80  2726.45    803,746,000   \n",
       "3  Jul 28, 2017  2679.73  2897.45  2679.73  2809.01  1,380,100,000   \n",
       "4  Jul 27, 2017  2538.71  2693.32  2529.34  2671.78    789,104,000   \n",
       "\n",
       "       Market Cap  \n",
       "0  45,535,800,000  \n",
       "1  44,890,700,000  \n",
       "2  46,246,700,000  \n",
       "3  44,144,400,000  \n",
       "4  41,816,500,000  "
      ]
     },
     "execution_count": 279,
     "metadata": {},
     "output_type": "execute_result"
    }
   ],
   "source": [
    "Bitcoin_df.head(5)"
   ]
  },
  {
   "cell_type": "code",
   "execution_count": 280,
   "id": "33934cc7-12ce-4d4f-8450-09b96427f3e4",
   "metadata": {},
   "outputs": [],
   "source": [
    "#the data above has shown that this is a Time series Data because the data is collected over a period of time "
   ]
  },
  {
   "cell_type": "code",
   "execution_count": 281,
   "id": "fd09b70b-7b0a-494a-a65c-31ccb08cb133",
   "metadata": {},
   "outputs": [
    {
     "data": {
      "text/plain": [
       "Index(['Date', 'Open', 'High', 'Low', 'Close', 'Volume', 'Market Cap'], dtype='object')"
      ]
     },
     "execution_count": 281,
     "metadata": {},
     "output_type": "execute_result"
    }
   ],
   "source": [
    "Bitcoin_df.columns"
   ]
  },
  {
   "cell_type": "code",
   "execution_count": 282,
   "id": "490e23f7-9226-4219-9df0-b11badcebdd8",
   "metadata": {},
   "outputs": [
    {
     "data": {
      "text/plain": [
       "(1556, 7)"
      ]
     },
     "execution_count": 282,
     "metadata": {},
     "output_type": "execute_result"
    }
   ],
   "source": [
    "Bitcoin_df.shape"
   ]
  },
  {
   "cell_type": "code",
   "execution_count": 283,
   "id": "43c048e8-7df5-4c6e-b378-d63d92712fd5",
   "metadata": {},
   "outputs": [
    {
     "name": "stdout",
     "output_type": "stream",
     "text": [
      "<class 'pandas.core.frame.DataFrame'>\n",
      "RangeIndex: 1556 entries, 0 to 1555\n",
      "Data columns (total 7 columns):\n",
      " #   Column      Non-Null Count  Dtype  \n",
      "---  ------      --------------  -----  \n",
      " 0   Date        1556 non-null   object \n",
      " 1   Open        1556 non-null   float64\n",
      " 2   High        1556 non-null   float64\n",
      " 3   Low         1556 non-null   float64\n",
      " 4   Close       1556 non-null   float64\n",
      " 5   Volume      1556 non-null   object \n",
      " 6   Market Cap  1556 non-null   object \n",
      "dtypes: float64(4), object(3)\n",
      "memory usage: 85.2+ KB\n"
     ]
    }
   ],
   "source": [
    "Bitcoin_df.info()"
   ]
  },
  {
   "cell_type": "code",
   "execution_count": 284,
   "id": "02bb6a4e-7a45-4992-b7a7-189f7d71b1e6",
   "metadata": {},
   "outputs": [
    {
     "data": {
      "text/html": [
       "<div>\n",
       "<style scoped>\n",
       "    .dataframe tbody tr th:only-of-type {\n",
       "        vertical-align: middle;\n",
       "    }\n",
       "\n",
       "    .dataframe tbody tr th {\n",
       "        vertical-align: top;\n",
       "    }\n",
       "\n",
       "    .dataframe thead th {\n",
       "        text-align: right;\n",
       "    }\n",
       "</style>\n",
       "<table border=\"1\" class=\"dataframe\">\n",
       "  <thead>\n",
       "    <tr style=\"text-align: right;\">\n",
       "      <th></th>\n",
       "      <th>Open</th>\n",
       "      <th>High</th>\n",
       "      <th>Low</th>\n",
       "      <th>Close</th>\n",
       "    </tr>\n",
       "  </thead>\n",
       "  <tbody>\n",
       "    <tr>\n",
       "      <th>count</th>\n",
       "      <td>1556.000000</td>\n",
       "      <td>1556.000000</td>\n",
       "      <td>1556.000000</td>\n",
       "      <td>1556.000000</td>\n",
       "    </tr>\n",
       "    <tr>\n",
       "      <th>mean</th>\n",
       "      <td>582.625328</td>\n",
       "      <td>597.992847</td>\n",
       "      <td>567.851446</td>\n",
       "      <td>584.239396</td>\n",
       "    </tr>\n",
       "    <tr>\n",
       "      <th>std</th>\n",
       "      <td>523.137312</td>\n",
       "      <td>542.992855</td>\n",
       "      <td>505.877401</td>\n",
       "      <td>525.904442</td>\n",
       "    </tr>\n",
       "    <tr>\n",
       "      <th>min</th>\n",
       "      <td>68.500000</td>\n",
       "      <td>74.560000</td>\n",
       "      <td>65.530000</td>\n",
       "      <td>68.430000</td>\n",
       "    </tr>\n",
       "    <tr>\n",
       "      <th>25%</th>\n",
       "      <td>254.287500</td>\n",
       "      <td>260.327500</td>\n",
       "      <td>248.835000</td>\n",
       "      <td>254.320000</td>\n",
       "    </tr>\n",
       "    <tr>\n",
       "      <th>50%</th>\n",
       "      <td>438.600000</td>\n",
       "      <td>447.560000</td>\n",
       "      <td>430.570000</td>\n",
       "      <td>438.855000</td>\n",
       "    </tr>\n",
       "    <tr>\n",
       "      <th>75%</th>\n",
       "      <td>662.437500</td>\n",
       "      <td>674.525000</td>\n",
       "      <td>646.735000</td>\n",
       "      <td>663.402500</td>\n",
       "    </tr>\n",
       "    <tr>\n",
       "      <th>max</th>\n",
       "      <td>2953.220000</td>\n",
       "      <td>2999.910000</td>\n",
       "      <td>2840.530000</td>\n",
       "      <td>2958.110000</td>\n",
       "    </tr>\n",
       "  </tbody>\n",
       "</table>\n",
       "</div>"
      ],
      "text/plain": [
       "              Open         High          Low        Close\n",
       "count  1556.000000  1556.000000  1556.000000  1556.000000\n",
       "mean    582.625328   597.992847   567.851446   584.239396\n",
       "std     523.137312   542.992855   505.877401   525.904442\n",
       "min      68.500000    74.560000    65.530000    68.430000\n",
       "25%     254.287500   260.327500   248.835000   254.320000\n",
       "50%     438.600000   447.560000   430.570000   438.855000\n",
       "75%     662.437500   674.525000   646.735000   663.402500\n",
       "max    2953.220000  2999.910000  2840.530000  2958.110000"
      ]
     },
     "execution_count": 284,
     "metadata": {},
     "output_type": "execute_result"
    }
   ],
   "source": [
    "Bitcoin_df.describe()"
   ]
  },
  {
   "cell_type": "code",
   "execution_count": 285,
   "id": "cec88706-e1d3-47f7-9485-b0ef8844e95c",
   "metadata": {},
   "outputs": [],
   "source": [
    "#I want to transpose the description to make it more readable"
   ]
  },
  {
   "cell_type": "code",
   "execution_count": 286,
   "id": "d63548b2-317c-4f21-8425-9c6e51d148e0",
   "metadata": {},
   "outputs": [
    {
     "data": {
      "text/html": [
       "<div>\n",
       "<style scoped>\n",
       "    .dataframe tbody tr th:only-of-type {\n",
       "        vertical-align: middle;\n",
       "    }\n",
       "\n",
       "    .dataframe tbody tr th {\n",
       "        vertical-align: top;\n",
       "    }\n",
       "\n",
       "    .dataframe thead th {\n",
       "        text-align: right;\n",
       "    }\n",
       "</style>\n",
       "<table border=\"1\" class=\"dataframe\">\n",
       "  <thead>\n",
       "    <tr style=\"text-align: right;\">\n",
       "      <th></th>\n",
       "      <th>count</th>\n",
       "      <th>mean</th>\n",
       "      <th>std</th>\n",
       "      <th>min</th>\n",
       "      <th>25%</th>\n",
       "      <th>50%</th>\n",
       "      <th>75%</th>\n",
       "      <th>max</th>\n",
       "    </tr>\n",
       "  </thead>\n",
       "  <tbody>\n",
       "    <tr>\n",
       "      <th>Open</th>\n",
       "      <td>1556.0</td>\n",
       "      <td>582.625328</td>\n",
       "      <td>523.137312</td>\n",
       "      <td>68.50</td>\n",
       "      <td>254.2875</td>\n",
       "      <td>438.600</td>\n",
       "      <td>662.4375</td>\n",
       "      <td>2953.22</td>\n",
       "    </tr>\n",
       "    <tr>\n",
       "      <th>High</th>\n",
       "      <td>1556.0</td>\n",
       "      <td>597.992847</td>\n",
       "      <td>542.992855</td>\n",
       "      <td>74.56</td>\n",
       "      <td>260.3275</td>\n",
       "      <td>447.560</td>\n",
       "      <td>674.5250</td>\n",
       "      <td>2999.91</td>\n",
       "    </tr>\n",
       "    <tr>\n",
       "      <th>Low</th>\n",
       "      <td>1556.0</td>\n",
       "      <td>567.851446</td>\n",
       "      <td>505.877401</td>\n",
       "      <td>65.53</td>\n",
       "      <td>248.8350</td>\n",
       "      <td>430.570</td>\n",
       "      <td>646.7350</td>\n",
       "      <td>2840.53</td>\n",
       "    </tr>\n",
       "    <tr>\n",
       "      <th>Close</th>\n",
       "      <td>1556.0</td>\n",
       "      <td>584.239396</td>\n",
       "      <td>525.904442</td>\n",
       "      <td>68.43</td>\n",
       "      <td>254.3200</td>\n",
       "      <td>438.855</td>\n",
       "      <td>663.4025</td>\n",
       "      <td>2958.11</td>\n",
       "    </tr>\n",
       "  </tbody>\n",
       "</table>\n",
       "</div>"
      ],
      "text/plain": [
       "        count        mean         std    min       25%      50%       75%  \\\n",
       "Open   1556.0  582.625328  523.137312  68.50  254.2875  438.600  662.4375   \n",
       "High   1556.0  597.992847  542.992855  74.56  260.3275  447.560  674.5250   \n",
       "Low    1556.0  567.851446  505.877401  65.53  248.8350  430.570  646.7350   \n",
       "Close  1556.0  584.239396  525.904442  68.43  254.3200  438.855  663.4025   \n",
       "\n",
       "           max  \n",
       "Open   2953.22  \n",
       "High   2999.91  \n",
       "Low    2840.53  \n",
       "Close  2958.11  "
      ]
     },
     "execution_count": 286,
     "metadata": {},
     "output_type": "execute_result"
    }
   ],
   "source": [
    "Bitcoin_df.describe().T"
   ]
  },
  {
   "cell_type": "code",
   "execution_count": 287,
   "id": "fa0e00e1-6bfb-4adb-9af1-a32fb597d892",
   "metadata": {},
   "outputs": [
    {
     "data": {
      "text/plain": [
       "Date           object\n",
       "Open          float64\n",
       "High          float64\n",
       "Low           float64\n",
       "Close         float64\n",
       "Volume         object\n",
       "Market Cap     object\n",
       "dtype: object"
      ]
     },
     "execution_count": 287,
     "metadata": {},
     "output_type": "execute_result"
    }
   ],
   "source": [
    "Bitcoin_df.dtypes"
   ]
  },
  {
   "cell_type": "code",
   "execution_count": 288,
   "id": "49a6ca03-5f17-40bc-bcfb-c249fa0c5924",
   "metadata": {},
   "outputs": [],
   "source": [
    "Bitcoin_df['Date'] = Bitcoin_df['Date'].astype('datetime64[ns]')"
   ]
  },
  {
   "cell_type": "code",
   "execution_count": 289,
   "id": "010c87f0-8d21-4bc7-aefb-0ce5d4d93ae1",
   "metadata": {},
   "outputs": [],
   "source": [
    "#to get the date in nanosecond you can also use pd.to_datetime"
   ]
  },
  {
   "cell_type": "code",
   "execution_count": 290,
   "id": "8c15a39e-0299-438d-bead-8b146071e2d9",
   "metadata": {},
   "outputs": [
    {
     "data": {
      "text/plain": [
       "Timestamp('2013-04-28 00:00:00')"
      ]
     },
     "execution_count": 290,
     "metadata": {},
     "output_type": "execute_result"
    }
   ],
   "source": [
    "Bitcoin_df['Date'].min()\n"
   ]
  },
  {
   "cell_type": "code",
   "execution_count": 291,
   "id": "5c36f23f-e7cb-4975-9462-148d80b50311",
   "metadata": {},
   "outputs": [
    {
     "data": {
      "text/plain": [
       "Timestamp('2017-07-31 00:00:00')"
      ]
     },
     "execution_count": 291,
     "metadata": {},
     "output_type": "execute_result"
    }
   ],
   "source": [
    "Bitcoin_df['Date'].max()"
   ]
  },
  {
   "cell_type": "code",
   "execution_count": 292,
   "id": "57c5f9f6-19ef-49da-ba8e-f16bb797a1b1",
   "metadata": {},
   "outputs": [
    {
     "data": {
      "text/plain": [
       "0      2017-07-31\n",
       "1      2017-07-30\n",
       "2      2017-07-29\n",
       "3      2017-07-28\n",
       "4      2017-07-27\n",
       "          ...    \n",
       "1551   2013-05-02\n",
       "1552   2013-05-01\n",
       "1553   2013-04-30\n",
       "1554   2013-04-29\n",
       "1555   2013-04-28\n",
       "Name: Date, Length: 1556, dtype: datetime64[ns]"
      ]
     },
     "execution_count": 292,
     "metadata": {},
     "output_type": "execute_result"
    }
   ],
   "source": [
    "Bitcoin_df['Date']"
   ]
  },
  {
   "cell_type": "code",
   "execution_count": 293,
   "id": "39f18522-3deb-4f51-829b-0f4cd2c45ffd",
   "metadata": {},
   "outputs": [
    {
     "data": {
      "text/plain": [
       "pandas._libs.tslibs.timestamps.Timestamp"
      ]
     },
     "execution_count": 293,
     "metadata": {},
     "output_type": "execute_result"
    }
   ],
   "source": [
    "type(Bitcoin_df['Date'][0])"
   ]
  },
  {
   "cell_type": "code",
   "execution_count": 294,
   "id": "39d792e2-8976-488b-b58e-78d0837dea52",
   "metadata": {},
   "outputs": [
    {
     "data": {
      "text/plain": [
       "Date          0\n",
       "Open          0\n",
       "High          0\n",
       "Low           0\n",
       "Close         0\n",
       "Volume        0\n",
       "Market Cap    0\n",
       "dtype: int64"
      ]
     },
     "execution_count": 294,
     "metadata": {},
     "output_type": "execute_result"
    }
   ],
   "source": [
    "Bitcoin_df.isnull().sum()"
   ]
  },
  {
   "cell_type": "code",
   "execution_count": 295,
   "id": "6394538f-f806-4fba-80e2-ee72358ffeb7",
   "metadata": {},
   "outputs": [
    {
     "data": {
      "text/plain": [
       "0"
      ]
     },
     "execution_count": 295,
     "metadata": {},
     "output_type": "execute_result"
    }
   ],
   "source": [
    "Bitcoin_df.duplicated().sum()"
   ]
  },
  {
   "cell_type": "code",
   "execution_count": 296,
   "id": "37feb51c-0d8a-4dd1-adfd-7ffcfc745540",
   "metadata": {},
   "outputs": [
    {
     "data": {
      "text/html": [
       "<div>\n",
       "<style scoped>\n",
       "    .dataframe tbody tr th:only-of-type {\n",
       "        vertical-align: middle;\n",
       "    }\n",
       "\n",
       "    .dataframe tbody tr th {\n",
       "        vertical-align: top;\n",
       "    }\n",
       "\n",
       "    .dataframe thead th {\n",
       "        text-align: right;\n",
       "    }\n",
       "</style>\n",
       "<table border=\"1\" class=\"dataframe\">\n",
       "  <thead>\n",
       "    <tr style=\"text-align: right;\">\n",
       "      <th></th>\n",
       "      <th>Date</th>\n",
       "      <th>Open</th>\n",
       "      <th>High</th>\n",
       "      <th>Low</th>\n",
       "      <th>Close</th>\n",
       "      <th>Volume</th>\n",
       "      <th>Market Cap</th>\n",
       "    </tr>\n",
       "  </thead>\n",
       "  <tbody>\n",
       "    <tr>\n",
       "      <th>1551</th>\n",
       "      <td>2013-05-02</td>\n",
       "      <td>116.38</td>\n",
       "      <td>125.60</td>\n",
       "      <td>92.28</td>\n",
       "      <td>105.21</td>\n",
       "      <td>-</td>\n",
       "      <td>1,292,190,000</td>\n",
       "    </tr>\n",
       "    <tr>\n",
       "      <th>1552</th>\n",
       "      <td>2013-05-01</td>\n",
       "      <td>139.00</td>\n",
       "      <td>139.89</td>\n",
       "      <td>107.72</td>\n",
       "      <td>116.99</td>\n",
       "      <td>-</td>\n",
       "      <td>1,542,820,000</td>\n",
       "    </tr>\n",
       "    <tr>\n",
       "      <th>1553</th>\n",
       "      <td>2013-04-30</td>\n",
       "      <td>144.00</td>\n",
       "      <td>146.93</td>\n",
       "      <td>134.05</td>\n",
       "      <td>139.00</td>\n",
       "      <td>-</td>\n",
       "      <td>1,597,780,000</td>\n",
       "    </tr>\n",
       "    <tr>\n",
       "      <th>1554</th>\n",
       "      <td>2013-04-29</td>\n",
       "      <td>134.44</td>\n",
       "      <td>147.49</td>\n",
       "      <td>134.00</td>\n",
       "      <td>144.54</td>\n",
       "      <td>-</td>\n",
       "      <td>1,491,160,000</td>\n",
       "    </tr>\n",
       "    <tr>\n",
       "      <th>1555</th>\n",
       "      <td>2013-04-28</td>\n",
       "      <td>135.30</td>\n",
       "      <td>135.98</td>\n",
       "      <td>132.10</td>\n",
       "      <td>134.21</td>\n",
       "      <td>-</td>\n",
       "      <td>1,500,520,000</td>\n",
       "    </tr>\n",
       "  </tbody>\n",
       "</table>\n",
       "</div>"
      ],
      "text/plain": [
       "           Date    Open    High     Low   Close Volume     Market Cap\n",
       "1551 2013-05-02  116.38  125.60   92.28  105.21      -  1,292,190,000\n",
       "1552 2013-05-01  139.00  139.89  107.72  116.99      -  1,542,820,000\n",
       "1553 2013-04-30  144.00  146.93  134.05  139.00      -  1,597,780,000\n",
       "1554 2013-04-29  134.44  147.49  134.00  144.54      -  1,491,160,000\n",
       "1555 2013-04-28  135.30  135.98  132.10  134.21      -  1,500,520,000"
      ]
     },
     "execution_count": 296,
     "metadata": {},
     "output_type": "execute_result"
    }
   ],
   "source": [
    "Bitcoin_df.tail(5)"
   ]
  },
  {
   "cell_type": "code",
   "execution_count": 297,
   "id": "ab99b84d-1271-435e-af45-28dffa5ca3e2",
   "metadata": {},
   "outputs": [
    {
     "data": {
      "text/html": [
       "<div>\n",
       "<style scoped>\n",
       "    .dataframe tbody tr th:only-of-type {\n",
       "        vertical-align: middle;\n",
       "    }\n",
       "\n",
       "    .dataframe tbody tr th {\n",
       "        vertical-align: top;\n",
       "    }\n",
       "\n",
       "    .dataframe thead th {\n",
       "        text-align: right;\n",
       "    }\n",
       "</style>\n",
       "<table border=\"1\" class=\"dataframe\">\n",
       "  <thead>\n",
       "    <tr style=\"text-align: right;\">\n",
       "      <th></th>\n",
       "      <th>Date</th>\n",
       "      <th>Open</th>\n",
       "      <th>High</th>\n",
       "      <th>Low</th>\n",
       "      <th>Close</th>\n",
       "      <th>Volume</th>\n",
       "      <th>Market Cap</th>\n",
       "    </tr>\n",
       "  </thead>\n",
       "  <tbody>\n",
       "    <tr>\n",
       "      <th>1555</th>\n",
       "      <td>2013-04-28</td>\n",
       "      <td>135.30</td>\n",
       "      <td>135.98</td>\n",
       "      <td>132.10</td>\n",
       "      <td>134.21</td>\n",
       "      <td>-</td>\n",
       "      <td>1,500,520,000</td>\n",
       "    </tr>\n",
       "    <tr>\n",
       "      <th>1554</th>\n",
       "      <td>2013-04-29</td>\n",
       "      <td>134.44</td>\n",
       "      <td>147.49</td>\n",
       "      <td>134.00</td>\n",
       "      <td>144.54</td>\n",
       "      <td>-</td>\n",
       "      <td>1,491,160,000</td>\n",
       "    </tr>\n",
       "    <tr>\n",
       "      <th>1553</th>\n",
       "      <td>2013-04-30</td>\n",
       "      <td>144.00</td>\n",
       "      <td>146.93</td>\n",
       "      <td>134.05</td>\n",
       "      <td>139.00</td>\n",
       "      <td>-</td>\n",
       "      <td>1,597,780,000</td>\n",
       "    </tr>\n",
       "    <tr>\n",
       "      <th>1552</th>\n",
       "      <td>2013-05-01</td>\n",
       "      <td>139.00</td>\n",
       "      <td>139.89</td>\n",
       "      <td>107.72</td>\n",
       "      <td>116.99</td>\n",
       "      <td>-</td>\n",
       "      <td>1,542,820,000</td>\n",
       "    </tr>\n",
       "    <tr>\n",
       "      <th>1551</th>\n",
       "      <td>2013-05-02</td>\n",
       "      <td>116.38</td>\n",
       "      <td>125.60</td>\n",
       "      <td>92.28</td>\n",
       "      <td>105.21</td>\n",
       "      <td>-</td>\n",
       "      <td>1,292,190,000</td>\n",
       "    </tr>\n",
       "    <tr>\n",
       "      <th>...</th>\n",
       "      <td>...</td>\n",
       "      <td>...</td>\n",
       "      <td>...</td>\n",
       "      <td>...</td>\n",
       "      <td>...</td>\n",
       "      <td>...</td>\n",
       "      <td>...</td>\n",
       "    </tr>\n",
       "    <tr>\n",
       "      <th>4</th>\n",
       "      <td>2017-07-27</td>\n",
       "      <td>2538.71</td>\n",
       "      <td>2693.32</td>\n",
       "      <td>2529.34</td>\n",
       "      <td>2671.78</td>\n",
       "      <td>789,104,000</td>\n",
       "      <td>41,816,500,000</td>\n",
       "    </tr>\n",
       "    <tr>\n",
       "      <th>3</th>\n",
       "      <td>2017-07-28</td>\n",
       "      <td>2679.73</td>\n",
       "      <td>2897.45</td>\n",
       "      <td>2679.73</td>\n",
       "      <td>2809.01</td>\n",
       "      <td>1,380,100,000</td>\n",
       "      <td>44,144,400,000</td>\n",
       "    </tr>\n",
       "    <tr>\n",
       "      <th>2</th>\n",
       "      <td>2017-07-29</td>\n",
       "      <td>2807.02</td>\n",
       "      <td>2808.76</td>\n",
       "      <td>2692.80</td>\n",
       "      <td>2726.45</td>\n",
       "      <td>803,746,000</td>\n",
       "      <td>46,246,700,000</td>\n",
       "    </tr>\n",
       "    <tr>\n",
       "      <th>1</th>\n",
       "      <td>2017-07-30</td>\n",
       "      <td>2724.39</td>\n",
       "      <td>2758.53</td>\n",
       "      <td>2644.85</td>\n",
       "      <td>2757.18</td>\n",
       "      <td>705,943,000</td>\n",
       "      <td>44,890,700,000</td>\n",
       "    </tr>\n",
       "    <tr>\n",
       "      <th>0</th>\n",
       "      <td>2017-07-31</td>\n",
       "      <td>2763.24</td>\n",
       "      <td>2889.62</td>\n",
       "      <td>2720.61</td>\n",
       "      <td>2875.34</td>\n",
       "      <td>860,575,000</td>\n",
       "      <td>45,535,800,000</td>\n",
       "    </tr>\n",
       "  </tbody>\n",
       "</table>\n",
       "<p>1556 rows × 7 columns</p>\n",
       "</div>"
      ],
      "text/plain": [
       "           Date     Open     High      Low    Close         Volume  \\\n",
       "1555 2013-04-28   135.30   135.98   132.10   134.21              -   \n",
       "1554 2013-04-29   134.44   147.49   134.00   144.54              -   \n",
       "1553 2013-04-30   144.00   146.93   134.05   139.00              -   \n",
       "1552 2013-05-01   139.00   139.89   107.72   116.99              -   \n",
       "1551 2013-05-02   116.38   125.60    92.28   105.21              -   \n",
       "...         ...      ...      ...      ...      ...            ...   \n",
       "4    2017-07-27  2538.71  2693.32  2529.34  2671.78    789,104,000   \n",
       "3    2017-07-28  2679.73  2897.45  2679.73  2809.01  1,380,100,000   \n",
       "2    2017-07-29  2807.02  2808.76  2692.80  2726.45    803,746,000   \n",
       "1    2017-07-30  2724.39  2758.53  2644.85  2757.18    705,943,000   \n",
       "0    2017-07-31  2763.24  2889.62  2720.61  2875.34    860,575,000   \n",
       "\n",
       "          Market Cap  \n",
       "1555   1,500,520,000  \n",
       "1554   1,491,160,000  \n",
       "1553   1,597,780,000  \n",
       "1552   1,542,820,000  \n",
       "1551   1,292,190,000  \n",
       "...              ...  \n",
       "4     41,816,500,000  \n",
       "3     44,144,400,000  \n",
       "2     46,246,700,000  \n",
       "1     44,890,700,000  \n",
       "0     45,535,800,000  \n",
       "\n",
       "[1556 rows x 7 columns]"
      ]
     },
     "execution_count": 297,
     "metadata": {},
     "output_type": "execute_result"
    }
   ],
   "source": [
    "Bitcoin_df.sort_index(ascending=False)"
   ]
  },
  {
   "cell_type": "code",
   "execution_count": 298,
   "id": "1c6a98ac-6892-469e-9606-d103a8d6637d",
   "metadata": {},
   "outputs": [],
   "source": [
    "#this is to analyze the change in price of the Bitcoin over time"
   ]
  },
  {
   "cell_type": "code",
   "execution_count": 299,
   "id": "990f436d-2a8b-4fb2-bb79-6e3f001cf100",
   "metadata": {},
   "outputs": [],
   "source": [
    "Bit = Bitcoin_df.sort_index(ascending=False).reset_index()"
   ]
  },
  {
   "cell_type": "code",
   "execution_count": 300,
   "id": "3f2264fc-3407-4903-aa6f-fd7914b12078",
   "metadata": {},
   "outputs": [],
   "source": [
    "Bit.drop('index', axis=1, inplace=True) #inplace updates the dataframe by setting the value as True"
   ]
  },
  {
   "cell_type": "code",
   "execution_count": 301,
   "id": "b2ca99a2-fe30-4069-a7ad-6feadb5d7cf2",
   "metadata": {},
   "outputs": [
    {
     "data": {
      "text/plain": [
       "Index(['Date', 'Open', 'High', 'Low', 'Close', 'Volume', 'Market Cap'], dtype='object')"
      ]
     },
     "execution_count": 301,
     "metadata": {},
     "output_type": "execute_result"
    }
   ],
   "source": [
    "Bit.columns"
   ]
  },
  {
   "cell_type": "code",
   "execution_count": 302,
   "id": "ff9cd388-250b-445b-a083-0d510ea84c29",
   "metadata": {},
   "outputs": [
    {
     "data": {
      "image/png": "[encoded data removed]",
      "text/plain": [
       "<Figure size 2000x1200 with 1 Axes>"
      ]
     },
     "metadata": {},
     "output_type": "display_data"
    },
    {
     "data": {
      "image/png": "[encoded data removed]",
      "text/plain": [
       "<Figure size 640x480 with 1 Axes>"
      ]
     },
     "metadata": {},
     "output_type": "display_data"
    },
    {
     "data": {
      "image/png": "[encoded data removed]",
      "text/plain": [
       "<Figure size 640x480 with 1 Axes>"
      ]
     },
     "metadata": {},
     "output_type": "display_data"
    },
    {
     "data": {
      "image/png": "[encoded data removed]",
      "text/plain": [
       "<Figure size 640x480 with 1 Axes>"
      ]
     },
     "metadata": {},
     "output_type": "display_data"
    }
   ],
   "source": [
    "plt.figure(figsize=(20,12))\n",
    "for index, col in enumerate(['Open', 'High', 'Low', 'Close'], 1):\n",
    "    plt.subplot(2,2,index)\n",
    "    plt.plot(Bitcoin_df['Date'], Bitcoin_df[col])\n",
    "    plt.title(col)\n",
    "    plt.tight_layout()\n",
    "    plt.show()"
   ]
  },
  {
   "cell_type": "code",
   "execution_count": 303,
   "id": "41d060bd-6013-4bf1-b5d2-2ef7ceb1530e",
   "metadata": {},
   "outputs": [],
   "source": [
    "#this analyses Bitcoin prices using the Candle-stick chart (aka ohlc) through the open, high,low, close calues of bitcoin"
   ]
  },
  {
   "cell_type": "code",
   "execution_count": 304,
   "id": "e65ab074-aca8-4073-8cb5-1c285a53697e",
   "metadata": {},
   "outputs": [
    {
     "data": {
      "text/plain": [
       "(1556, 7)"
      ]
     },
     "execution_count": 304,
     "metadata": {},
     "output_type": "execute_result"
    }
   ],
   "source": [
    "Bit.shape"
   ]
  },
  {
   "cell_type": "code",
   "execution_count": 305,
   "id": "46cbe3fa-efd4-4663-9d16-e651a088c89b",
   "metadata": {},
   "outputs": [],
   "source": [
    "#this picks the first 50 data points\n",
    "Bit_sample = Bit[0:50]"
   ]
  },
  {
   "cell_type": "code",
   "execution_count": 306,
   "id": "2e2a1c29-f65f-4150-9d7c-86f93d3d5ce6",
   "metadata": {},
   "outputs": [
    {
     "name": "stdout",
     "output_type": "stream",
     "text": [
      "Requirement already satisfied: chart_studio in c:\\users\\b-sbenjamin\\appdata\\local\\anaconda3\\lib\\site-packages (1.1.0)\n",
      "Requirement already satisfied: plotly in c:\\users\\b-sbenjamin\\appdata\\local\\anaconda3\\lib\\site-packages (from chart_studio) (5.22.0)\n",
      "Requirement already satisfied: requests in c:\\users\\b-sbenjamin\\appdata\\local\\anaconda3\\lib\\site-packages (from chart_studio) (2.32.2)\n",
      "Requirement already satisfied: retrying>=1.3.3 in c:\\users\\b-sbenjamin\\appdata\\local\\anaconda3\\lib\\site-packages (from chart_studio) (1.3.4)\n",
      "Requirement already satisfied: six in c:\\users\\b-sbenjamin\\appdata\\roaming\\python\\python312\\site-packages (from chart_studio) (1.16.0)\n",
      "Requirement already satisfied: tenacity>=6.2.0 in c:\\users\\b-sbenjamin\\appdata\\local\\anaconda3\\lib\\site-packages (from plotly->chart_studio) (8.2.2)\n",
      "Requirement already satisfied: packaging in c:\\users\\b-sbenjamin\\appdata\\roaming\\python\\python312\\site-packages (from plotly->chart_studio) (24.1)\n",
      "Requirement already satisfied: charset-normalizer<4,>=2 in c:\\users\\b-sbenjamin\\appdata\\local\\anaconda3\\lib\\site-packages (from requests->chart_studio) (2.0.4)\n",
      "Requirement already satisfied: idna<4,>=2.5 in c:\\users\\b-sbenjamin\\appdata\\local\\anaconda3\\lib\\site-packages (from requests->chart_studio) (3.7)\n",
      "Requirement already satisfied: urllib3<3,>=1.21.1 in c:\\users\\b-sbenjamin\\appdata\\local\\anaconda3\\lib\\site-packages (from requests->chart_studio) (2.2.2)\n",
      "Requirement already satisfied: certifi>=2017.4.17 in c:\\users\\b-sbenjamin\\appdata\\local\\anaconda3\\lib\\site-packages (from requests->chart_studio) (2024.7.4)\n",
      "Requirement already satisfied: plotly in c:\\users\\b-sbenjamin\\appdata\\local\\anaconda3\\lib\\site-packages (5.22.0)\n",
      "Requirement already satisfied: tenacity>=6.2.0 in c:\\users\\b-sbenjamin\\appdata\\local\\anaconda3\\lib\\site-packages (from plotly) (8.2.2)\n",
      "Requirement already satisfied: packaging in c:\\users\\b-sbenjamin\\appdata\\roaming\\python\\python312\\site-packages (from plotly) (24.1)\n"
     ]
    }
   ],
   "source": [
    "!pip install chart_studio\n",
    "!pip install plotly"
   ]
  },
  {
   "cell_type": "code",
   "execution_count": 307,
   "id": "fb9cf794-2709-4b89-8e91-5a9caca6bb2d",
   "metadata": {},
   "outputs": [],
   "source": [
    "import chart_studio.plotly as py\n",
    "import plotly.graph_objs as go\n",
    "import plotly.express as px\n",
    "from plotly.offline import download_plotlyjs, init_notebook_mode , plot , iplot"
   ]
  },
  {
   "cell_type": "code",
   "execution_count": 308,
   "id": "48d6c8c4-a503-4e01-bf9b-e6283391d847",
   "metadata": {},
   "outputs": [
    {
     "data": {
      "text/html": [
       "        <script type=\"text/javascript\">\n",
       "        window.PlotlyConfig = {MathJaxConfig: 'local'};\n",
       "        if (window.MathJax && window.MathJax.Hub && window.MathJax.Hub.Config) {window.MathJax.Hub.Config({SVG: {font: \"STIX-Web\"}});}\n",
       "        if (typeof require !== 'undefined') {\n",
       "        require.undef(\"plotly\");\n",
       "        requirejs.config({\n",
       "            paths: {\n",
       "                'plotly': ['https://cdn.plot.ly/plotly-2.32.0.min']\n",
       "            }\n",
       "        });\n",
       "        require(['plotly'], function(Plotly) {\n",
       "            window._Plotly = Plotly;\n",
       "        });\n",
       "        }\n",
       "        </script>\n",
       "        "
      ]
     },
     "metadata": {},
     "output_type": "display_data"
    }
   ],
   "source": [
    "init_notebook_mode(connected=True)"
   ]
  },
  {
   "cell_type": "code",
   "execution_count": 309,
   "id": "746e69e3-21e7-4a76-8ca9-8cb643c0083a",
   "metadata": {},
   "outputs": [],
   "source": [
    "trace = go.Candlestick(x=Bit_sample['Date'],\n",
    "              high = Bit_sample['High'],\n",
    "              open = Bit_sample['Open'],\n",
    "              close = Bit_sample['Close'],\n",
    "              low = Bit_sample['Low'])"
   ]
  },
  {
   "cell_type": "code",
   "execution_count": 310,
   "id": "be9bf3e3-b7cb-4d84-bb4e-d688766e60ee",
   "metadata": {},
   "outputs": [],
   "source": [
    "candle_Bit = [trace]\n",
    "layout = {\n",
    "   'title':'Bitcoin Historical Price',\n",
    "    'xaxis':{'title':'Date'}  \n",
    "}"
   ]
  },
  {
   "cell_type": "code",
   "execution_count": 311,
   "id": "8ec7fcd1-99c7-4860-b3e6-a1479cc030ab",
   "metadata": {},
   "outputs": [
    {
     "data": {
      "application/vnd.plotly.v1+json": {
       "config": {
        "plotlyServerURL": "https://plot.ly"
       },
       "data": [
        {
         "close": [
          134.21,
          144.54,
          139,
          116.99,
          105.21,
          97.75,
          112.5,
          115.91,
          112.3,
          111.5,
          113.57,
          112.67,
          117.2,
          115.24,
          115,
          117.98,
          111.5,
          114.22,
          118.76,
          123.02,
          123.5,
          121.99,
          122,
          122.88,
          123.89,
          126.7,
          133.2,
          131.98,
          133.48,
          129.75,
          129,
          132.3,
          128.8,
          129,
          129.3,
          122.29,
          122.22,
          121.42,
          121.65,
          118,
          111.5,
          108.3,
          100,
          106.35,
          108.9,
          108.15,
          104,
          99.98,
          99.99,
          99.51
         ],
         "high": [
          135.98,
          147.49,
          146.93,
          139.89,
          125.6,
          108.13,
          115,
          118.8,
          124.66,
          113.44,
          115.78,
          113.46,
          122,
          118.68,
          117.45,
          118.7,
          119.8,
          115.81,
          118.76,
          125.3,
          125.25,
          124.5,
          123.62,
          123,
          124,
          126.93,
          133.85,
          133.22,
          136,
          135.47,
          130.58,
          132.59,
          132.25,
          129.9,
          129.78,
          129.4,
          122.5,
          123.84,
          123.47,
          123.1,
          119,
          111.42,
          108.99,
          110.1,
          109.6,
          111.79,
          110.3,
          104.7,
          103.7,
          101.6
         ],
         "low": [
          132.1,
          134,
          134.05,
          107.72,
          92.28,
          79.1,
          92.5,
          107.14,
          106.64,
          97.7,
          109.6,
          109.26,
          111.55,
          113.01,
          113.44,
          114.5,
          110.25,
          103.5,
          112.2,
          116.57,
          122.3,
          119.57,
          120.12,
          121.21,
          122,
          123.1,
          125.72,
          128.9,
          130.62,
          124.7,
          125.6,
          127.66,
          127,
          126.4,
          127.2,
          115.05,
          116,
          119.1,
          119.9,
          117.25,
          106.42,
          107.3,
          88.5,
          95,
          104,
          106.73,
          100.53,
          98,
          98,
          98.95
         ],
         "open": [
          135.3,
          134.44,
          144,
          139,
          116.38,
          106.25,
          98.1,
          112.9,
          115.98,
          112.25,
          109.6,
          113.2,
          112.8,
          117.7,
          115.64,
          114.82,
          117.98,
          111.4,
          114.22,
          118.21,
          123.5,
          123.21,
          122.5,
          122.02,
          122.89,
          123.8,
          126.3,
          133.1,
          131.99,
          133.5,
          129.77,
          129,
          132.25,
          128.8,
          128.81,
          129.3,
          122.5,
          120.74,
          121.4,
          121.9,
          118.97,
          111,
          107.89,
          100.44,
          106.35,
          109,
          108.78,
          103.95,
          100,
          99.8
         ],
         "type": "candlestick",
         "x": [
          "2013-04-28T00:00:00",
          "2013-04-29T00:00:00",
          "2013-04-30T00:00:00",
          "2013-05-01T00:00:00",
          "2013-05-02T00:00:00",
          "2013-05-03T00:00:00",
          "2013-05-04T00:00:00",
          "2013-05-05T00:00:00",
          "2013-05-06T00:00:00",
          "2013-05-07T00:00:00",
          "2013-05-08T00:00:00",
          "2013-05-09T00:00:00",
          "2013-05-10T00:00:00",
          "2013-05-11T00:00:00",
          "2013-05-12T00:00:00",
          "2013-05-13T00:00:00",
          "2013-05-14T00:00:00",
          "2013-05-15T00:00:00",
          "2013-05-16T00:00:00",
          "2013-05-17T00:00:00",
          "2013-05-18T00:00:00",
          "2013-05-19T00:00:00",
          "2013-05-20T00:00:00",
          "2013-05-21T00:00:00",
          "2013-05-22T00:00:00",
          "2013-05-23T00:00:00",
          "2013-05-24T00:00:00",
          "2013-05-25T00:00:00",
          "2013-05-26T00:00:00",
          "2013-05-27T00:00:00",
          "2013-05-28T00:00:00",
          "2013-05-29T00:00:00",
          "2013-05-30T00:00:00",
          "2013-05-31T00:00:00",
          "2013-06-01T00:00:00",
          "2013-06-02T00:00:00",
          "2013-06-03T00:00:00",
          "2013-06-04T00:00:00",
          "2013-06-05T00:00:00",
          "2013-06-06T00:00:00",
          "2013-06-07T00:00:00",
          "2013-06-08T00:00:00",
          "2013-06-09T00:00:00",
          "2013-06-10T00:00:00",
          "2013-06-11T00:00:00",
          "2013-06-12T00:00:00",
          "2013-06-13T00:00:00",
          "2013-06-14T00:00:00",
          "2013-06-15T00:00:00",
          "2013-06-16T00:00:00"
         ]
        }
       ],
       "layout": {
        "autosize": true,
        "template": {
         "data": {
          "bar": [
           {
            "error_x": {
             "color": "#2a3f5f"
            },
            "error_y": {
             "color": "#2a3f5f"
            },
            "marker": {
             "line": {
              "color": "#E5ECF6",
              "width": 0.5
             },
             "pattern": {
              "fillmode": "overlay",
              "size": 10,
              "solidity": 0.2
             }
            },
            "type": "bar"
           }
          ],
          "barpolar": [
           {
            "marker": {
             "line": {
              "color": "#E5ECF6",
              "width": 0.5
             },
             "pattern": {
              "fillmode": "overlay",
              "size": 10,
              "solidity": 0.2
             }
            },
            "type": "barpolar"
           }
          ],
          "carpet": [
           {
            "aaxis": {
             "endlinecolor": "#2a3f5f",
             "gridcolor": "white",
             "linecolor": "white",
             "minorgridcolor": "white",
             "startlinecolor": "#2a3f5f"
            },
            "baxis": {
             "endlinecolor": "#2a3f5f",
             "gridcolor": "white",
             "linecolor": "white",
             "minorgridcolor": "white",
             "startlinecolor": "#2a3f5f"
            },
            "type": "carpet"
           }
          ],
          "choropleth": [
           {
            "colorbar": {
             "outlinewidth": 0,
             "ticks": ""
            },
            "type": "choropleth"
           }
          ],
          "contour": [
           {
            "colorbar": {
             "outlinewidth": 0,
             "ticks": ""
            },
            "colorscale": [
             [
              0,
              "#0d0887"
             ],
             [
              0.1111111111111111,
              "#46039f"
             ],
             [
              0.2222222222222222,
              "#7201a8"
             ],
             [
              0.3333333333333333,
              "#9c179e"
             ],
             [
              0.4444444444444444,
              "#bd3786"
             ],
             [
              0.5555555555555556,
              "#d8576b"
             ],
             [
              0.6666666666666666,
              "#ed7953"
             ],
             [
              0.7777777777777778,
              "#fb9f3a"
             ],
             [
              0.8888888888888888,
              "#fdca26"
             ],
             [
              1,
              "#f0f921"
             ]
            ],
            "type": "contour"
           }
          ],
          "contourcarpet": [
           {
            "colorbar": {
             "outlinewidth": 0,
             "ticks": ""
            },
            "type": "contourcarpet"
           }
          ],
          "heatmap": [
           {
            "colorbar": {
             "outlinewidth": 0,
             "ticks": ""
            },
            "colorscale": [
             [
              0,
              "#0d0887"
             ],
             [
              0.1111111111111111,
              "#46039f"
             ],
             [
              0.2222222222222222,
              "#7201a8"
             ],
             [
              0.3333333333333333,
              "#9c179e"
             ],
             [
              0.4444444444444444,
              "#bd3786"
             ],
             [
              0.5555555555555556,
              "#d8576b"
             ],
             [
              0.6666666666666666,
              "#ed7953"
             ],
             [
              0.7777777777777778,
              "#fb9f3a"
             ],
             [
              0.8888888888888888,
              "#fdca26"
             ],
             [
              1,
              "#f0f921"
             ]
            ],
            "type": "heatmap"
           }
          ],
          "heatmapgl": [
           {
            "colorbar": {
             "outlinewidth": 0,
             "ticks": ""
            },
            "colorscale": [
             [
              0,
              "#0d0887"
             ],
             [
              0.1111111111111111,
              "#46039f"
             ],
             [
              0.2222222222222222,
              "#7201a8"
             ],
             [
              0.3333333333333333,
              "#9c179e"
             ],
             [
              0.4444444444444444,
              "#bd3786"
             ],
             [
              0.5555555555555556,
              "#d8576b"
             ],
             [
              0.6666666666666666,
              "#ed7953"
             ],
             [
              0.7777777777777778,
              "#fb9f3a"
             ],
             [
              0.8888888888888888,
              "#fdca26"
             ],
             [
              1,
              "#f0f921"
             ]
            ],
            "type": "heatmapgl"
           }
          ],
          "histogram": [
           {
            "marker": {
             "pattern": {
              "fillmode": "overlay",
              "size": 10,
              "solidity": 0.2
             }
            },
            "type": "histogram"
           }
          ],
          "histogram2d": [
           {
            "colorbar": {
             "outlinewidth": 0,
             "ticks": ""
            },
            "colorscale": [
             [
              0,
              "#0d0887"
             ],
             [
              0.1111111111111111,
              "#46039f"
             ],
             [
              0.2222222222222222,
              "#7201a8"
             ],
             [
              0.3333333333333333,
              "#9c179e"
             ],
             [
              0.4444444444444444,
              "#bd3786"
             ],
             [
              0.5555555555555556,
              "#d8576b"
             ],
             [
              0.6666666666666666,
              "#ed7953"
             ],
             [
              0.7777777777777778,
              "#fb9f3a"
             ],
             [
              0.8888888888888888,
              "#fdca26"
             ],
             [
              1,
              "#f0f921"
             ]
            ],
            "type": "histogram2d"
           }
          ],
          "histogram2dcontour": [
           {
            "colorbar": {
             "outlinewidth": 0,
             "ticks": ""
            },
            "colorscale": [
             [
              0,
              "#0d0887"
             ],
             [
              0.1111111111111111,
              "#46039f"
             ],
             [
              0.2222222222222222,
              "#7201a8"
             ],
             [
              0.3333333333333333,
              "#9c179e"
             ],
             [
              0.4444444444444444,
              "#bd3786"
             ],
             [
              0.5555555555555556,
              "#d8576b"
             ],
             [
              0.6666666666666666,
              "#ed7953"
             ],
             [
              0.7777777777777778,
              "#fb9f3a"
             ],
             [
              0.8888888888888888,
              "#fdca26"
             ],
             [
              1,
              "#f0f921"
             ]
            ],
            "type": "histogram2dcontour"
           }
          ],
          "mesh3d": [
           {
            "colorbar": {
             "outlinewidth": 0,
             "ticks": ""
            },
            "type": "mesh3d"
           }
          ],
          "parcoords": [
           {
            "line": {
             "colorbar": {
              "outlinewidth": 0,
              "ticks": ""
             }
            },
            "type": "parcoords"
           }
          ],
          "pie": [
           {
            "automargin": true,
            "type": "pie"
           }
          ],
          "scatter": [
           {
            "fillpattern": {
             "fillmode": "overlay",
             "size": 10,
             "solidity": 0.2
            },
            "type": "scatter"
           }
          ],
          "scatter3d": [
           {
            "line": {
             "colorbar": {
              "outlinewidth": 0,
              "ticks": ""
             }
            },
            "marker": {
             "colorbar": {
              "outlinewidth": 0,
              "ticks": ""
             }
            },
            "type": "scatter3d"
           }
          ],
          "scattercarpet": [
           {
            "marker": {
             "colorbar": {
              "outlinewidth": 0,
              "ticks": ""
             }
            },
            "type": "scattercarpet"
           }
          ],
          "scattergeo": [
           {
            "marker": {
             "colorbar": {
              "outlinewidth": 0,
              "ticks": ""
             }
            },
            "type": "scattergeo"
           }
          ],
          "scattergl": [
           {
            "marker": {
             "colorbar": {
              "outlinewidth": 0,
              "ticks": ""
             }
            },
            "type": "scattergl"
           }
          ],
          "scattermapbox": [
           {
            "marker": {
             "colorbar": {
              "outlinewidth": 0,
              "ticks": ""
             }
            },
            "type": "scattermapbox"
           }
          ],
          "scatterpolar": [
           {
            "marker": {
             "colorbar": {
              "outlinewidth": 0,
              "ticks": ""
             }
            },
            "type": "scatterpolar"
           }
          ],
          "scatterpolargl": [
           {
            "marker": {
             "colorbar": {
              "outlinewidth": 0,
              "ticks": ""
             }
            },
            "type": "scatterpolargl"
           }
          ],
          "scatterternary": [
           {
            "marker": {
             "colorbar": {
              "outlinewidth": 0,
              "ticks": ""
             }
            },
            "type": "scatterternary"
           }
          ],
          "surface": [
           {
            "colorbar": {
             "outlinewidth": 0,
             "ticks": ""
            },
            "colorscale": [
             [
              0,
              "#0d0887"
             ],
             [
              0.1111111111111111,
              "#46039f"
             ],
             [
              0.2222222222222222,
              "#7201a8"
             ],
             [
              0.3333333333333333,
              "#9c179e"
             ],
             [
              0.4444444444444444,
              "#bd3786"
             ],
             [
              0.5555555555555556,
              "#d8576b"
             ],
             [
              0.6666666666666666,
              "#ed7953"
             ],
             [
              0.7777777777777778,
              "#fb9f3a"
             ],
             [
              0.8888888888888888,
              "#fdca26"
             ],
             [
              1,
              "#f0f921"
             ]
            ],
            "type": "surface"
           }
          ],
          "table": [
           {
            "cells": {
             "fill": {
              "color": "#EBF0F8"
             },
             "line": {
              "color": "white"
             }
            },
            "header": {
             "fill": {
              "color": "#C8D4E3"
             },
             "line": {
              "color": "white"
             }
            },
            "type": "table"
           }
          ]
         },
         "layout": {
          "annotationdefaults": {
           "arrowcolor": "#2a3f5f",
           "arrowhead": 0,
           "arrowwidth": 1
          },
          "autotypenumbers": "strict",
          "coloraxis": {
           "colorbar": {
            "outlinewidth": 0,
            "ticks": ""
           }
          },
          "colorscale": {
           "diverging": [
            [
             0,
             "#8e0152"
            ],
            [
             0.1,
             "#c51b7d"
            ],
            [
             0.2,
             "#de77ae"
            ],
            [
             0.3,
             "#f1b6da"
            ],
            [
             0.4,
             "#fde0ef"
            ],
            [
             0.5,
             "#f7f7f7"
            ],
            [
             0.6,
             "#e6f5d0"
            ],
            [
             0.7,
             "#b8e186"
            ],
            [
             0.8,
             "#7fbc41"
            ],
            [
             0.9,
             "#4d9221"
            ],
            [
             1,
             "#276419"
            ]
           ],
           "sequential": [
            [
             0,
             "#0d0887"
            ],
            [
             0.1111111111111111,
             "#46039f"
            ],
            [
             0.2222222222222222,
             "#7201a8"
            ],
            [
             0.3333333333333333,
             "#9c179e"
            ],
            [
             0.4444444444444444,
             "#bd3786"
            ],
            [
             0.5555555555555556,
             "#d8576b"
            ],
            [
             0.6666666666666666,
             "#ed7953"
            ],
            [
             0.7777777777777778,
             "#fb9f3a"
            ],
            [
             0.8888888888888888,
             "#fdca26"
            ],
            [
             1,
             "#f0f921"
            ]
           ],
           "sequentialminus": [
            [
             0,
             "#0d0887"
            ],
            [
             0.1111111111111111,
             "#46039f"
            ],
            [
             0.2222222222222222,
             "#7201a8"
            ],
            [
             0.3333333333333333,
             "#9c179e"
            ],
            [
             0.4444444444444444,
             "#bd3786"
            ],
            [
             0.5555555555555556,
             "#d8576b"
            ],
            [
             0.6666666666666666,
             "#ed7953"
            ],
            [
             0.7777777777777778,
             "#fb9f3a"
            ],
            [
             0.8888888888888888,
             "#fdca26"
            ],
            [
             1,
             "#f0f921"
            ]
           ]
          },
          "colorway": [
           "#636efa",
           "#EF553B",
           "#00cc96",
           "#ab63fa",
           "#FFA15A",
           "#19d3f3",
           "#FF6692",
           "#B6E880",
           "#FF97FF",
           "#FECB52"
          ],
          "font": {
           "color": "#2a3f5f"
          },
          "geo": {
           "bgcolor": "white",
           "lakecolor": "white",
           "landcolor": "#E5ECF6",
           "showlakes": true,
           "showland": true,
           "subunitcolor": "white"
          },
          "hoverlabel": {
           "align": "left"
          },
          "hovermode": "closest",
          "mapbox": {
           "style": "light"
          },
          "paper_bgcolor": "white",
          "plot_bgcolor": "#E5ECF6",
          "polar": {
           "angularaxis": {
            "gridcolor": "white",
            "linecolor": "white",
            "ticks": ""
           },
           "bgcolor": "#E5ECF6",
           "radialaxis": {
            "gridcolor": "white",
            "linecolor": "white",
            "ticks": ""
           }
          },
          "scene": {
           "xaxis": {
            "backgroundcolor": "#E5ECF6",
            "gridcolor": "white",
            "gridwidth": 2,
            "linecolor": "white",
            "showbackground": true,
            "ticks": "",
            "zerolinecolor": "white"
           },
           "yaxis": {
            "backgroundcolor": "#E5ECF6",
            "gridcolor": "white",
            "gridwidth": 2,
            "linecolor": "white",
            "showbackground": true,
            "ticks": "",
            "zerolinecolor": "white"
           },
           "zaxis": {
            "backgroundcolor": "#E5ECF6",
            "gridcolor": "white",
            "gridwidth": 2,
            "linecolor": "white",
            "showbackground": true,
            "ticks": "",
            "zerolinecolor": "white"
           }
          },
          "shapedefaults": {
           "line": {
            "color": "#2a3f5f"
           }
          },
          "ternary": {
           "aaxis": {
            "gridcolor": "white",
            "linecolor": "white",
            "ticks": ""
           },
           "baxis": {
            "gridcolor": "white",
            "linecolor": "white",
            "ticks": ""
           },
           "bgcolor": "#E5ECF6",
           "caxis": {
            "gridcolor": "white",
            "linecolor": "white",
            "ticks": ""
           }
          },
          "title": {
           "x": 0.05
          },
          "xaxis": {
           "automargin": true,
           "gridcolor": "white",
           "linecolor": "white",
           "ticks": "",
           "title": {
            "standoff": 15
           },
           "zerolinecolor": "white",
           "zerolinewidth": 2
          },
          "yaxis": {
           "automargin": true,
           "gridcolor": "white",
           "linecolor": "white",
           "ticks": "",
           "title": {
            "standoff": 15
           },
           "zerolinecolor": "white",
           "zerolinewidth": 2
          }
         }
        },
        "xaxis": {
         "autorange": true,
         "range": [
          "2013-04-27 12:00",
          "2013-06-16 12:00"
         ],
         "rangeslider": {
          "autorange": true,
          "range": [
           "2013-04-27 12:00",
           "2013-06-16 12:00"
          ],
          "yaxis": {
           "_template": null,
           "rangemode": "match"
          }
         },
         "type": "date"
        },
        "yaxis": {
         "autorange": true,
         "range": [
          75.30055555555555,
          151.28944444444446
         ]
        }
       }
      },
      "image/png": "[encoded data removed]",
      "text/html": [
       "<div>                            <div id=\"d62a4eab-de32-41ce-8a1b-574a4022dceb\" class=\"plotly-graph-div\" style=\"height:525px; width:100%;\"></div>            <script type=\"text/javascript\">                require([\"plotly\"], function(Plotly) {                    window.PLOTLYENV=window.PLOTLYENV || {};                                    if (document.getElementById(\"d62a4eab-de32-41ce-8a1b-574a4022dceb\")) {                    Plotly.newPlot(                        \"d62a4eab-de32-41ce-8a1b-574a4022dceb\",                        [{\"close\":[134.21,144.54,139.0,116.99,105.21,97.75,112.5,115.91,112.3,111.5,113.57,112.67,117.2,115.24,115.0,117.98,111.5,114.22,118.76,123.02,123.5,121.99,122.0,122.88,123.89,126.7,133.2,131.98,133.48,129.75,129.0,132.3,128.8,129.0,129.3,122.29,122.22,121.42,121.65,118.0,111.5,108.3,100.0,106.35,108.9,108.15,104.0,99.98,99.99,99.51],\"high\":[135.98,147.49,146.93,139.89,125.6,108.13,115.0,118.8,124.66,113.44,115.78,113.46,122.0,118.68,117.45,118.7,119.8,115.81,118.76,125.3,125.25,124.5,123.62,123.0,124.0,126.93,133.85,133.22,136.0,135.47,130.58,132.59,132.25,129.9,129.78,129.4,122.5,123.84,123.47,123.1,119.0,111.42,108.99,110.1,109.6,111.79,110.3,104.7,103.7,101.6],\"low\":[132.1,134.0,134.05,107.72,92.28,79.1,92.5,107.14,106.64,97.7,109.6,109.26,111.55,113.01,113.44,114.5,110.25,103.5,112.2,116.57,122.3,119.57,120.12,121.21,122.0,123.1,125.72,128.9,130.62,124.7,125.6,127.66,127.0,126.4,127.2,115.05,116.0,119.1,119.9,117.25,106.42,107.3,88.5,95.0,104.0,106.73,100.53,98.0,98.0,98.95],\"open\":[135.3,134.44,144.0,139.0,116.38,106.25,98.1,112.9,115.98,112.25,109.6,113.2,112.8,117.7,115.64,114.82,117.98,111.4,114.22,118.21,123.5,123.21,122.5,122.02,122.89,123.8,126.3,133.1,131.99,133.5,129.77,129.0,132.25,128.8,128.81,129.3,122.5,120.74,121.4,121.9,118.97,111.0,107.89,100.44,106.35,109.0,108.78,103.95,100.0,99.8],\"x\":[\"2013-04-28T00:00:00\",\"2013-04-29T00:00:00\",\"2013-04-30T00:00:00\",\"2013-05-01T00:00:00\",\"2013-05-02T00:00:00\",\"2013-05-03T00:00:00\",\"2013-05-04T00:00:00\",\"2013-05-05T00:00:00\",\"2013-05-06T00:00:00\",\"2013-05-07T00:00:00\",\"2013-05-08T00:00:00\",\"2013-05-09T00:00:00\",\"2013-05-10T00:00:00\",\"2013-05-11T00:00:00\",\"2013-05-12T00:00:00\",\"2013-05-13T00:00:00\",\"2013-05-14T00:00:00\",\"2013-05-15T00:00:00\",\"2013-05-16T00:00:00\",\"2013-05-17T00:00:00\",\"2013-05-18T00:00:00\",\"2013-05-19T00:00:00\",\"2013-05-20T00:00:00\",\"2013-05-21T00:00:00\",\"2013-05-22T00:00:00\",\"2013-05-23T00:00:00\",\"2013-05-24T00:00:00\",\"2013-05-25T00:00:00\",\"2013-05-26T00:00:00\",\"2013-05-27T00:00:00\",\"2013-05-28T00:00:00\",\"2013-05-29T00:00:00\",\"2013-05-30T00:00:00\",\"2013-05-31T00:00:00\",\"2013-06-01T00:00:00\",\"2013-06-02T00:00:00\",\"2013-06-03T00:00:00\",\"2013-06-04T00:00:00\",\"2013-06-05T00:00:00\",\"2013-06-06T00:00:00\",\"2013-06-07T00:00:00\",\"2013-06-08T00:00:00\",\"2013-06-09T00:00:00\",\"2013-06-10T00:00:00\",\"2013-06-11T00:00:00\",\"2013-06-12T00:00:00\",\"2013-06-13T00:00:00\",\"2013-06-14T00:00:00\",\"2013-06-15T00:00:00\",\"2013-06-16T00:00:00\"],\"type\":\"candlestick\"}],                        {\"template\":{\"data\":{\"histogram2dcontour\":[{\"type\":\"histogram2dcontour\",\"colorbar\":{\"outlinewidth\":0,\"ticks\":\"\"},\"colorscale\":[[0.0,\"#0d0887\"],[0.1111111111111111,\"#46039f\"],[0.2222222222222222,\"#7201a8\"],[0.3333333333333333,\"#9c179e\"],[0.4444444444444444,\"#bd3786\"],[0.5555555555555556,\"#d8576b\"],[0.6666666666666666,\"#ed7953\"],[0.7777777777777778,\"#fb9f3a\"],[0.8888888888888888,\"#fdca26\"],[1.0,\"#f0f921\"]]}],\"choropleth\":[{\"type\":\"choropleth\",\"colorbar\":{\"outlinewidth\":0,\"ticks\":\"\"}}],\"histogram2d\":[{\"type\":\"histogram2d\",\"colorbar\":{\"outlinewidth\":0,\"ticks\":\"\"},\"colorscale\":[[0.0,\"#0d0887\"],[0.1111111111111111,\"#46039f\"],[0.2222222222222222,\"#7201a8\"],[0.3333333333333333,\"#9c179e\"],[0.4444444444444444,\"#bd3786\"],[0.5555555555555556,\"#d8576b\"],[0.6666666666666666,\"#ed7953\"],[0.7777777777777778,\"#fb9f3a\"],[0.8888888888888888,\"#fdca26\"],[1.0,\"#f0f921\"]]}],\"heatmap\":[{\"type\":\"heatmap\",\"colorbar\":{\"outlinewidth\":0,\"ticks\":\"\"},\"colorscale\":[[0.0,\"#0d0887\"],[0.1111111111111111,\"#46039f\"],[0.2222222222222222,\"#7201a8\"],[0.3333333333333333,\"#9c179e\"],[0.4444444444444444,\"#bd3786\"],[0.5555555555555556,\"#d8576b\"],[0.6666666666666666,\"#ed7953\"],[0.7777777777777778,\"#fb9f3a\"],[0.8888888888888888,\"#fdca26\"],[1.0,\"#f0f921\"]]}],\"heatmapgl\":[{\"type\":\"heatmapgl\",\"colorbar\":{\"outlinewidth\":0,\"ticks\":\"\"},\"colorscale\":[[0.0,\"#0d0887\"],[0.1111111111111111,\"#46039f\"],[0.2222222222222222,\"#7201a8\"],[0.3333333333333333,\"#9c179e\"],[0.4444444444444444,\"#bd3786\"],[0.5555555555555556,\"#d8576b\"],[0.6666666666666666,\"#ed7953\"],[0.7777777777777778,\"#fb9f3a\"],[0.8888888888888888,\"#fdca26\"],[1.0,\"#f0f921\"]]}],\"contourcarpet\":[{\"type\":\"contourcarpet\",\"colorbar\":{\"outlinewidth\":0,\"ticks\":\"\"}}],\"contour\":[{\"type\":\"contour\",\"colorbar\":{\"outlinewidth\":0,\"ticks\":\"\"},\"colorscale\":[[0.0,\"#0d0887\"],[0.1111111111111111,\"#46039f\"],[0.2222222222222222,\"#7201a8\"],[0.3333333333333333,\"#9c179e\"],[0.4444444444444444,\"#bd3786\"],[0.5555555555555556,\"#d8576b\"],[0.6666666666666666,\"#ed7953\"],[0.7777777777777778,\"#fb9f3a\"],[0.8888888888888888,\"#fdca26\"],[1.0,\"#f0f921\"]]}],\"surface\":[{\"type\":\"surface\",\"colorbar\":{\"outlinewidth\":0,\"ticks\":\"\"},\"colorscale\":[[0.0,\"#0d0887\"],[0.1111111111111111,\"#46039f\"],[0.2222222222222222,\"#7201a8\"],[0.3333333333333333,\"#9c179e\"],[0.4444444444444444,\"#bd3786\"],[0.5555555555555556,\"#d8576b\"],[0.6666666666666666,\"#ed7953\"],[0.7777777777777778,\"#fb9f3a\"],[0.8888888888888888,\"#fdca26\"],[1.0,\"#f0f921\"]]}],\"mesh3d\":[{\"type\":\"mesh3d\",\"colorbar\":{\"outlinewidth\":0,\"ticks\":\"\"}}],\"scatter\":[{\"fillpattern\":{\"fillmode\":\"overlay\",\"size\":10,\"solidity\":0.2},\"type\":\"scatter\"}],\"parcoords\":[{\"type\":\"parcoords\",\"line\":{\"colorbar\":{\"outlinewidth\":0,\"ticks\":\"\"}}}],\"scatterpolargl\":[{\"type\":\"scatterpolargl\",\"marker\":{\"colorbar\":{\"outlinewidth\":0,\"ticks\":\"\"}}}],\"bar\":[{\"error_x\":{\"color\":\"#2a3f5f\"},\"error_y\":{\"color\":\"#2a3f5f\"},\"marker\":{\"line\":{\"color\":\"#E5ECF6\",\"width\":0.5},\"pattern\":{\"fillmode\":\"overlay\",\"size\":10,\"solidity\":0.2}},\"type\":\"bar\"}],\"scattergeo\":[{\"type\":\"scattergeo\",\"marker\":{\"colorbar\":{\"outlinewidth\":0,\"ticks\":\"\"}}}],\"scatterpolar\":[{\"type\":\"scatterpolar\",\"marker\":{\"colorbar\":{\"outlinewidth\":0,\"ticks\":\"\"}}}],\"histogram\":[{\"marker\":{\"pattern\":{\"fillmode\":\"overlay\",\"size\":10,\"solidity\":0.2}},\"type\":\"histogram\"}],\"scattergl\":[{\"type\":\"scattergl\",\"marker\":{\"colorbar\":{\"outlinewidth\":0,\"ticks\":\"\"}}}],\"scatter3d\":[{\"type\":\"scatter3d\",\"line\":{\"colorbar\":{\"outlinewidth\":0,\"ticks\":\"\"}},\"marker\":{\"colorbar\":{\"outlinewidth\":0,\"ticks\":\"\"}}}],\"scattermapbox\":[{\"type\":\"scattermapbox\",\"marker\":{\"colorbar\":{\"outlinewidth\":0,\"ticks\":\"\"}}}],\"scatterternary\":[{\"type\":\"scatterternary\",\"marker\":{\"colorbar\":{\"outlinewidth\":0,\"ticks\":\"\"}}}],\"scattercarpet\":[{\"type\":\"scattercarpet\",\"marker\":{\"colorbar\":{\"outlinewidth\":0,\"ticks\":\"\"}}}],\"carpet\":[{\"aaxis\":{\"endlinecolor\":\"#2a3f5f\",\"gridcolor\":\"white\",\"linecolor\":\"white\",\"minorgridcolor\":\"white\",\"startlinecolor\":\"#2a3f5f\"},\"baxis\":{\"endlinecolor\":\"#2a3f5f\",\"gridcolor\":\"white\",\"linecolor\":\"white\",\"minorgridcolor\":\"white\",\"startlinecolor\":\"#2a3f5f\"},\"type\":\"carpet\"}],\"table\":[{\"cells\":{\"fill\":{\"color\":\"#EBF0F8\"},\"line\":{\"color\":\"white\"}},\"header\":{\"fill\":{\"color\":\"#C8D4E3\"},\"line\":{\"color\":\"white\"}},\"type\":\"table\"}],\"barpolar\":[{\"marker\":{\"line\":{\"color\":\"#E5ECF6\",\"width\":0.5},\"pattern\":{\"fillmode\":\"overlay\",\"size\":10,\"solidity\":0.2}},\"type\":\"barpolar\"}],\"pie\":[{\"automargin\":true,\"type\":\"pie\"}]},\"layout\":{\"autotypenumbers\":\"strict\",\"colorway\":[\"#636efa\",\"#EF553B\",\"#00cc96\",\"#ab63fa\",\"#FFA15A\",\"#19d3f3\",\"#FF6692\",\"#B6E880\",\"#FF97FF\",\"#FECB52\"],\"font\":{\"color\":\"#2a3f5f\"},\"hovermode\":\"closest\",\"hoverlabel\":{\"align\":\"left\"},\"paper_bgcolor\":\"white\",\"plot_bgcolor\":\"#E5ECF6\",\"polar\":{\"bgcolor\":\"#E5ECF6\",\"angularaxis\":{\"gridcolor\":\"white\",\"linecolor\":\"white\",\"ticks\":\"\"},\"radialaxis\":{\"gridcolor\":\"white\",\"linecolor\":\"white\",\"ticks\":\"\"}},\"ternary\":{\"bgcolor\":\"#E5ECF6\",\"aaxis\":{\"gridcolor\":\"white\",\"linecolor\":\"white\",\"ticks\":\"\"},\"baxis\":{\"gridcolor\":\"white\",\"linecolor\":\"white\",\"ticks\":\"\"},\"caxis\":{\"gridcolor\":\"white\",\"linecolor\":\"white\",\"ticks\":\"\"}},\"coloraxis\":{\"colorbar\":{\"outlinewidth\":0,\"ticks\":\"\"}},\"colorscale\":{\"sequential\":[[0.0,\"#0d0887\"],[0.1111111111111111,\"#46039f\"],[0.2222222222222222,\"#7201a8\"],[0.3333333333333333,\"#9c179e\"],[0.4444444444444444,\"#bd3786\"],[0.5555555555555556,\"#d8576b\"],[0.6666666666666666,\"#ed7953\"],[0.7777777777777778,\"#fb9f3a\"],[0.8888888888888888,\"#fdca26\"],[1.0,\"#f0f921\"]],\"sequentialminus\":[[0.0,\"#0d0887\"],[0.1111111111111111,\"#46039f\"],[0.2222222222222222,\"#7201a8\"],[0.3333333333333333,\"#9c179e\"],[0.4444444444444444,\"#bd3786\"],[0.5555555555555556,\"#d8576b\"],[0.6666666666666666,\"#ed7953\"],[0.7777777777777778,\"#fb9f3a\"],[0.8888888888888888,\"#fdca26\"],[1.0,\"#f0f921\"]],\"diverging\":[[0,\"#8e0152\"],[0.1,\"#c51b7d\"],[0.2,\"#de77ae\"],[0.3,\"#f1b6da\"],[0.4,\"#fde0ef\"],[0.5,\"#f7f7f7\"],[0.6,\"#e6f5d0\"],[0.7,\"#b8e186\"],[0.8,\"#7fbc41\"],[0.9,\"#4d9221\"],[1,\"#276419\"]]},\"xaxis\":{\"gridcolor\":\"white\",\"linecolor\":\"white\",\"ticks\":\"\",\"title\":{\"standoff\":15},\"zerolinecolor\":\"white\",\"automargin\":true,\"zerolinewidth\":2},\"yaxis\":{\"gridcolor\":\"white\",\"linecolor\":\"white\",\"ticks\":\"\",\"title\":{\"standoff\":15},\"zerolinecolor\":\"white\",\"automargin\":true,\"zerolinewidth\":2},\"scene\":{\"xaxis\":{\"backgroundcolor\":\"#E5ECF6\",\"gridcolor\":\"white\",\"linecolor\":\"white\",\"showbackground\":true,\"ticks\":\"\",\"zerolinecolor\":\"white\",\"gridwidth\":2},\"yaxis\":{\"backgroundcolor\":\"#E5ECF6\",\"gridcolor\":\"white\",\"linecolor\":\"white\",\"showbackground\":true,\"ticks\":\"\",\"zerolinecolor\":\"white\",\"gridwidth\":2},\"zaxis\":{\"backgroundcolor\":\"#E5ECF6\",\"gridcolor\":\"white\",\"linecolor\":\"white\",\"showbackground\":true,\"ticks\":\"\",\"zerolinecolor\":\"white\",\"gridwidth\":2}},\"shapedefaults\":{\"line\":{\"color\":\"#2a3f5f\"}},\"annotationdefaults\":{\"arrowcolor\":\"#2a3f5f\",\"arrowhead\":0,\"arrowwidth\":1},\"geo\":{\"bgcolor\":\"white\",\"landcolor\":\"#E5ECF6\",\"subunitcolor\":\"white\",\"showland\":true,\"showlakes\":true,\"lakecolor\":\"white\"},\"title\":{\"x\":0.05},\"mapbox\":{\"style\":\"light\"}}}},                        {\"responsive\": true}                    ).then(function(){\n",
       "                            \n",
       "var gd = document.getElementById('d62a4eab-de32-41ce-8a1b-574a4022dceb');\n",
       "var x = new MutationObserver(function (mutations, observer) {{\n",
       "        var display = window.getComputedStyle(gd).display;\n",
       "        if (!display || display === 'none') {{\n",
       "            console.log([gd, 'removed!']);\n",
       "            Plotly.purge(gd);\n",
       "            observer.disconnect();\n",
       "        }}\n",
       "}});\n",
       "\n",
       "// Listen for the removal of the full notebook cells\n",
       "var notebookContainer = gd.closest('#notebook-container');\n",
       "if (notebookContainer) {{\n",
       "    x.observe(notebookContainer, {childList: true});\n",
       "}}\n",
       "\n",
       "// Listen for the clearing of the current output cell\n",
       "var outputEl = gd.closest('.output');\n",
       "if (outputEl) {{\n",
       "    x.observe(outputEl, {childList: true});\n",
       "}}\n",
       "\n",
       "                        })                };                });            </script>        </div>"
      ]
     },
     "metadata": {},
     "output_type": "display_data"
    }
   ],
   "source": [
    "go.Figure(data = candle_Bit)"
   ]
  },
  {
   "cell_type": "code",
   "execution_count": 312,
   "id": "74463f69-940e-4497-aa50-31f4262cff96",
   "metadata": {},
   "outputs": [],
   "source": [
    "#if you do not want the slider/slide option/or you want to disable it"
   ]
  },
  {
   "cell_type": "code",
   "execution_count": 317,
   "id": "ddd492ce-d157-4882-91f7-4a193c3229af",
   "metadata": {},
   "outputs": [
    {
     "data": {
      "application/vnd.plotly.v1+json": {
       "config": {
        "plotlyServerURL": "https://plot.ly"
       },
       "data": [
        {
         "close": [
          134.21,
          144.54,
          139,
          116.99,
          105.21,
          97.75,
          112.5,
          115.91,
          112.3,
          111.5,
          113.57,
          112.67,
          117.2,
          115.24,
          115,
          117.98,
          111.5,
          114.22,
          118.76,
          123.02,
          123.5,
          121.99,
          122,
          122.88,
          123.89,
          126.7,
          133.2,
          131.98,
          133.48,
          129.75,
          129,
          132.3,
          128.8,
          129,
          129.3,
          122.29,
          122.22,
          121.42,
          121.65,
          118,
          111.5,
          108.3,
          100,
          106.35,
          108.9,
          108.15,
          104,
          99.98,
          99.99,
          99.51
         ],
         "high": [
          135.98,
          147.49,
          146.93,
          139.89,
          125.6,
          108.13,
          115,
          118.8,
          124.66,
          113.44,
          115.78,
          113.46,
          122,
          118.68,
          117.45,
          118.7,
          119.8,
          115.81,
          118.76,
          125.3,
          125.25,
          124.5,
          123.62,
          123,
          124,
          126.93,
          133.85,
          133.22,
          136,
          135.47,
          130.58,
          132.59,
          132.25,
          129.9,
          129.78,
          129.4,
          122.5,
          123.84,
          123.47,
          123.1,
          119,
          111.42,
          108.99,
          110.1,
          109.6,
          111.79,
          110.3,
          104.7,
          103.7,
          101.6
         ],
         "low": [
          132.1,
          134,
          134.05,
          107.72,
          92.28,
          79.1,
          92.5,
          107.14,
          106.64,
          97.7,
          109.6,
          109.26,
          111.55,
          113.01,
          113.44,
          114.5,
          110.25,
          103.5,
          112.2,
          116.57,
          122.3,
          119.57,
          120.12,
          121.21,
          122,
          123.1,
          125.72,
          128.9,
          130.62,
          124.7,
          125.6,
          127.66,
          127,
          126.4,
          127.2,
          115.05,
          116,
          119.1,
          119.9,
          117.25,
          106.42,
          107.3,
          88.5,
          95,
          104,
          106.73,
          100.53,
          98,
          98,
          98.95
         ],
         "open": [
          135.3,
          134.44,
          144,
          139,
          116.38,
          106.25,
          98.1,
          112.9,
          115.98,
          112.25,
          109.6,
          113.2,
          112.8,
          117.7,
          115.64,
          114.82,
          117.98,
          111.4,
          114.22,
          118.21,
          123.5,
          123.21,
          122.5,
          122.02,
          122.89,
          123.8,
          126.3,
          133.1,
          131.99,
          133.5,
          129.77,
          129,
          132.25,
          128.8,
          128.81,
          129.3,
          122.5,
          120.74,
          121.4,
          121.9,
          118.97,
          111,
          107.89,
          100.44,
          106.35,
          109,
          108.78,
          103.95,
          100,
          99.8
         ],
         "type": "candlestick",
         "x": [
          "2013-04-28T00:00:00",
          "2013-04-29T00:00:00",
          "2013-04-30T00:00:00",
          "2013-05-01T00:00:00",
          "2013-05-02T00:00:00",
          "2013-05-03T00:00:00",
          "2013-05-04T00:00:00",
          "2013-05-05T00:00:00",
          "2013-05-06T00:00:00",
          "2013-05-07T00:00:00",
          "2013-05-08T00:00:00",
          "2013-05-09T00:00:00",
          "2013-05-10T00:00:00",
          "2013-05-11T00:00:00",
          "2013-05-12T00:00:00",
          "2013-05-13T00:00:00",
          "2013-05-14T00:00:00",
          "2013-05-15T00:00:00",
          "2013-05-16T00:00:00",
          "2013-05-17T00:00:00",
          "2013-05-18T00:00:00",
          "2013-05-19T00:00:00",
          "2013-05-20T00:00:00",
          "2013-05-21T00:00:00",
          "2013-05-22T00:00:00",
          "2013-05-23T00:00:00",
          "2013-05-24T00:00:00",
          "2013-05-25T00:00:00",
          "2013-05-26T00:00:00",
          "2013-05-27T00:00:00",
          "2013-05-28T00:00:00",
          "2013-05-29T00:00:00",
          "2013-05-30T00:00:00",
          "2013-05-31T00:00:00",
          "2013-06-01T00:00:00",
          "2013-06-02T00:00:00",
          "2013-06-03T00:00:00",
          "2013-06-04T00:00:00",
          "2013-06-05T00:00:00",
          "2013-06-06T00:00:00",
          "2013-06-07T00:00:00",
          "2013-06-08T00:00:00",
          "2013-06-09T00:00:00",
          "2013-06-10T00:00:00",
          "2013-06-11T00:00:00",
          "2013-06-12T00:00:00",
          "2013-06-13T00:00:00",
          "2013-06-14T00:00:00",
          "2013-06-15T00:00:00",
          "2013-06-16T00:00:00"
         ]
        }
       ],
       "layout": {
        "autosize": true,
        "template": {
         "data": {
          "bar": [
           {
            "error_x": {
             "color": "#2a3f5f"
            },
            "error_y": {
             "color": "#2a3f5f"
            },
            "marker": {
             "line": {
              "color": "#E5ECF6",
              "width": 0.5
             },
             "pattern": {
              "fillmode": "overlay",
              "size": 10,
              "solidity": 0.2
             }
            },
            "type": "bar"
           }
          ],
          "barpolar": [
           {
            "marker": {
             "line": {
              "color": "#E5ECF6",
              "width": 0.5
             },
             "pattern": {
              "fillmode": "overlay",
              "size": 10,
              "solidity": 0.2
             }
            },
            "type": "barpolar"
           }
          ],
          "carpet": [
           {
            "aaxis": {
             "endlinecolor": "#2a3f5f",
             "gridcolor": "white",
             "linecolor": "white",
             "minorgridcolor": "white",
             "startlinecolor": "#2a3f5f"
            },
            "baxis": {
             "endlinecolor": "#2a3f5f",
             "gridcolor": "white",
             "linecolor": "white",
             "minorgridcolor": "white",
             "startlinecolor": "#2a3f5f"
            },
            "type": "carpet"
           }
          ],
          "choropleth": [
           {
            "colorbar": {
             "outlinewidth": 0,
             "ticks": ""
            },
            "type": "choropleth"
           }
          ],
          "contour": [
           {
            "colorbar": {
             "outlinewidth": 0,
             "ticks": ""
            },
            "colorscale": [
             [
              0,
              "#0d0887"
             ],
             [
              0.1111111111111111,
              "#46039f"
             ],
             [
              0.2222222222222222,
              "#7201a8"
             ],
             [
              0.3333333333333333,
              "#9c179e"
             ],
             [
              0.4444444444444444,
              "#bd3786"
             ],
             [
              0.5555555555555556,
              "#d8576b"
             ],
             [
              0.6666666666666666,
              "#ed7953"
             ],
             [
              0.7777777777777778,
              "#fb9f3a"
             ],
             [
              0.8888888888888888,
              "#fdca26"
             ],
             [
              1,
              "#f0f921"
             ]
            ],
            "type": "contour"
           }
          ],
          "contourcarpet": [
           {
            "colorbar": {
             "outlinewidth": 0,
             "ticks": ""
            },
            "type": "contourcarpet"
           }
          ],
          "heatmap": [
           {
            "colorbar": {
             "outlinewidth": 0,
             "ticks": ""
            },
            "colorscale": [
             [
              0,
              "#0d0887"
             ],
             [
              0.1111111111111111,
              "#46039f"
             ],
             [
              0.2222222222222222,
              "#7201a8"
             ],
             [
              0.3333333333333333,
              "#9c179e"
             ],
             [
              0.4444444444444444,
              "#bd3786"
             ],
             [
              0.5555555555555556,
              "#d8576b"
             ],
             [
              0.6666666666666666,
              "#ed7953"
             ],
             [
              0.7777777777777778,
              "#fb9f3a"
             ],
             [
              0.8888888888888888,
              "#fdca26"
             ],
             [
              1,
              "#f0f921"
             ]
            ],
            "type": "heatmap"
           }
          ],
          "heatmapgl": [
           {
            "colorbar": {
             "outlinewidth": 0,
             "ticks": ""
            },
            "colorscale": [
             [
              0,
              "#0d0887"
             ],
             [
              0.1111111111111111,
              "#46039f"
             ],
             [
              0.2222222222222222,
              "#7201a8"
             ],
             [
              0.3333333333333333,
              "#9c179e"
             ],
             [
              0.4444444444444444,
              "#bd3786"
             ],
             [
              0.5555555555555556,
              "#d8576b"
             ],
             [
              0.6666666666666666,
              "#ed7953"
             ],
             [
              0.7777777777777778,
              "#fb9f3a"
             ],
             [
              0.8888888888888888,
              "#fdca26"
             ],
             [
              1,
              "#f0f921"
             ]
            ],
            "type": "heatmapgl"
           }
          ],
          "histogram": [
           {
            "marker": {
             "pattern": {
              "fillmode": "overlay",
              "size": 10,
              "solidity": 0.2
             }
            },
            "type": "histogram"
           }
          ],
          "histogram2d": [
           {
            "colorbar": {
             "outlinewidth": 0,
             "ticks": ""
            },
            "colorscale": [
             [
              0,
              "#0d0887"
             ],
             [
              0.1111111111111111,
              "#46039f"
             ],
             [
              0.2222222222222222,
              "#7201a8"
             ],
             [
              0.3333333333333333,
              "#9c179e"
             ],
             [
              0.4444444444444444,
              "#bd3786"
             ],
             [
              0.5555555555555556,
              "#d8576b"
             ],
             [
              0.6666666666666666,
              "#ed7953"
             ],
             [
              0.7777777777777778,
              "#fb9f3a"
             ],
             [
              0.8888888888888888,
              "#fdca26"
             ],
             [
              1,
              "#f0f921"
             ]
            ],
            "type": "histogram2d"
           }
          ],
          "histogram2dcontour": [
           {
            "colorbar": {
             "outlinewidth": 0,
             "ticks": ""
            },
            "colorscale": [
             [
              0,
              "#0d0887"
             ],
             [
              0.1111111111111111,
              "#46039f"
             ],
             [
              0.2222222222222222,
              "#7201a8"
             ],
             [
              0.3333333333333333,
              "#9c179e"
             ],
             [
              0.4444444444444444,
              "#bd3786"
             ],
             [
              0.5555555555555556,
              "#d8576b"
             ],
             [
              0.6666666666666666,
              "#ed7953"
             ],
             [
              0.7777777777777778,
              "#fb9f3a"
             ],
             [
              0.8888888888888888,
              "#fdca26"
             ],
             [
              1,
              "#f0f921"
             ]
            ],
            "type": "histogram2dcontour"
           }
          ],
          "mesh3d": [
           {
            "colorbar": {
             "outlinewidth": 0,
             "ticks": ""
            },
            "type": "mesh3d"
           }
          ],
          "parcoords": [
           {
            "line": {
             "colorbar": {
              "outlinewidth": 0,
              "ticks": ""
             }
            },
            "type": "parcoords"
           }
          ],
          "pie": [
           {
            "automargin": true,
            "type": "pie"
           }
          ],
          "scatter": [
           {
            "fillpattern": {
             "fillmode": "overlay",
             "size": 10,
             "solidity": 0.2
            },
            "type": "scatter"
           }
          ],
          "scatter3d": [
           {
            "line": {
             "colorbar": {
              "outlinewidth": 0,
              "ticks": ""
             }
            },
            "marker": {
             "colorbar": {
              "outlinewidth": 0,
              "ticks": ""
             }
            },
            "type": "scatter3d"
           }
          ],
          "scattercarpet": [
           {
            "marker": {
             "colorbar": {
              "outlinewidth": 0,
              "ticks": ""
             }
            },
            "type": "scattercarpet"
           }
          ],
          "scattergeo": [
           {
            "marker": {
             "colorbar": {
              "outlinewidth": 0,
              "ticks": ""
             }
            },
            "type": "scattergeo"
           }
          ],
          "scattergl": [
           {
            "marker": {
             "colorbar": {
              "outlinewidth": 0,
              "ticks": ""
             }
            },
            "type": "scattergl"
           }
          ],
          "scattermapbox": [
           {
            "marker": {
             "colorbar": {
              "outlinewidth": 0,
              "ticks": ""
             }
            },
            "type": "scattermapbox"
           }
          ],
          "scatterpolar": [
           {
            "marker": {
             "colorbar": {
              "outlinewidth": 0,
              "ticks": ""
             }
            },
            "type": "scatterpolar"
           }
          ],
          "scatterpolargl": [
           {
            "marker": {
             "colorbar": {
              "outlinewidth": 0,
              "ticks": ""
             }
            },
            "type": "scatterpolargl"
           }
          ],
          "scatterternary": [
           {
            "marker": {
             "colorbar": {
              "outlinewidth": 0,
              "ticks": ""
             }
            },
            "type": "scatterternary"
           }
          ],
          "surface": [
           {
            "colorbar": {
             "outlinewidth": 0,
             "ticks": ""
            },
            "colorscale": [
             [
              0,
              "#0d0887"
             ],
             [
              0.1111111111111111,
              "#46039f"
             ],
             [
              0.2222222222222222,
              "#7201a8"
             ],
             [
              0.3333333333333333,
              "#9c179e"
             ],
             [
              0.4444444444444444,
              "#bd3786"
             ],
             [
              0.5555555555555556,
              "#d8576b"
             ],
             [
              0.6666666666666666,
              "#ed7953"
             ],
             [
              0.7777777777777778,
              "#fb9f3a"
             ],
             [
              0.8888888888888888,
              "#fdca26"
             ],
             [
              1,
              "#f0f921"
             ]
            ],
            "type": "surface"
           }
          ],
          "table": [
           {
            "cells": {
             "fill": {
              "color": "#EBF0F8"
             },
             "line": {
              "color": "white"
             }
            },
            "header": {
             "fill": {
              "color": "#C8D4E3"
             },
             "line": {
              "color": "white"
             }
            },
            "type": "table"
           }
          ]
         },
         "layout": {
          "annotationdefaults": {
           "arrowcolor": "#2a3f5f",
           "arrowhead": 0,
           "arrowwidth": 1
          },
          "autotypenumbers": "strict",
          "coloraxis": {
           "colorbar": {
            "outlinewidth": 0,
            "ticks": ""
           }
          },
          "colorscale": {
           "diverging": [
            [
             0,
             "#8e0152"
            ],
            [
             0.1,
             "#c51b7d"
            ],
            [
             0.2,
             "#de77ae"
            ],
            [
             0.3,
             "#f1b6da"
            ],
            [
             0.4,
             "#fde0ef"
            ],
            [
             0.5,
             "#f7f7f7"
            ],
            [
             0.6,
             "#e6f5d0"
            ],
            [
             0.7,
             "#b8e186"
            ],
            [
             0.8,
             "#7fbc41"
            ],
            [
             0.9,
             "#4d9221"
            ],
            [
             1,
             "#276419"
            ]
           ],
           "sequential": [
            [
             0,
             "#0d0887"
            ],
            [
             0.1111111111111111,
             "#46039f"
            ],
            [
             0.2222222222222222,
             "#7201a8"
            ],
            [
             0.3333333333333333,
             "#9c179e"
            ],
            [
             0.4444444444444444,
             "#bd3786"
            ],
            [
             0.5555555555555556,
             "#d8576b"
            ],
            [
             0.6666666666666666,
             "#ed7953"
            ],
            [
             0.7777777777777778,
             "#fb9f3a"
            ],
            [
             0.8888888888888888,
             "#fdca26"
            ],
            [
             1,
             "#f0f921"
            ]
           ],
           "sequentialminus": [
            [
             0,
             "#0d0887"
            ],
            [
             0.1111111111111111,
             "#46039f"
            ],
            [
             0.2222222222222222,
             "#7201a8"
            ],
            [
             0.3333333333333333,
             "#9c179e"
            ],
            [
             0.4444444444444444,
             "#bd3786"
            ],
            [
             0.5555555555555556,
             "#d8576b"
            ],
            [
             0.6666666666666666,
             "#ed7953"
            ],
            [
             0.7777777777777778,
             "#fb9f3a"
            ],
            [
             0.8888888888888888,
             "#fdca26"
            ],
            [
             1,
             "#f0f921"
            ]
           ]
          },
          "colorway": [
           "#636efa",
           "#EF553B",
           "#00cc96",
           "#ab63fa",
           "#FFA15A",
           "#19d3f3",
           "#FF6692",
           "#B6E880",
           "#FF97FF",
           "#FECB52"
          ],
          "font": {
           "color": "#2a3f5f"
          },
          "geo": {
           "bgcolor": "white",
           "lakecolor": "white",
           "landcolor": "#E5ECF6",
           "showlakes": true,
           "showland": true,
           "subunitcolor": "white"
          },
          "hoverlabel": {
           "align": "left"
          },
          "hovermode": "closest",
          "mapbox": {
           "style": "light"
          },
          "paper_bgcolor": "white",
          "plot_bgcolor": "#E5ECF6",
          "polar": {
           "angularaxis": {
            "gridcolor": "white",
            "linecolor": "white",
            "ticks": ""
           },
           "bgcolor": "#E5ECF6",
           "radialaxis": {
            "gridcolor": "white",
            "linecolor": "white",
            "ticks": ""
           }
          },
          "scene": {
           "xaxis": {
            "backgroundcolor": "#E5ECF6",
            "gridcolor": "white",
            "gridwidth": 2,
            "linecolor": "white",
            "showbackground": true,
            "ticks": "",
            "zerolinecolor": "white"
           },
           "yaxis": {
            "backgroundcolor": "#E5ECF6",
            "gridcolor": "white",
            "gridwidth": 2,
            "linecolor": "white",
            "showbackground": true,
            "ticks": "",
            "zerolinecolor": "white"
           },
           "zaxis": {
            "backgroundcolor": "#E5ECF6",
            "gridcolor": "white",
            "gridwidth": 2,
            "linecolor": "white",
            "showbackground": true,
            "ticks": "",
            "zerolinecolor": "white"
           }
          },
          "shapedefaults": {
           "line": {
            "color": "#2a3f5f"
           }
          },
          "ternary": {
           "aaxis": {
            "gridcolor": "white",
            "linecolor": "white",
            "ticks": ""
           },
           "baxis": {
            "gridcolor": "white",
            "linecolor": "white",
            "ticks": ""
           },
           "bgcolor": "#E5ECF6",
           "caxis": {
            "gridcolor": "white",
            "linecolor": "white",
            "ticks": ""
           }
          },
          "title": {
           "x": 0.05
          },
          "xaxis": {
           "automargin": true,
           "gridcolor": "white",
           "linecolor": "white",
           "ticks": "",
           "title": {
            "standoff": 15
           },
           "zerolinecolor": "white",
           "zerolinewidth": 2
          },
          "yaxis": {
           "automargin": true,
           "gridcolor": "white",
           "linecolor": "white",
           "ticks": "",
           "title": {
            "standoff": 15
           },
           "zerolinecolor": "white",
           "zerolinewidth": 2
          }
         }
        },
        "title": {
         "text": "Bitcoin Historical Price"
        },
        "xaxis": {
         "autorange": true,
         "range": [
          "2013-04-27 12:00",
          "2013-06-16 12:00"
         ],
         "rangeslider": {
          "visible": false,
          "yaxis": {}
         },
         "title": {
          "text": "Date"
         },
         "type": "date"
        },
        "yaxis": {
         "autorange": true,
         "range": [
          75.30055555555555,
          151.28944444444446
         ]
        }
       }
      },
      "image/png": "[encoded data removed]",
      "text/html": [
       "<div>                            <div id=\"0e705614-5f4c-4113-bfad-9927630ef130\" class=\"plotly-graph-div\" style=\"height:525px; width:100%;\"></div>            <script type=\"text/javascript\">                require([\"plotly\"], function(Plotly) {                    window.PLOTLYENV=window.PLOTLYENV || {};                                    if (document.getElementById(\"0e705614-5f4c-4113-bfad-9927630ef130\")) {                    Plotly.newPlot(                        \"0e705614-5f4c-4113-bfad-9927630ef130\",                        [{\"close\":[134.21,144.54,139.0,116.99,105.21,97.75,112.5,115.91,112.3,111.5,113.57,112.67,117.2,115.24,115.0,117.98,111.5,114.22,118.76,123.02,123.5,121.99,122.0,122.88,123.89,126.7,133.2,131.98,133.48,129.75,129.0,132.3,128.8,129.0,129.3,122.29,122.22,121.42,121.65,118.0,111.5,108.3,100.0,106.35,108.9,108.15,104.0,99.98,99.99,99.51],\"high\":[135.98,147.49,146.93,139.89,125.6,108.13,115.0,118.8,124.66,113.44,115.78,113.46,122.0,118.68,117.45,118.7,119.8,115.81,118.76,125.3,125.25,124.5,123.62,123.0,124.0,126.93,133.85,133.22,136.0,135.47,130.58,132.59,132.25,129.9,129.78,129.4,122.5,123.84,123.47,123.1,119.0,111.42,108.99,110.1,109.6,111.79,110.3,104.7,103.7,101.6],\"low\":[132.1,134.0,134.05,107.72,92.28,79.1,92.5,107.14,106.64,97.7,109.6,109.26,111.55,113.01,113.44,114.5,110.25,103.5,112.2,116.57,122.3,119.57,120.12,121.21,122.0,123.1,125.72,128.9,130.62,124.7,125.6,127.66,127.0,126.4,127.2,115.05,116.0,119.1,119.9,117.25,106.42,107.3,88.5,95.0,104.0,106.73,100.53,98.0,98.0,98.95],\"open\":[135.3,134.44,144.0,139.0,116.38,106.25,98.1,112.9,115.98,112.25,109.6,113.2,112.8,117.7,115.64,114.82,117.98,111.4,114.22,118.21,123.5,123.21,122.5,122.02,122.89,123.8,126.3,133.1,131.99,133.5,129.77,129.0,132.25,128.8,128.81,129.3,122.5,120.74,121.4,121.9,118.97,111.0,107.89,100.44,106.35,109.0,108.78,103.95,100.0,99.8],\"x\":[\"2013-04-28T00:00:00\",\"2013-04-29T00:00:00\",\"2013-04-30T00:00:00\",\"2013-05-01T00:00:00\",\"2013-05-02T00:00:00\",\"2013-05-03T00:00:00\",\"2013-05-04T00:00:00\",\"2013-05-05T00:00:00\",\"2013-05-06T00:00:00\",\"2013-05-07T00:00:00\",\"2013-05-08T00:00:00\",\"2013-05-09T00:00:00\",\"2013-05-10T00:00:00\",\"2013-05-11T00:00:00\",\"2013-05-12T00:00:00\",\"2013-05-13T00:00:00\",\"2013-05-14T00:00:00\",\"2013-05-15T00:00:00\",\"2013-05-16T00:00:00\",\"2013-05-17T00:00:00\",\"2013-05-18T00:00:00\",\"2013-05-19T00:00:00\",\"2013-05-20T00:00:00\",\"2013-05-21T00:00:00\",\"2013-05-22T00:00:00\",\"2013-05-23T00:00:00\",\"2013-05-24T00:00:00\",\"2013-05-25T00:00:00\",\"2013-05-26T00:00:00\",\"2013-05-27T00:00:00\",\"2013-05-28T00:00:00\",\"2013-05-29T00:00:00\",\"2013-05-30T00:00:00\",\"2013-05-31T00:00:00\",\"2013-06-01T00:00:00\",\"2013-06-02T00:00:00\",\"2013-06-03T00:00:00\",\"2013-06-04T00:00:00\",\"2013-06-05T00:00:00\",\"2013-06-06T00:00:00\",\"2013-06-07T00:00:00\",\"2013-06-08T00:00:00\",\"2013-06-09T00:00:00\",\"2013-06-10T00:00:00\",\"2013-06-11T00:00:00\",\"2013-06-12T00:00:00\",\"2013-06-13T00:00:00\",\"2013-06-14T00:00:00\",\"2013-06-15T00:00:00\",\"2013-06-16T00:00:00\"],\"type\":\"candlestick\"}],                        {\"title\":{\"text\":\"Bitcoin Historical Price\"},\"xaxis\":{\"title\":{\"text\":\"Date\"},\"rangeslider\":{\"visible\":false}},\"template\":{\"data\":{\"histogram2dcontour\":[{\"type\":\"histogram2dcontour\",\"colorbar\":{\"outlinewidth\":0,\"ticks\":\"\"},\"colorscale\":[[0.0,\"#0d0887\"],[0.1111111111111111,\"#46039f\"],[0.2222222222222222,\"#7201a8\"],[0.3333333333333333,\"#9c179e\"],[0.4444444444444444,\"#bd3786\"],[0.5555555555555556,\"#d8576b\"],[0.6666666666666666,\"#ed7953\"],[0.7777777777777778,\"#fb9f3a\"],[0.8888888888888888,\"#fdca26\"],[1.0,\"#f0f921\"]]}],\"choropleth\":[{\"type\":\"choropleth\",\"colorbar\":{\"outlinewidth\":0,\"ticks\":\"\"}}],\"histogram2d\":[{\"type\":\"histogram2d\",\"colorbar\":{\"outlinewidth\":0,\"ticks\":\"\"},\"colorscale\":[[0.0,\"#0d0887\"],[0.1111111111111111,\"#46039f\"],[0.2222222222222222,\"#7201a8\"],[0.3333333333333333,\"#9c179e\"],[0.4444444444444444,\"#bd3786\"],[0.5555555555555556,\"#d8576b\"],[0.6666666666666666,\"#ed7953\"],[0.7777777777777778,\"#fb9f3a\"],[0.8888888888888888,\"#fdca26\"],[1.0,\"#f0f921\"]]}],\"heatmap\":[{\"type\":\"heatmap\",\"colorbar\":{\"outlinewidth\":0,\"ticks\":\"\"},\"colorscale\":[[0.0,\"#0d0887\"],[0.1111111111111111,\"#46039f\"],[0.2222222222222222,\"#7201a8\"],[0.3333333333333333,\"#9c179e\"],[0.4444444444444444,\"#bd3786\"],[0.5555555555555556,\"#d8576b\"],[0.6666666666666666,\"#ed7953\"],[0.7777777777777778,\"#fb9f3a\"],[0.8888888888888888,\"#fdca26\"],[1.0,\"#f0f921\"]]}],\"heatmapgl\":[{\"type\":\"heatmapgl\",\"colorbar\":{\"outlinewidth\":0,\"ticks\":\"\"},\"colorscale\":[[0.0,\"#0d0887\"],[0.1111111111111111,\"#46039f\"],[0.2222222222222222,\"#7201a8\"],[0.3333333333333333,\"#9c179e\"],[0.4444444444444444,\"#bd3786\"],[0.5555555555555556,\"#d8576b\"],[0.6666666666666666,\"#ed7953\"],[0.7777777777777778,\"#fb9f3a\"],[0.8888888888888888,\"#fdca26\"],[1.0,\"#f0f921\"]]}],\"contourcarpet\":[{\"type\":\"contourcarpet\",\"colorbar\":{\"outlinewidth\":0,\"ticks\":\"\"}}],\"contour\":[{\"type\":\"contour\",\"colorbar\":{\"outlinewidth\":0,\"ticks\":\"\"},\"colorscale\":[[0.0,\"#0d0887\"],[0.1111111111111111,\"#46039f\"],[0.2222222222222222,\"#7201a8\"],[0.3333333333333333,\"#9c179e\"],[0.4444444444444444,\"#bd3786\"],[0.5555555555555556,\"#d8576b\"],[0.6666666666666666,\"#ed7953\"],[0.7777777777777778,\"#fb9f3a\"],[0.8888888888888888,\"#fdca26\"],[1.0,\"#f0f921\"]]}],\"surface\":[{\"type\":\"surface\",\"colorbar\":{\"outlinewidth\":0,\"ticks\":\"\"},\"colorscale\":[[0.0,\"#0d0887\"],[0.1111111111111111,\"#46039f\"],[0.2222222222222222,\"#7201a8\"],[0.3333333333333333,\"#9c179e\"],[0.4444444444444444,\"#bd3786\"],[0.5555555555555556,\"#d8576b\"],[0.6666666666666666,\"#ed7953\"],[0.7777777777777778,\"#fb9f3a\"],[0.8888888888888888,\"#fdca26\"],[1.0,\"#f0f921\"]]}],\"mesh3d\":[{\"type\":\"mesh3d\",\"colorbar\":{\"outlinewidth\":0,\"ticks\":\"\"}}],\"scatter\":[{\"fillpattern\":{\"fillmode\":\"overlay\",\"size\":10,\"solidity\":0.2},\"type\":\"scatter\"}],\"parcoords\":[{\"type\":\"parcoords\",\"line\":{\"colorbar\":{\"outlinewidth\":0,\"ticks\":\"\"}}}],\"scatterpolargl\":[{\"type\":\"scatterpolargl\",\"marker\":{\"colorbar\":{\"outlinewidth\":0,\"ticks\":\"\"}}}],\"bar\":[{\"error_x\":{\"color\":\"#2a3f5f\"},\"error_y\":{\"color\":\"#2a3f5f\"},\"marker\":{\"line\":{\"color\":\"#E5ECF6\",\"width\":0.5},\"pattern\":{\"fillmode\":\"overlay\",\"size\":10,\"solidity\":0.2}},\"type\":\"bar\"}],\"scattergeo\":[{\"type\":\"scattergeo\",\"marker\":{\"colorbar\":{\"outlinewidth\":0,\"ticks\":\"\"}}}],\"scatterpolar\":[{\"type\":\"scatterpolar\",\"marker\":{\"colorbar\":{\"outlinewidth\":0,\"ticks\":\"\"}}}],\"histogram\":[{\"marker\":{\"pattern\":{\"fillmode\":\"overlay\",\"size\":10,\"solidity\":0.2}},\"type\":\"histogram\"}],\"scattergl\":[{\"type\":\"scattergl\",\"marker\":{\"colorbar\":{\"outlinewidth\":0,\"ticks\":\"\"}}}],\"scatter3d\":[{\"type\":\"scatter3d\",\"line\":{\"colorbar\":{\"outlinewidth\":0,\"ticks\":\"\"}},\"marker\":{\"colorbar\":{\"outlinewidth\":0,\"ticks\":\"\"}}}],\"scattermapbox\":[{\"type\":\"scattermapbox\",\"marker\":{\"colorbar\":{\"outlinewidth\":0,\"ticks\":\"\"}}}],\"scatterternary\":[{\"type\":\"scatterternary\",\"marker\":{\"colorbar\":{\"outlinewidth\":0,\"ticks\":\"\"}}}],\"scattercarpet\":[{\"type\":\"scattercarpet\",\"marker\":{\"colorbar\":{\"outlinewidth\":0,\"ticks\":\"\"}}}],\"carpet\":[{\"aaxis\":{\"endlinecolor\":\"#2a3f5f\",\"gridcolor\":\"white\",\"linecolor\":\"white\",\"minorgridcolor\":\"white\",\"startlinecolor\":\"#2a3f5f\"},\"baxis\":{\"endlinecolor\":\"#2a3f5f\",\"gridcolor\":\"white\",\"linecolor\":\"white\",\"minorgridcolor\":\"white\",\"startlinecolor\":\"#2a3f5f\"},\"type\":\"carpet\"}],\"table\":[{\"cells\":{\"fill\":{\"color\":\"#EBF0F8\"},\"line\":{\"color\":\"white\"}},\"header\":{\"fill\":{\"color\":\"#C8D4E3\"},\"line\":{\"color\":\"white\"}},\"type\":\"table\"}],\"barpolar\":[{\"marker\":{\"line\":{\"color\":\"#E5ECF6\",\"width\":0.5},\"pattern\":{\"fillmode\":\"overlay\",\"size\":10,\"solidity\":0.2}},\"type\":\"barpolar\"}],\"pie\":[{\"automargin\":true,\"type\":\"pie\"}]},\"layout\":{\"autotypenumbers\":\"strict\",\"colorway\":[\"#636efa\",\"#EF553B\",\"#00cc96\",\"#ab63fa\",\"#FFA15A\",\"#19d3f3\",\"#FF6692\",\"#B6E880\",\"#FF97FF\",\"#FECB52\"],\"font\":{\"color\":\"#2a3f5f\"},\"hovermode\":\"closest\",\"hoverlabel\":{\"align\":\"left\"},\"paper_bgcolor\":\"white\",\"plot_bgcolor\":\"#E5ECF6\",\"polar\":{\"bgcolor\":\"#E5ECF6\",\"angularaxis\":{\"gridcolor\":\"white\",\"linecolor\":\"white\",\"ticks\":\"\"},\"radialaxis\":{\"gridcolor\":\"white\",\"linecolor\":\"white\",\"ticks\":\"\"}},\"ternary\":{\"bgcolor\":\"#E5ECF6\",\"aaxis\":{\"gridcolor\":\"white\",\"linecolor\":\"white\",\"ticks\":\"\"},\"baxis\":{\"gridcolor\":\"white\",\"linecolor\":\"white\",\"ticks\":\"\"},\"caxis\":{\"gridcolor\":\"white\",\"linecolor\":\"white\",\"ticks\":\"\"}},\"coloraxis\":{\"colorbar\":{\"outlinewidth\":0,\"ticks\":\"\"}},\"colorscale\":{\"sequential\":[[0.0,\"#0d0887\"],[0.1111111111111111,\"#46039f\"],[0.2222222222222222,\"#7201a8\"],[0.3333333333333333,\"#9c179e\"],[0.4444444444444444,\"#bd3786\"],[0.5555555555555556,\"#d8576b\"],[0.6666666666666666,\"#ed7953\"],[0.7777777777777778,\"#fb9f3a\"],[0.8888888888888888,\"#fdca26\"],[1.0,\"#f0f921\"]],\"sequentialminus\":[[0.0,\"#0d0887\"],[0.1111111111111111,\"#46039f\"],[0.2222222222222222,\"#7201a8\"],[0.3333333333333333,\"#9c179e\"],[0.4444444444444444,\"#bd3786\"],[0.5555555555555556,\"#d8576b\"],[0.6666666666666666,\"#ed7953\"],[0.7777777777777778,\"#fb9f3a\"],[0.8888888888888888,\"#fdca26\"],[1.0,\"#f0f921\"]],\"diverging\":[[0,\"#8e0152\"],[0.1,\"#c51b7d\"],[0.2,\"#de77ae\"],[0.3,\"#f1b6da\"],[0.4,\"#fde0ef\"],[0.5,\"#f7f7f7\"],[0.6,\"#e6f5d0\"],[0.7,\"#b8e186\"],[0.8,\"#7fbc41\"],[0.9,\"#4d9221\"],[1,\"#276419\"]]},\"xaxis\":{\"gridcolor\":\"white\",\"linecolor\":\"white\",\"ticks\":\"\",\"title\":{\"standoff\":15},\"zerolinecolor\":\"white\",\"automargin\":true,\"zerolinewidth\":2},\"yaxis\":{\"gridcolor\":\"white\",\"linecolor\":\"white\",\"ticks\":\"\",\"title\":{\"standoff\":15},\"zerolinecolor\":\"white\",\"automargin\":true,\"zerolinewidth\":2},\"scene\":{\"xaxis\":{\"backgroundcolor\":\"#E5ECF6\",\"gridcolor\":\"white\",\"linecolor\":\"white\",\"showbackground\":true,\"ticks\":\"\",\"zerolinecolor\":\"white\",\"gridwidth\":2},\"yaxis\":{\"backgroundcolor\":\"#E5ECF6\",\"gridcolor\":\"white\",\"linecolor\":\"white\",\"showbackground\":true,\"ticks\":\"\",\"zerolinecolor\":\"white\",\"gridwidth\":2},\"zaxis\":{\"backgroundcolor\":\"#E5ECF6\",\"gridcolor\":\"white\",\"linecolor\":\"white\",\"showbackground\":true,\"ticks\":\"\",\"zerolinecolor\":\"white\",\"gridwidth\":2}},\"shapedefaults\":{\"line\":{\"color\":\"#2a3f5f\"}},\"annotationdefaults\":{\"arrowcolor\":\"#2a3f5f\",\"arrowhead\":0,\"arrowwidth\":1},\"geo\":{\"bgcolor\":\"white\",\"landcolor\":\"#E5ECF6\",\"subunitcolor\":\"white\",\"showland\":true,\"showlakes\":true,\"lakecolor\":\"white\"},\"title\":{\"x\":0.05},\"mapbox\":{\"style\":\"light\"}}}},                        {\"responsive\": true}                    ).then(function(){\n",
       "                            \n",
       "var gd = document.getElementById('0e705614-5f4c-4113-bfad-9927630ef130');\n",
       "var x = new MutationObserver(function (mutations, observer) {{\n",
       "        var display = window.getComputedStyle(gd).display;\n",
       "        if (!display || display === 'none') {{\n",
       "            console.log([gd, 'removed!']);\n",
       "            Plotly.purge(gd);\n",
       "            observer.disconnect();\n",
       "        }}\n",
       "}});\n",
       "\n",
       "// Listen for the removal of the full notebook cells\n",
       "var notebookContainer = gd.closest('#notebook-container');\n",
       "if (notebookContainer) {{\n",
       "    x.observe(notebookContainer, {childList: true});\n",
       "}}\n",
       "\n",
       "// Listen for the clearing of the current output cell\n",
       "var outputEl = gd.closest('.output');\n",
       "if (outputEl) {{\n",
       "    x.observe(outputEl, {childList: true});\n",
       "}}\n",
       "\n",
       "                        })                };                });            </script>        </div>"
      ]
     },
     "metadata": {},
     "output_type": "display_data"
    }
   ],
   "source": [
    "fig = go.Figure(data = candle_Bit, layout=layout)\n",
    "fig.update_layout(xaxis_rangeslider_visible = False)\n",
    "fig.show()"
   ]
  },
  {
   "cell_type": "code",
   "execution_count": null,
   "id": "edf219a1-7921-42cd-bc13-047c0e4e87b9",
   "metadata": {},
   "outputs": [],
   "source": [
    "#this analyses closing price in-depth(Yearly, Quarterly and monthly), log scale is used when you have some outliers and to show low or high values\n",
    "#seasonality is when you have an extremely high of extremely low values"
   ]
  },
  {
   "cell_type": "code",
   "execution_count": 321,
   "id": "19311459-8432-415a-a037-98ff4b1d4d2c",
   "metadata": {},
   "outputs": [
    {
     "data": {
      "text/plain": [
       "0        134.21\n",
       "1        144.54\n",
       "2        139.00\n",
       "3        116.99\n",
       "4        105.21\n",
       "         ...   \n",
       "1551    2671.78\n",
       "1552    2809.01\n",
       "1553    2726.45\n",
       "1554    2757.18\n",
       "1555    2875.34\n",
       "Name: Close, Length: 1556, dtype: float64"
      ]
     },
     "execution_count": 321,
     "metadata": {},
     "output_type": "execute_result"
    }
   ],
   "source": [
    "Bit['Close']"
   ]
  },
  {
   "cell_type": "code",
   "execution_count": 319,
   "id": "ee111630-1c05-4970-a8e8-3fd9d8a6507c",
   "metadata": {},
   "outputs": [
    {
     "data": {
      "text/plain": [
       "<Axes: >"
      ]
     },
     "execution_count": 319,
     "metadata": {},
     "output_type": "execute_result"
    },
    {
     "data": {
      "image/png": "[encoded data removed]",
      "text/plain": [
       "<Figure size 640x480 with 1 Axes>"
      ]
     },
     "metadata": {},
     "output_type": "display_data"
    }
   ],
   "source": [
    "Bit['Close'].plot()"
   ]
  },
  {
   "cell_type": "code",
   "execution_count": 323,
   "id": "b2a81757-6683-408d-934f-9015b5919411",
   "metadata": {},
   "outputs": [],
   "source": [
    " Bit.set_index('Date', inplace=True)"
   ]
  },
  {
   "cell_type": "code",
   "execution_count": 325,
   "id": "572040ff-f83c-4f96-adf4-487ba829a20a",
   "metadata": {},
   "outputs": [
    {
     "data": {
      "text/html": [
       "<div>\n",
       "<style scoped>\n",
       "    .dataframe tbody tr th:only-of-type {\n",
       "        vertical-align: middle;\n",
       "    }\n",
       "\n",
       "    .dataframe tbody tr th {\n",
       "        vertical-align: top;\n",
       "    }\n",
       "\n",
       "    .dataframe thead th {\n",
       "        text-align: right;\n",
       "    }\n",
       "</style>\n",
       "<table border=\"1\" class=\"dataframe\">\n",
       "  <thead>\n",
       "    <tr style=\"text-align: right;\">\n",
       "      <th></th>\n",
       "      <th>Open</th>\n",
       "      <th>High</th>\n",
       "      <th>Low</th>\n",
       "      <th>Close</th>\n",
       "      <th>Volume</th>\n",
       "      <th>Market Cap</th>\n",
       "    </tr>\n",
       "    <tr>\n",
       "      <th>Date</th>\n",
       "      <th></th>\n",
       "      <th></th>\n",
       "      <th></th>\n",
       "      <th></th>\n",
       "      <th></th>\n",
       "      <th></th>\n",
       "    </tr>\n",
       "  </thead>\n",
       "  <tbody>\n",
       "    <tr>\n",
       "      <th>2013-04-28</th>\n",
       "      <td>135.30</td>\n",
       "      <td>135.98</td>\n",
       "      <td>132.10</td>\n",
       "      <td>134.21</td>\n",
       "      <td>-</td>\n",
       "      <td>1,500,520,000</td>\n",
       "    </tr>\n",
       "    <tr>\n",
       "      <th>2013-04-29</th>\n",
       "      <td>134.44</td>\n",
       "      <td>147.49</td>\n",
       "      <td>134.00</td>\n",
       "      <td>144.54</td>\n",
       "      <td>-</td>\n",
       "      <td>1,491,160,000</td>\n",
       "    </tr>\n",
       "    <tr>\n",
       "      <th>2013-04-30</th>\n",
       "      <td>144.00</td>\n",
       "      <td>146.93</td>\n",
       "      <td>134.05</td>\n",
       "      <td>139.00</td>\n",
       "      <td>-</td>\n",
       "      <td>1,597,780,000</td>\n",
       "    </tr>\n",
       "    <tr>\n",
       "      <th>2013-05-01</th>\n",
       "      <td>139.00</td>\n",
       "      <td>139.89</td>\n",
       "      <td>107.72</td>\n",
       "      <td>116.99</td>\n",
       "      <td>-</td>\n",
       "      <td>1,542,820,000</td>\n",
       "    </tr>\n",
       "    <tr>\n",
       "      <th>2013-05-02</th>\n",
       "      <td>116.38</td>\n",
       "      <td>125.60</td>\n",
       "      <td>92.28</td>\n",
       "      <td>105.21</td>\n",
       "      <td>-</td>\n",
       "      <td>1,292,190,000</td>\n",
       "    </tr>\n",
       "    <tr>\n",
       "      <th>...</th>\n",
       "      <td>...</td>\n",
       "      <td>...</td>\n",
       "      <td>...</td>\n",
       "      <td>...</td>\n",
       "      <td>...</td>\n",
       "      <td>...</td>\n",
       "    </tr>\n",
       "    <tr>\n",
       "      <th>2017-07-27</th>\n",
       "      <td>2538.71</td>\n",
       "      <td>2693.32</td>\n",
       "      <td>2529.34</td>\n",
       "      <td>2671.78</td>\n",
       "      <td>789,104,000</td>\n",
       "      <td>41,816,500,000</td>\n",
       "    </tr>\n",
       "    <tr>\n",
       "      <th>2017-07-28</th>\n",
       "      <td>2679.73</td>\n",
       "      <td>2897.45</td>\n",
       "      <td>2679.73</td>\n",
       "      <td>2809.01</td>\n",
       "      <td>1,380,100,000</td>\n",
       "      <td>44,144,400,000</td>\n",
       "    </tr>\n",
       "    <tr>\n",
       "      <th>2017-07-29</th>\n",
       "      <td>2807.02</td>\n",
       "      <td>2808.76</td>\n",
       "      <td>2692.80</td>\n",
       "      <td>2726.45</td>\n",
       "      <td>803,746,000</td>\n",
       "      <td>46,246,700,000</td>\n",
       "    </tr>\n",
       "    <tr>\n",
       "      <th>2017-07-30</th>\n",
       "      <td>2724.39</td>\n",
       "      <td>2758.53</td>\n",
       "      <td>2644.85</td>\n",
       "      <td>2757.18</td>\n",
       "      <td>705,943,000</td>\n",
       "      <td>44,890,700,000</td>\n",
       "    </tr>\n",
       "    <tr>\n",
       "      <th>2017-07-31</th>\n",
       "      <td>2763.24</td>\n",
       "      <td>2889.62</td>\n",
       "      <td>2720.61</td>\n",
       "      <td>2875.34</td>\n",
       "      <td>860,575,000</td>\n",
       "      <td>45,535,800,000</td>\n",
       "    </tr>\n",
       "  </tbody>\n",
       "</table>\n",
       "<p>1556 rows × 6 columns</p>\n",
       "</div>"
      ],
      "text/plain": [
       "               Open     High      Low    Close         Volume      Market Cap\n",
       "Date                                                                         \n",
       "2013-04-28   135.30   135.98   132.10   134.21              -   1,500,520,000\n",
       "2013-04-29   134.44   147.49   134.00   144.54              -   1,491,160,000\n",
       "2013-04-30   144.00   146.93   134.05   139.00              -   1,597,780,000\n",
       "2013-05-01   139.00   139.89   107.72   116.99              -   1,542,820,000\n",
       "2013-05-02   116.38   125.60    92.28   105.21              -   1,292,190,000\n",
       "...             ...      ...      ...      ...            ...             ...\n",
       "2017-07-27  2538.71  2693.32  2529.34  2671.78    789,104,000  41,816,500,000\n",
       "2017-07-28  2679.73  2897.45  2679.73  2809.01  1,380,100,000  44,144,400,000\n",
       "2017-07-29  2807.02  2808.76  2692.80  2726.45    803,746,000  46,246,700,000\n",
       "2017-07-30  2724.39  2758.53  2644.85  2757.18    705,943,000  44,890,700,000\n",
       "2017-07-31  2763.24  2889.62  2720.61  2875.34    860,575,000  45,535,800,000\n",
       "\n",
       "[1556 rows x 6 columns]"
      ]
     },
     "execution_count": 325,
     "metadata": {},
     "output_type": "execute_result"
    }
   ],
   "source": [
    "Bit"
   ]
  },
  {
   "cell_type": "code",
   "execution_count": 327,
   "id": "9f35e4e3-9cae-492a-8ed2-400faae31392",
   "metadata": {},
   "outputs": [
    {
     "data": {
      "text/plain": [
       "<Axes: xlabel='Date'>"
      ]
     },
     "execution_count": 327,
     "metadata": {},
     "output_type": "execute_result"
    },
    {
     "data": {
      "image/png": "[encoded data removed]",
      "text/plain": [
       "<Figure size 640x480 with 1 Axes>"
      ]
     },
     "metadata": {},
     "output_type": "display_data"
    }
   ],
   "source": [
    "Bit['Close'].plot()"
   ]
  },
  {
   "cell_type": "code",
   "execution_count": 329,
   "id": "b2267cea-f2ba-4893-9795-d08b84930b3e",
   "metadata": {},
   "outputs": [
    {
     "data": {
      "image/png": "[encoded data removed]",
      "text/plain": [
       "<Figure size 2000x1200 with 2 Axes>"
      ]
     },
     "metadata": {},
     "output_type": "display_data"
    }
   ],
   "source": [
    "plt.figure(figsize=(20,12))\n",
    "\n",
    "plt.subplot(1,2,1)\n",
    "Bit['Close'].plot()\n",
    "plt.title('No scaling')\n",
    "\n",
    "plt.subplot(1,2,2)\n",
    "np.log1p(Bit['Close']).plot()\n",
    "plt.title('Log Scaling')\n",
    "plt.yscale('log')"
   ]
  },
  {
   "cell_type": "code",
   "execution_count": 331,
   "id": "cfcadb7f-0140-4dd8-b92e-95aa916cbe06",
   "metadata": {},
   "outputs": [
    {
     "data": {
      "text/html": [
       "<div>\n",
       "<style scoped>\n",
       "    .dataframe tbody tr th:only-of-type {\n",
       "        vertical-align: middle;\n",
       "    }\n",
       "\n",
       "    .dataframe tbody tr th {\n",
       "        vertical-align: top;\n",
       "    }\n",
       "\n",
       "    .dataframe thead th {\n",
       "        text-align: right;\n",
       "    }\n",
       "</style>\n",
       "<table border=\"1\" class=\"dataframe\">\n",
       "  <thead>\n",
       "    <tr style=\"text-align: right;\">\n",
       "      <th></th>\n",
       "      <th>Open</th>\n",
       "      <th>High</th>\n",
       "      <th>Low</th>\n",
       "      <th>Close</th>\n",
       "      <th>Volume</th>\n",
       "      <th>Market Cap</th>\n",
       "    </tr>\n",
       "    <tr>\n",
       "      <th>Date</th>\n",
       "      <th></th>\n",
       "      <th></th>\n",
       "      <th></th>\n",
       "      <th></th>\n",
       "      <th></th>\n",
       "      <th></th>\n",
       "    </tr>\n",
       "  </thead>\n",
       "  <tbody>\n",
       "    <tr>\n",
       "      <th>2013-04-28</th>\n",
       "      <td>135.30</td>\n",
       "      <td>135.98</td>\n",
       "      <td>132.10</td>\n",
       "      <td>134.21</td>\n",
       "      <td>-</td>\n",
       "      <td>1,500,520,000</td>\n",
       "    </tr>\n",
       "    <tr>\n",
       "      <th>2013-04-29</th>\n",
       "      <td>134.44</td>\n",
       "      <td>147.49</td>\n",
       "      <td>134.00</td>\n",
       "      <td>144.54</td>\n",
       "      <td>-</td>\n",
       "      <td>1,491,160,000</td>\n",
       "    </tr>\n",
       "    <tr>\n",
       "      <th>2013-04-30</th>\n",
       "      <td>144.00</td>\n",
       "      <td>146.93</td>\n",
       "      <td>134.05</td>\n",
       "      <td>139.00</td>\n",
       "      <td>-</td>\n",
       "      <td>1,597,780,000</td>\n",
       "    </tr>\n",
       "    <tr>\n",
       "      <th>2013-05-01</th>\n",
       "      <td>139.00</td>\n",
       "      <td>139.89</td>\n",
       "      <td>107.72</td>\n",
       "      <td>116.99</td>\n",
       "      <td>-</td>\n",
       "      <td>1,542,820,000</td>\n",
       "    </tr>\n",
       "    <tr>\n",
       "      <th>2013-05-02</th>\n",
       "      <td>116.38</td>\n",
       "      <td>125.60</td>\n",
       "      <td>92.28</td>\n",
       "      <td>105.21</td>\n",
       "      <td>-</td>\n",
       "      <td>1,292,190,000</td>\n",
       "    </tr>\n",
       "  </tbody>\n",
       "</table>\n",
       "</div>"
      ],
      "text/plain": [
       "              Open    High     Low   Close Volume     Market Cap\n",
       "Date                                                            \n",
       "2013-04-28  135.30  135.98  132.10  134.21      -  1,500,520,000\n",
       "2013-04-29  134.44  147.49  134.00  144.54      -  1,491,160,000\n",
       "2013-04-30  144.00  146.93  134.05  139.00      -  1,597,780,000\n",
       "2013-05-01  139.00  139.89  107.72  116.99      -  1,542,820,000\n",
       "2013-05-02  116.38  125.60   92.28  105.21      -  1,292,190,000"
      ]
     },
     "execution_count": 331,
     "metadata": {},
     "output_type": "execute_result"
    }
   ],
   "source": [
    "Bit.head(5)"
   ]
  },
  {
   "cell_type": "code",
   "execution_count": 343,
   "id": "1a44b117-54ea-461f-94c0-1f382e0cd4d5",
   "metadata": {},
   "outputs": [
    {
     "data": {
      "text/plain": [
       "Date\n",
       "2013-12-31     257.474476\n",
       "2014-12-31     527.236658\n",
       "2015-12-31     272.453260\n",
       "2016-12-31     568.492131\n",
       "2017-12-31    1628.622123\n",
       "Freq: YE-DEC, Name: Close, dtype: float64"
      ]
     },
     "execution_count": 343,
     "metadata": {},
     "output_type": "execute_result"
    }
   ],
   "source": [
    "#this analyses the yearly change in closing price\n",
    "Bit['Close'].resample\n",
    "Bit['Close'].resample('YE').mean()"
   ]
  },
  {
   "cell_type": "code",
   "execution_count": 345,
   "id": "e3a30ba9-c9eb-4e80-a6f6-1ce4684a7e33",
   "metadata": {},
   "outputs": [
    {
     "data": {
      "text/plain": [
       "<Axes: xlabel='Date'>"
      ]
     },
     "execution_count": 345,
     "metadata": {},
     "output_type": "execute_result"
    },
    {
     "data": {
      "image/png": "[encoded data removed]",
      "text/plain": [
       "<Figure size 640x480 with 1 Axes>"
      ]
     },
     "metadata": {},
     "output_type": "display_data"
    }
   ],
   "source": [
    "Bit['Close'].resample('YE').mean().plot()"
   ]
  },
  {
   "cell_type": "code",
   "execution_count": null,
   "id": "69c1bf30-f971-4262-9334-d353703b4fc7",
   "metadata": {},
   "outputs": [],
   "source": [
    "#this analyses the quarterly change in  closing price"
   ]
  },
  {
   "cell_type": "code",
   "execution_count": 355,
   "id": "54d74fff-c6e8-4c60-ba86-359760b48c0a",
   "metadata": {},
   "outputs": [
    {
     "data": {
      "text/plain": [
       "Date\n",
       "2013-06-30     115.162188\n",
       "2013-09-30     111.291196\n",
       "2013-12-31     502.657609\n",
       "2014-03-31     700.586000\n",
       "2014-06-30     520.929341\n",
       "2014-09-30     534.055435\n",
       "2014-12-31     357.075761\n",
       "2015-03-31     251.209333\n",
       "2015-06-30     236.858022\n",
       "2015-09-30     254.859891\n",
       "2015-12-31     346.037065\n",
       "2016-03-31     410.728571\n",
       "2016-06-30     512.492747\n",
       "2016-09-30     615.702283\n",
       "2016-12-31     732.721413\n",
       "2017-03-31    1034.707444\n",
       "2017-06-30    1912.552198\n",
       "2017-09-30    2519.418387\n",
       "Freq: QE-DEC, Name: Close, dtype: float64"
      ]
     },
     "execution_count": 355,
     "metadata": {},
     "output_type": "execute_result"
    }
   ],
   "source": [
    "Bit['Close'].resample('QE').mean()"
   ]
  },
  {
   "cell_type": "code",
   "execution_count": 353,
   "id": "082ee71b-2db3-4c52-b8d9-41cf7f7e2bd0",
   "metadata": {},
   "outputs": [
    {
     "data": {
      "text/plain": [
       "<Axes: xlabel='Date'>"
      ]
     },
     "execution_count": 353,
     "metadata": {},
     "output_type": "execute_result"
    },
    {
     "data": {
      "image/png": "[encoded data removed]",
      "text/plain": [
       "<Figure size 640x480 with 1 Axes>"
      ]
     },
     "metadata": {},
     "output_type": "display_data"
    }
   ],
   "source": [
    "Bit['Close'].resample('QE').mean().plot()"
   ]
  },
  {
   "cell_type": "code",
   "execution_count": null,
   "id": "aece4e41-4dea-42e3-9897-4157eb16800d",
   "metadata": {},
   "outputs": [],
   "source": [
    "#this analyses the monthly change in closing price"
   ]
  },
  {
   "cell_type": "code",
   "execution_count": 363,
   "id": "b353bef7-fc1b-457e-8ed3-b070cc65d4ff",
   "metadata": {},
   "outputs": [
    {
     "data": {
      "text/plain": [
       "Date\n",
       "2013-04-30     139.250000\n",
       "2013-05-31     119.993226\n",
       "2013-06-30     107.761333\n",
       "2013-07-31      90.512258\n",
       "2013-08-31     113.905161\n",
       "2013-09-30     130.061667\n",
       "2013-10-31     158.311935\n",
       "2013-11-30     550.420667\n",
       "2013-12-31     800.780968\n",
       "2014-01-31     844.168387\n",
       "2014-02-28     661.618214\n",
       "2014-03-31     592.200323\n",
       "2014-04-30     461.362000\n",
       "2014-05-31     486.651290\n",
       "2014-06-30     615.917333\n",
       "2014-07-31     618.025484\n",
       "2014-08-31     536.087742\n",
       "2014-09-30     445.186333\n",
       "2014-10-31     364.150000\n",
       "2014-11-30     366.100000\n",
       "2014-12-31     341.268387\n",
       "2015-01-31     248.782581\n",
       "2015-02-28     234.153571\n",
       "2015-03-31     269.041290\n",
       "2015-04-30     235.491667\n",
       "2015-05-31     236.996774\n",
       "2015-06-30     238.081000\n",
       "2015-07-31     279.563871\n",
       "2015-08-31     250.734516\n",
       "2015-09-30     233.595333\n",
       "2015-10-31     264.855161\n",
       "2015-11-30     348.883333\n",
       "2015-12-31     424.464516\n",
       "2016-01-31     410.844516\n",
       "2016-02-29     404.408276\n",
       "2016-03-31     416.525161\n",
       "2016-04-30     434.339333\n",
       "2016-05-31     461.953871\n",
       "2016-06-30     642.869667\n",
       "2016-07-31     661.355484\n",
       "2016-08-31     579.585161\n",
       "2016-09-30     605.848333\n",
       "2016-10-31     643.550000\n",
       "2016-11-30     726.349000\n",
       "2016-12-31     828.059677\n",
       "2017-01-31     914.916452\n",
       "2017-02-28    1062.533214\n",
       "2017-03-31    1129.365484\n",
       "2017-04-30    1206.641000\n",
       "2017-05-31    1895.383548\n",
       "2017-06-30    2636.204333\n",
       "2017-07-31    2519.418387\n",
       "Freq: ME, Name: Close, dtype: float64"
      ]
     },
     "execution_count": 363,
     "metadata": {},
     "output_type": "execute_result"
    }
   ],
   "source": [
    "Bit['Close'].resample('ME').mean()"
   ]
  },
  {
   "cell_type": "code",
   "execution_count": 359,
   "id": "68a40442-9576-4192-9db7-033595d373c3",
   "metadata": {},
   "outputs": [
    {
     "data": {
      "text/plain": [
       "<Axes: xlabel='Date'>"
      ]
     },
     "execution_count": 359,
     "metadata": {},
     "output_type": "execute_result"
    },
    {
     "data": {
      "image/png": "[encoded data removed]",
      "text/plain": [
       "<Figure size 640x480 with 1 Axes>"
      ]
     },
     "metadata": {},
     "output_type": "display_data"
    }
   ],
   "source": [
    "Bit['Close'].resample('ME').mean().plot()"
   ]
  },
  {
   "cell_type": "code",
   "execution_count": null,
   "id": "7a5032d8-4d75-4fc5-a994-3a22f07d1c06",
   "metadata": {},
   "outputs": [],
   "source": [
    "#this analyses the daily change in closing price"
   ]
  },
  {
   "cell_type": "code",
   "execution_count": 365,
   "id": "1faa96e0-d6fa-4ef6-8dbf-02d8d4749e68",
   "metadata": {},
   "outputs": [
    {
     "data": {
      "text/plain": [
       "Date\n",
       "2013-04-28     134.21\n",
       "2013-04-29     144.54\n",
       "2013-04-30     139.00\n",
       "2013-05-01     116.99\n",
       "2013-05-02     105.21\n",
       "               ...   \n",
       "2017-07-27    2671.78\n",
       "2017-07-28    2809.01\n",
       "2017-07-29    2726.45\n",
       "2017-07-30    2757.18\n",
       "2017-07-31    2875.34\n",
       "Name: Close, Length: 1556, dtype: float64"
      ]
     },
     "execution_count": 365,
     "metadata": {},
     "output_type": "execute_result"
    }
   ],
   "source": [
    "Bit['Close']"
   ]
  },
  {
   "cell_type": "code",
   "execution_count": 367,
   "id": "5e17ca65-f0bb-4287-87fa-769aa7447e2d",
   "metadata": {},
   "outputs": [],
   "source": [
    "Bit['Close_price_pct_change'] = Bit['Close'].pct_change()*100"
   ]
  },
  {
   "cell_type": "code",
   "execution_count": 369,
   "id": "23b8bfd3-97df-4d79-96c2-105433ff3ddc",
   "metadata": {},
   "outputs": [
    {
     "data": {
      "text/plain": [
       "Date\n",
       "2013-04-28          NaN\n",
       "2013-04-29     7.696893\n",
       "2013-04-30    -3.832849\n",
       "2013-05-01   -15.834532\n",
       "2013-05-02   -10.069237\n",
       "                ...    \n",
       "2017-07-27     5.626915\n",
       "2017-07-28     5.136276\n",
       "2017-07-29    -2.939114\n",
       "2017-07-30     1.127107\n",
       "2017-07-31     4.285538\n",
       "Name: Close_price_pct_change, Length: 1556, dtype: float64"
      ]
     },
     "execution_count": 369,
     "metadata": {},
     "output_type": "execute_result"
    }
   ],
   "source": [
    "#this ['Close_price_pct_change'] is a series\n",
    "Bit['Close_price_pct_change']"
   ]
  },
  {
   "cell_type": "code",
   "execution_count": 371,
   "id": "a007cf87-67ae-4a22-8f17-7040a23c6459",
   "metadata": {},
   "outputs": [
    {
     "data": {
      "text/plain": [
       "<Axes: xlabel='Date'>"
      ]
     },
     "execution_count": 371,
     "metadata": {},
     "output_type": "execute_result"
    },
    {
     "data": {
      "image/png": "[encoded data removed]",
      "text/plain": [
       "<Figure size 640x480 with 1 Axes>"
      ]
     },
     "metadata": {},
     "output_type": "display_data"
    }
   ],
   "source": [
    "#below is a pandas plot\n",
    "Bit['Close_price_pct_change'].plot()"
   ]
  },
  {
   "cell_type": "code",
   "execution_count": 379,
   "id": "a0716350-9732-4290-b1bf-890f91aaa92f",
   "metadata": {},
   "outputs": [
    {
     "name": "stdout",
     "output_type": "stream",
     "text": [
      "Collecting cufflinks\n",
      "  Downloading cufflinks-0.17.3.tar.gz (81 kB)\n",
      "     ---------------------------------------- 0.0/81.7 kB ? eta -:--:--\n",
      "     ----- ---------------------------------- 10.2/81.7 kB ? eta -:--:--\n",
      "     --------- ---------------------------- 20.5/81.7 kB 162.5 kB/s eta 0:00:01\n",
      "     --------- ---------------------------- 20.5/81.7 kB 162.5 kB/s eta 0:00:01\n",
      "     -------------- ----------------------- 30.7/81.7 kB 145.2 kB/s eta 0:00:01\n",
      "     ------------------- ------------------ 41.0/81.7 kB 178.6 kB/s eta 0:00:01\n",
      "     ---------------------------- --------- 61.4/81.7 kB 217.9 kB/s eta 0:00:01\n",
      "     -------------------------------------- 81.7/81.7 kB 254.4 kB/s eta 0:00:00\n",
      "  Preparing metadata (setup.py): started\n",
      "  Preparing metadata (setup.py): finished with status 'done'\n",
      "Requirement already satisfied: numpy>=1.9.2 in c:\\users\\b-sbenjamin\\appdata\\local\\anaconda3\\lib\\site-packages (from cufflinks) (1.26.4)\n",
      "Requirement already satisfied: pandas>=0.19.2 in c:\\users\\b-sbenjamin\\appdata\\roaming\\python\\python312\\site-packages (from cufflinks) (2.2.2)\n",
      "Requirement already satisfied: plotly>=4.1.1 in c:\\users\\b-sbenjamin\\appdata\\local\\anaconda3\\lib\\site-packages (from cufflinks) (5.22.0)\n",
      "Requirement already satisfied: six>=1.9.0 in c:\\users\\b-sbenjamin\\appdata\\roaming\\python\\python312\\site-packages (from cufflinks) (1.16.0)\n",
      "Collecting colorlover>=0.2.1 (from cufflinks)\n",
      "  Downloading colorlover-0.3.0-py3-none-any.whl.metadata (421 bytes)\n",
      "Requirement already satisfied: setuptools>=34.4.1 in c:\\users\\b-sbenjamin\\appdata\\local\\anaconda3\\lib\\site-packages (from cufflinks) (69.5.1)\n",
      "Requirement already satisfied: ipython>=5.3.0 in c:\\users\\b-sbenjamin\\appdata\\roaming\\python\\python312\\site-packages (from cufflinks) (8.26.0)\n",
      "Requirement already satisfied: ipywidgets>=7.0.0 in c:\\users\\b-sbenjamin\\appdata\\local\\anaconda3\\lib\\site-packages (from cufflinks) (7.8.1)\n",
      "Requirement already satisfied: decorator in c:\\users\\b-sbenjamin\\appdata\\roaming\\python\\python312\\site-packages (from ipython>=5.3.0->cufflinks) (5.1.1)\n",
      "Requirement already satisfied: jedi>=0.16 in c:\\users\\b-sbenjamin\\appdata\\roaming\\python\\python312\\site-packages (from ipython>=5.3.0->cufflinks) (0.19.1)\n",
      "Requirement already satisfied: matplotlib-inline in c:\\users\\b-sbenjamin\\appdata\\roaming\\python\\python312\\site-packages (from ipython>=5.3.0->cufflinks) (0.1.7)\n",
      "Requirement already satisfied: prompt-toolkit<3.1.0,>=3.0.41 in c:\\users\\b-sbenjamin\\appdata\\roaming\\python\\python312\\site-packages (from ipython>=5.3.0->cufflinks) (3.0.47)\n",
      "Requirement already satisfied: pygments>=2.4.0 in c:\\users\\b-sbenjamin\\appdata\\roaming\\python\\python312\\site-packages (from ipython>=5.3.0->cufflinks) (2.18.0)\n",
      "Requirement already satisfied: stack-data in c:\\users\\b-sbenjamin\\appdata\\roaming\\python\\python312\\site-packages (from ipython>=5.3.0->cufflinks) (0.6.3)\n",
      "Requirement already satisfied: traitlets>=5.13.0 in c:\\users\\b-sbenjamin\\appdata\\roaming\\python\\python312\\site-packages (from ipython>=5.3.0->cufflinks) (5.14.3)\n",
      "Requirement already satisfied: colorama in c:\\users\\b-sbenjamin\\appdata\\roaming\\python\\python312\\site-packages (from ipython>=5.3.0->cufflinks) (0.4.6)\n",
      "Requirement already satisfied: comm>=0.1.3 in c:\\users\\b-sbenjamin\\appdata\\roaming\\python\\python312\\site-packages (from ipywidgets>=7.0.0->cufflinks) (0.2.2)\n",
      "Requirement already satisfied: ipython-genutils~=0.2.0 in c:\\users\\b-sbenjamin\\appdata\\local\\anaconda3\\lib\\site-packages (from ipywidgets>=7.0.0->cufflinks) (0.2.0)\n",
      "Requirement already satisfied: widgetsnbextension~=3.6.6 in c:\\users\\b-sbenjamin\\appdata\\local\\anaconda3\\lib\\site-packages (from ipywidgets>=7.0.0->cufflinks) (3.6.6)\n",
      "Requirement already satisfied: jupyterlab-widgets<3,>=1.0.0 in c:\\users\\b-sbenjamin\\appdata\\local\\anaconda3\\lib\\site-packages (from ipywidgets>=7.0.0->cufflinks) (1.0.0)\n",
      "Requirement already satisfied: python-dateutil>=2.8.2 in c:\\users\\b-sbenjamin\\appdata\\roaming\\python\\python312\\site-packages (from pandas>=0.19.2->cufflinks) (2.9.0.post0)\n",
      "Requirement already satisfied: pytz>=2020.1 in c:\\users\\b-sbenjamin\\appdata\\local\\anaconda3\\lib\\site-packages (from pandas>=0.19.2->cufflinks) (2024.1)\n",
      "Requirement already satisfied: tzdata>=2022.7 in c:\\users\\b-sbenjamin\\appdata\\local\\anaconda3\\lib\\site-packages (from pandas>=0.19.2->cufflinks) (2023.3)\n",
      "Requirement already satisfied: tenacity>=6.2.0 in c:\\users\\b-sbenjamin\\appdata\\local\\anaconda3\\lib\\site-packages (from plotly>=4.1.1->cufflinks) (8.2.2)\n",
      "Requirement already satisfied: packaging in c:\\users\\b-sbenjamin\\appdata\\roaming\\python\\python312\\site-packages (from plotly>=4.1.1->cufflinks) (24.1)\n",
      "Requirement already satisfied: parso<0.9.0,>=0.8.3 in c:\\users\\b-sbenjamin\\appdata\\roaming\\python\\python312\\site-packages (from jedi>=0.16->ipython>=5.3.0->cufflinks) (0.8.4)\n",
      "Requirement already satisfied: wcwidth in c:\\users\\b-sbenjamin\\appdata\\roaming\\python\\python312\\site-packages (from prompt-toolkit<3.1.0,>=3.0.41->ipython>=5.3.0->cufflinks) (0.2.13)\n",
      "Requirement already satisfied: notebook>=4.4.1 in c:\\users\\b-sbenjamin\\appdata\\local\\anaconda3\\lib\\site-packages (from widgetsnbextension~=3.6.6->ipywidgets>=7.0.0->cufflinks) (7.0.8)\n",
      "Requirement already satisfied: executing>=1.2.0 in c:\\users\\b-sbenjamin\\appdata\\roaming\\python\\python312\\site-packages (from stack-data->ipython>=5.3.0->cufflinks) (2.0.1)\n",
      "Requirement already satisfied: asttokens>=2.1.0 in c:\\users\\b-sbenjamin\\appdata\\roaming\\python\\python312\\site-packages (from stack-data->ipython>=5.3.0->cufflinks) (2.4.1)\n",
      "Requirement already satisfied: pure-eval in c:\\users\\b-sbenjamin\\appdata\\roaming\\python\\python312\\site-packages (from stack-data->ipython>=5.3.0->cufflinks) (0.2.3)\n",
      "Requirement already satisfied: jupyter-server<3,>=2.4.0 in c:\\users\\b-sbenjamin\\appdata\\local\\anaconda3\\lib\\site-packages (from notebook>=4.4.1->widgetsnbextension~=3.6.6->ipywidgets>=7.0.0->cufflinks) (2.14.1)\n",
      "Requirement already satisfied: jupyterlab-server<3,>=2.22.1 in c:\\users\\b-sbenjamin\\appdata\\local\\anaconda3\\lib\\site-packages (from notebook>=4.4.1->widgetsnbextension~=3.6.6->ipywidgets>=7.0.0->cufflinks) (2.25.1)\n",
      "Requirement already satisfied: jupyterlab<4.1,>=4.0.2 in c:\\users\\b-sbenjamin\\appdata\\local\\anaconda3\\lib\\site-packages (from notebook>=4.4.1->widgetsnbextension~=3.6.6->ipywidgets>=7.0.0->cufflinks) (4.0.11)\n",
      "Requirement already satisfied: notebook-shim<0.3,>=0.2 in c:\\users\\b-sbenjamin\\appdata\\local\\anaconda3\\lib\\site-packages (from notebook>=4.4.1->widgetsnbextension~=3.6.6->ipywidgets>=7.0.0->cufflinks) (0.2.3)\n",
      "Requirement already satisfied: tornado>=6.2.0 in c:\\users\\b-sbenjamin\\appdata\\roaming\\python\\python312\\site-packages (from notebook>=4.4.1->widgetsnbextension~=3.6.6->ipywidgets>=7.0.0->cufflinks) (6.4.1)\n",
      "Requirement already satisfied: anyio>=3.1.0 in c:\\users\\b-sbenjamin\\appdata\\local\\anaconda3\\lib\\site-packages (from jupyter-server<3,>=2.4.0->notebook>=4.4.1->widgetsnbextension~=3.6.6->ipywidgets>=7.0.0->cufflinks) (4.2.0)\n",
      "Requirement already satisfied: argon2-cffi>=21.1 in c:\\users\\b-sbenjamin\\appdata\\local\\anaconda3\\lib\\site-packages (from jupyter-server<3,>=2.4.0->notebook>=4.4.1->widgetsnbextension~=3.6.6->ipywidgets>=7.0.0->cufflinks) (21.3.0)\n",
      "Requirement already satisfied: jinja2>=3.0.3 in c:\\users\\b-sbenjamin\\appdata\\local\\anaconda3\\lib\\site-packages (from jupyter-server<3,>=2.4.0->notebook>=4.4.1->widgetsnbextension~=3.6.6->ipywidgets>=7.0.0->cufflinks) (3.1.4)\n",
      "Requirement already satisfied: jupyter-client>=7.4.4 in c:\\users\\b-sbenjamin\\appdata\\roaming\\python\\python312\\site-packages (from jupyter-server<3,>=2.4.0->notebook>=4.4.1->widgetsnbextension~=3.6.6->ipywidgets>=7.0.0->cufflinks) (8.6.2)\n",
      "Requirement already satisfied: jupyter-core!=5.0.*,>=4.12 in c:\\users\\b-sbenjamin\\appdata\\roaming\\python\\python312\\site-packages (from jupyter-server<3,>=2.4.0->notebook>=4.4.1->widgetsnbextension~=3.6.6->ipywidgets>=7.0.0->cufflinks) (5.7.2)\n",
      "Requirement already satisfied: jupyter-events>=0.9.0 in c:\\users\\b-sbenjamin\\appdata\\local\\anaconda3\\lib\\site-packages (from jupyter-server<3,>=2.4.0->notebook>=4.4.1->widgetsnbextension~=3.6.6->ipywidgets>=7.0.0->cufflinks) (0.10.0)\n",
      "Requirement already satisfied: jupyter-server-terminals>=0.4.4 in c:\\users\\b-sbenjamin\\appdata\\local\\anaconda3\\lib\\site-packages (from jupyter-server<3,>=2.4.0->notebook>=4.4.1->widgetsnbextension~=3.6.6->ipywidgets>=7.0.0->cufflinks) (0.4.4)\n",
      "Requirement already satisfied: nbconvert>=6.4.4 in c:\\users\\b-sbenjamin\\appdata\\local\\anaconda3\\lib\\site-packages (from jupyter-server<3,>=2.4.0->notebook>=4.4.1->widgetsnbextension~=3.6.6->ipywidgets>=7.0.0->cufflinks) (7.10.0)\n",
      "Requirement already satisfied: nbformat>=5.3.0 in c:\\users\\b-sbenjamin\\appdata\\local\\anaconda3\\lib\\site-packages (from jupyter-server<3,>=2.4.0->notebook>=4.4.1->widgetsnbextension~=3.6.6->ipywidgets>=7.0.0->cufflinks) (5.9.2)\n",
      "Requirement already satisfied: overrides>=5.0 in c:\\users\\b-sbenjamin\\appdata\\local\\anaconda3\\lib\\site-packages (from jupyter-server<3,>=2.4.0->notebook>=4.4.1->widgetsnbextension~=3.6.6->ipywidgets>=7.0.0->cufflinks) (7.4.0)\n",
      "Requirement already satisfied: prometheus-client>=0.9 in c:\\users\\b-sbenjamin\\appdata\\local\\anaconda3\\lib\\site-packages (from jupyter-server<3,>=2.4.0->notebook>=4.4.1->widgetsnbextension~=3.6.6->ipywidgets>=7.0.0->cufflinks) (0.14.1)\n",
      "Requirement already satisfied: pywinpty>=2.0.1 in c:\\users\\b-sbenjamin\\appdata\\local\\anaconda3\\lib\\site-packages (from jupyter-server<3,>=2.4.0->notebook>=4.4.1->widgetsnbextension~=3.6.6->ipywidgets>=7.0.0->cufflinks) (2.0.10)\n",
      "Requirement already satisfied: pyzmq>=24 in c:\\users\\b-sbenjamin\\appdata\\roaming\\python\\python312\\site-packages (from jupyter-server<3,>=2.4.0->notebook>=4.4.1->widgetsnbextension~=3.6.6->ipywidgets>=7.0.0->cufflinks) (26.0.3)\n",
      "Requirement already satisfied: send2trash>=1.8.2 in c:\\users\\b-sbenjamin\\appdata\\local\\anaconda3\\lib\\site-packages (from jupyter-server<3,>=2.4.0->notebook>=4.4.1->widgetsnbextension~=3.6.6->ipywidgets>=7.0.0->cufflinks) (1.8.2)\n",
      "Requirement already satisfied: terminado>=0.8.3 in c:\\users\\b-sbenjamin\\appdata\\local\\anaconda3\\lib\\site-packages (from jupyter-server<3,>=2.4.0->notebook>=4.4.1->widgetsnbextension~=3.6.6->ipywidgets>=7.0.0->cufflinks) (0.17.1)\n",
      "Requirement already satisfied: websocket-client>=1.7 in c:\\users\\b-sbenjamin\\appdata\\local\\anaconda3\\lib\\site-packages (from jupyter-server<3,>=2.4.0->notebook>=4.4.1->widgetsnbextension~=3.6.6->ipywidgets>=7.0.0->cufflinks) (1.8.0)\n",
      "Requirement already satisfied: async-lru>=1.0.0 in c:\\users\\b-sbenjamin\\appdata\\local\\anaconda3\\lib\\site-packages (from jupyterlab<4.1,>=4.0.2->notebook>=4.4.1->widgetsnbextension~=3.6.6->ipywidgets>=7.0.0->cufflinks) (2.0.4)\n",
      "Requirement already satisfied: ipykernel in c:\\users\\b-sbenjamin\\appdata\\roaming\\python\\python312\\site-packages (from jupyterlab<4.1,>=4.0.2->notebook>=4.4.1->widgetsnbextension~=3.6.6->ipywidgets>=7.0.0->cufflinks) (6.29.5)\n",
      "Requirement already satisfied: jupyter-lsp>=2.0.0 in c:\\users\\b-sbenjamin\\appdata\\local\\anaconda3\\lib\\site-packages (from jupyterlab<4.1,>=4.0.2->notebook>=4.4.1->widgetsnbextension~=3.6.6->ipywidgets>=7.0.0->cufflinks) (2.2.0)\n",
      "Requirement already satisfied: babel>=2.10 in c:\\users\\b-sbenjamin\\appdata\\local\\anaconda3\\lib\\site-packages (from jupyterlab-server<3,>=2.22.1->notebook>=4.4.1->widgetsnbextension~=3.6.6->ipywidgets>=7.0.0->cufflinks) (2.11.0)\n",
      "Requirement already satisfied: json5>=0.9.0 in c:\\users\\b-sbenjamin\\appdata\\local\\anaconda3\\lib\\site-packages (from jupyterlab-server<3,>=2.22.1->notebook>=4.4.1->widgetsnbextension~=3.6.6->ipywidgets>=7.0.0->cufflinks) (0.9.6)\n",
      "Requirement already satisfied: jsonschema>=4.18.0 in c:\\users\\b-sbenjamin\\appdata\\local\\anaconda3\\lib\\site-packages (from jupyterlab-server<3,>=2.22.1->notebook>=4.4.1->widgetsnbextension~=3.6.6->ipywidgets>=7.0.0->cufflinks) (4.19.2)\n",
      "Requirement already satisfied: requests>=2.31 in c:\\users\\b-sbenjamin\\appdata\\local\\anaconda3\\lib\\site-packages (from jupyterlab-server<3,>=2.22.1->notebook>=4.4.1->widgetsnbextension~=3.6.6->ipywidgets>=7.0.0->cufflinks) (2.32.2)\n",
      "Requirement already satisfied: idna>=2.8 in c:\\users\\b-sbenjamin\\appdata\\local\\anaconda3\\lib\\site-packages (from anyio>=3.1.0->jupyter-server<3,>=2.4.0->notebook>=4.4.1->widgetsnbextension~=3.6.6->ipywidgets>=7.0.0->cufflinks) (3.7)\n",
      "Requirement already satisfied: sniffio>=1.1 in c:\\users\\b-sbenjamin\\appdata\\local\\anaconda3\\lib\\site-packages (from anyio>=3.1.0->jupyter-server<3,>=2.4.0->notebook>=4.4.1->widgetsnbextension~=3.6.6->ipywidgets>=7.0.0->cufflinks) (1.3.0)\n",
      "Requirement already satisfied: argon2-cffi-bindings in c:\\users\\b-sbenjamin\\appdata\\local\\anaconda3\\lib\\site-packages (from argon2-cffi>=21.1->jupyter-server<3,>=2.4.0->notebook>=4.4.1->widgetsnbextension~=3.6.6->ipywidgets>=7.0.0->cufflinks) (21.2.0)\n",
      "Requirement already satisfied: MarkupSafe>=2.0 in c:\\users\\b-sbenjamin\\appdata\\local\\anaconda3\\lib\\site-packages (from jinja2>=3.0.3->jupyter-server<3,>=2.4.0->notebook>=4.4.1->widgetsnbextension~=3.6.6->ipywidgets>=7.0.0->cufflinks) (2.1.3)\n",
      "Requirement already satisfied: attrs>=22.2.0 in c:\\users\\b-sbenjamin\\appdata\\local\\anaconda3\\lib\\site-packages (from jsonschema>=4.18.0->jupyterlab-server<3,>=2.22.1->notebook>=4.4.1->widgetsnbextension~=3.6.6->ipywidgets>=7.0.0->cufflinks) (23.1.0)\n",
      "Requirement already satisfied: jsonschema-specifications>=2023.03.6 in c:\\users\\b-sbenjamin\\appdata\\local\\anaconda3\\lib\\site-packages (from jsonschema>=4.18.0->jupyterlab-server<3,>=2.22.1->notebook>=4.4.1->widgetsnbextension~=3.6.6->ipywidgets>=7.0.0->cufflinks) (2023.7.1)\n",
      "Requirement already satisfied: referencing>=0.28.4 in c:\\users\\b-sbenjamin\\appdata\\local\\anaconda3\\lib\\site-packages (from jsonschema>=4.18.0->jupyterlab-server<3,>=2.22.1->notebook>=4.4.1->widgetsnbextension~=3.6.6->ipywidgets>=7.0.0->cufflinks) (0.30.2)\n",
      "Requirement already satisfied: rpds-py>=0.7.1 in c:\\users\\b-sbenjamin\\appdata\\local\\anaconda3\\lib\\site-packages (from jsonschema>=4.18.0->jupyterlab-server<3,>=2.22.1->notebook>=4.4.1->widgetsnbextension~=3.6.6->ipywidgets>=7.0.0->cufflinks) (0.10.6)\n",
      "Requirement already satisfied: platformdirs>=2.5 in c:\\users\\b-sbenjamin\\appdata\\roaming\\python\\python312\\site-packages (from jupyter-core!=5.0.*,>=4.12->jupyter-server<3,>=2.4.0->notebook>=4.4.1->widgetsnbextension~=3.6.6->ipywidgets>=7.0.0->cufflinks) (4.2.2)\n",
      "Requirement already satisfied: pywin32>=300 in c:\\users\\b-sbenjamin\\appdata\\roaming\\python\\python312\\site-packages (from jupyter-core!=5.0.*,>=4.12->jupyter-server<3,>=2.4.0->notebook>=4.4.1->widgetsnbextension~=3.6.6->ipywidgets>=7.0.0->cufflinks) (306)\n",
      "Requirement already satisfied: python-json-logger>=2.0.4 in c:\\users\\b-sbenjamin\\appdata\\local\\anaconda3\\lib\\site-packages (from jupyter-events>=0.9.0->jupyter-server<3,>=2.4.0->notebook>=4.4.1->widgetsnbextension~=3.6.6->ipywidgets>=7.0.0->cufflinks) (2.0.7)\n",
      "Requirement already satisfied: pyyaml>=5.3 in c:\\users\\b-sbenjamin\\appdata\\local\\anaconda3\\lib\\site-packages (from jupyter-events>=0.9.0->jupyter-server<3,>=2.4.0->notebook>=4.4.1->widgetsnbextension~=3.6.6->ipywidgets>=7.0.0->cufflinks) (6.0.1)\n",
      "Requirement already satisfied: rfc3339-validator in c:\\users\\b-sbenjamin\\appdata\\local\\anaconda3\\lib\\site-packages (from jupyter-events>=0.9.0->jupyter-server<3,>=2.4.0->notebook>=4.4.1->widgetsnbextension~=3.6.6->ipywidgets>=7.0.0->cufflinks) (0.1.4)\n",
      "Requirement already satisfied: rfc3986-validator>=0.1.1 in c:\\users\\b-sbenjamin\\appdata\\local\\anaconda3\\lib\\site-packages (from jupyter-events>=0.9.0->jupyter-server<3,>=2.4.0->notebook>=4.4.1->widgetsnbextension~=3.6.6->ipywidgets>=7.0.0->cufflinks) (0.1.1)\n",
      "Requirement already satisfied: beautifulsoup4 in c:\\users\\b-sbenjamin\\appdata\\local\\anaconda3\\lib\\site-packages (from nbconvert>=6.4.4->jupyter-server<3,>=2.4.0->notebook>=4.4.1->widgetsnbextension~=3.6.6->ipywidgets>=7.0.0->cufflinks) (4.12.3)\n",
      "Requirement already satisfied: bleach!=5.0.0 in c:\\users\\b-sbenjamin\\appdata\\local\\anaconda3\\lib\\site-packages (from nbconvert>=6.4.4->jupyter-server<3,>=2.4.0->notebook>=4.4.1->widgetsnbextension~=3.6.6->ipywidgets>=7.0.0->cufflinks) (4.1.0)\n",
      "Requirement already satisfied: defusedxml in c:\\users\\b-sbenjamin\\appdata\\local\\anaconda3\\lib\\site-packages (from nbconvert>=6.4.4->jupyter-server<3,>=2.4.0->notebook>=4.4.1->widgetsnbextension~=3.6.6->ipywidgets>=7.0.0->cufflinks) (0.7.1)\n",
      "Requirement already satisfied: jupyterlab-pygments in c:\\users\\b-sbenjamin\\appdata\\local\\anaconda3\\lib\\site-packages (from nbconvert>=6.4.4->jupyter-server<3,>=2.4.0->notebook>=4.4.1->widgetsnbextension~=3.6.6->ipywidgets>=7.0.0->cufflinks) (0.1.2)\n",
      "Requirement already satisfied: mistune<4,>=2.0.3 in c:\\users\\b-sbenjamin\\appdata\\local\\anaconda3\\lib\\site-packages (from nbconvert>=6.4.4->jupyter-server<3,>=2.4.0->notebook>=4.4.1->widgetsnbextension~=3.6.6->ipywidgets>=7.0.0->cufflinks) (2.0.4)\n",
      "Requirement already satisfied: nbclient>=0.5.0 in c:\\users\\b-sbenjamin\\appdata\\local\\anaconda3\\lib\\site-packages (from nbconvert>=6.4.4->jupyter-server<3,>=2.4.0->notebook>=4.4.1->widgetsnbextension~=3.6.6->ipywidgets>=7.0.0->cufflinks) (0.8.0)\n",
      "Requirement already satisfied: pandocfilters>=1.4.1 in c:\\users\\b-sbenjamin\\appdata\\local\\anaconda3\\lib\\site-packages (from nbconvert>=6.4.4->jupyter-server<3,>=2.4.0->notebook>=4.4.1->widgetsnbextension~=3.6.6->ipywidgets>=7.0.0->cufflinks) (1.5.0)\n",
      "Requirement already satisfied: tinycss2 in c:\\users\\b-sbenjamin\\appdata\\local\\anaconda3\\lib\\site-packages (from nbconvert>=6.4.4->jupyter-server<3,>=2.4.0->notebook>=4.4.1->widgetsnbextension~=3.6.6->ipywidgets>=7.0.0->cufflinks) (1.2.1)\n",
      "Requirement already satisfied: fastjsonschema in c:\\users\\b-sbenjamin\\appdata\\local\\anaconda3\\lib\\site-packages (from nbformat>=5.3.0->jupyter-server<3,>=2.4.0->notebook>=4.4.1->widgetsnbextension~=3.6.6->ipywidgets>=7.0.0->cufflinks) (2.16.2)\n",
      "Requirement already satisfied: charset-normalizer<4,>=2 in c:\\users\\b-sbenjamin\\appdata\\local\\anaconda3\\lib\\site-packages (from requests>=2.31->jupyterlab-server<3,>=2.22.1->notebook>=4.4.1->widgetsnbextension~=3.6.6->ipywidgets>=7.0.0->cufflinks) (2.0.4)\n",
      "Requirement already satisfied: urllib3<3,>=1.21.1 in c:\\users\\b-sbenjamin\\appdata\\local\\anaconda3\\lib\\site-packages (from requests>=2.31->jupyterlab-server<3,>=2.22.1->notebook>=4.4.1->widgetsnbextension~=3.6.6->ipywidgets>=7.0.0->cufflinks) (2.2.2)\n",
      "Requirement already satisfied: certifi>=2017.4.17 in c:\\users\\b-sbenjamin\\appdata\\local\\anaconda3\\lib\\site-packages (from requests>=2.31->jupyterlab-server<3,>=2.22.1->notebook>=4.4.1->widgetsnbextension~=3.6.6->ipywidgets>=7.0.0->cufflinks) (2024.7.4)\n",
      "Requirement already satisfied: debugpy>=1.6.5 in c:\\users\\b-sbenjamin\\appdata\\roaming\\python\\python312\\site-packages (from ipykernel->jupyterlab<4.1,>=4.0.2->notebook>=4.4.1->widgetsnbextension~=3.6.6->ipywidgets>=7.0.0->cufflinks) (1.8.2)\n",
      "Requirement already satisfied: nest-asyncio in c:\\users\\b-sbenjamin\\appdata\\roaming\\python\\python312\\site-packages (from ipykernel->jupyterlab<4.1,>=4.0.2->notebook>=4.4.1->widgetsnbextension~=3.6.6->ipywidgets>=7.0.0->cufflinks) (1.6.0)\n",
      "Requirement already satisfied: psutil in c:\\users\\b-sbenjamin\\appdata\\roaming\\python\\python312\\site-packages (from ipykernel->jupyterlab<4.1,>=4.0.2->notebook>=4.4.1->widgetsnbextension~=3.6.6->ipywidgets>=7.0.0->cufflinks) (6.0.0)\n",
      "Requirement already satisfied: webencodings in c:\\users\\b-sbenjamin\\appdata\\local\\anaconda3\\lib\\site-packages (from bleach!=5.0.0->nbconvert>=6.4.4->jupyter-server<3,>=2.4.0->notebook>=4.4.1->widgetsnbextension~=3.6.6->ipywidgets>=7.0.0->cufflinks) (0.5.1)\n",
      "Collecting fqdn (from jsonschema[format-nongpl]>=4.18.0->jupyter-events>=0.9.0->jupyter-server<3,>=2.4.0->notebook>=4.4.1->widgetsnbextension~=3.6.6->ipywidgets>=7.0.0->cufflinks)\n",
      "  Downloading fqdn-1.5.1-py3-none-any.whl.metadata (1.4 kB)\n",
      "Collecting isoduration (from jsonschema[format-nongpl]>=4.18.0->jupyter-events>=0.9.0->jupyter-server<3,>=2.4.0->notebook>=4.4.1->widgetsnbextension~=3.6.6->ipywidgets>=7.0.0->cufflinks)\n",
      "  Downloading isoduration-20.11.0-py3-none-any.whl.metadata (5.7 kB)\n",
      "Requirement already satisfied: jsonpointer>1.13 in c:\\users\\b-sbenjamin\\appdata\\local\\anaconda3\\lib\\site-packages (from jsonschema[format-nongpl]>=4.18.0->jupyter-events>=0.9.0->jupyter-server<3,>=2.4.0->notebook>=4.4.1->widgetsnbextension~=3.6.6->ipywidgets>=7.0.0->cufflinks) (2.1)\n",
      "Collecting uri-template (from jsonschema[format-nongpl]>=4.18.0->jupyter-events>=0.9.0->jupyter-server<3,>=2.4.0->notebook>=4.4.1->widgetsnbextension~=3.6.6->ipywidgets>=7.0.0->cufflinks)\n",
      "  Downloading uri_template-1.3.0-py3-none-any.whl.metadata (8.8 kB)\n",
      "Collecting webcolors>=1.11 (from jsonschema[format-nongpl]>=4.18.0->jupyter-events>=0.9.0->jupyter-server<3,>=2.4.0->notebook>=4.4.1->widgetsnbextension~=3.6.6->ipywidgets>=7.0.0->cufflinks)\n",
      "  Downloading webcolors-24.8.0-py3-none-any.whl.metadata (2.6 kB)\n",
      "Requirement already satisfied: cffi>=1.0.1 in c:\\users\\b-sbenjamin\\appdata\\local\\anaconda3\\lib\\site-packages (from argon2-cffi-bindings->argon2-cffi>=21.1->jupyter-server<3,>=2.4.0->notebook>=4.4.1->widgetsnbextension~=3.6.6->ipywidgets>=7.0.0->cufflinks) (1.16.0)\n",
      "Requirement already satisfied: soupsieve>1.2 in c:\\users\\b-sbenjamin\\appdata\\local\\anaconda3\\lib\\site-packages (from beautifulsoup4->nbconvert>=6.4.4->jupyter-server<3,>=2.4.0->notebook>=4.4.1->widgetsnbextension~=3.6.6->ipywidgets>=7.0.0->cufflinks) (2.5)\n",
      "Requirement already satisfied: pycparser in c:\\users\\b-sbenjamin\\appdata\\local\\anaconda3\\lib\\site-packages (from cffi>=1.0.1->argon2-cffi-bindings->argon2-cffi>=21.1->jupyter-server<3,>=2.4.0->notebook>=4.4.1->widgetsnbextension~=3.6.6->ipywidgets>=7.0.0->cufflinks) (2.21)\n",
      "Requirement already satisfied: arrow>=0.15.0 in c:\\users\\b-sbenjamin\\appdata\\local\\anaconda3\\lib\\site-packages (from isoduration->jsonschema[format-nongpl]>=4.18.0->jupyter-events>=0.9.0->jupyter-server<3,>=2.4.0->notebook>=4.4.1->widgetsnbextension~=3.6.6->ipywidgets>=7.0.0->cufflinks) (1.2.3)\n",
      "Downloading colorlover-0.3.0-py3-none-any.whl (8.9 kB)\n",
      "Downloading webcolors-24.8.0-py3-none-any.whl (15 kB)\n",
      "Downloading fqdn-1.5.1-py3-none-any.whl (9.1 kB)\n",
      "Downloading isoduration-20.11.0-py3-none-any.whl (11 kB)\n",
      "Downloading uri_template-1.3.0-py3-none-any.whl (11 kB)\n",
      "Building wheels for collected packages: cufflinks\n",
      "  Building wheel for cufflinks (setup.py): started\n",
      "  Building wheel for cufflinks (setup.py): finished with status 'done'\n",
      "  Created wheel for cufflinks: filename=cufflinks-0.17.3-py3-none-any.whl size=68724 sha256=b8dd9b3ae6ad1c6f1d275490c1d0c92af2398fb9729bf4dfbdf1d858cb5e7302\n",
      "  Stored in directory: c:\\users\\b-sbenjamin\\appdata\\local\\pip\\cache\\wheels\\c0\\d9\\70\\372130dacf508192607c1a7359c7bf0656b1a3b79f6cf66f7a\n",
      "Successfully built cufflinks\n",
      "Installing collected packages: colorlover, webcolors, uri-template, fqdn, isoduration, cufflinks\n",
      "Successfully installed colorlover-0.3.0 cufflinks-0.17.3 fqdn-1.5.1 isoduration-20.11.0 uri-template-1.3.0 webcolors-24.8.0\n"
     ]
    }
   ],
   "source": [
    "!pip install cufflinks\n",
    "\n",
    "import cufflinks as cf"
   ]
  },
  {
   "cell_type": "code",
   "execution_count": 380,
   "id": "e8e674fa-dceb-4a5c-9745-7eea7ac78ff5",
   "metadata": {},
   "outputs": [
    {
     "data": {
      "text/html": [
       "        <script type=\"text/javascript\">\n",
       "        window.PlotlyConfig = {MathJaxConfig: 'local'};\n",
       "        if (window.MathJax && window.MathJax.Hub && window.MathJax.Hub.Config) {window.MathJax.Hub.Config({SVG: {font: \"STIX-Web\"}});}\n",
       "        if (typeof require !== 'undefined') {\n",
       "        require.undef(\"plotly\");\n",
       "        requirejs.config({\n",
       "            paths: {\n",
       "                'plotly': ['https://cdn.plot.ly/plotly-2.32.0.min']\n",
       "            }\n",
       "        });\n",
       "        require(['plotly'], function(Plotly) {\n",
       "            window._Plotly = Plotly;\n",
       "        });\n",
       "        }\n",
       "        </script>\n",
       "        "
      ]
     },
     "metadata": {},
     "output_type": "display_data"
    }
   ],
   "source": [
    "cf.go_offline()"
   ]
  },
  {
   "cell_type": "code",
   "execution_count": 388,
   "id": "abb82c94-9b69-424f-9ad9-09254f83ea31",
   "metadata": {},
   "outputs": [
    {
     "data": {
      "text/plain": [
       "pandas.core.series.Series"
      ]
     },
     "execution_count": 388,
     "metadata": {},
     "output_type": "execute_result"
    }
   ],
   "source": [
    "\n",
    "type(Bit['Close_price_pct_change'])"
   ]
  },
  {
   "cell_type": "code",
   "execution_count": 386,
   "id": "168900c7-8e49-436b-a05e-3483f18e208f",
   "metadata": {},
   "outputs": [
    {
     "data": {
      "text/plain": [
       "<Axes: xlabel='Date'>"
      ]
     },
     "execution_count": 386,
     "metadata": {},
     "output_type": "execute_result"
    },
    {
     "data": {
      "image/png": "[encoded data removed]",
      "text/plain": [
       "<Figure size 640x480 with 1 Axes>"
      ]
     },
     "metadata": {},
     "output_type": "display_data"
    }
   ],
   "source": [
    "Bit['Close_price_pct_change'].plot()"
   ]
  },
  {
   "cell_type": "code",
   "execution_count": 396,
   "id": "e47c603f-d848-4491-aaa7-a1eeb3f8c967",
   "metadata": {},
   "outputs": [
    {
     "data": {
      "application/vnd.plotly.v1+json": {
       "config": {
        "linkText": "Export to plot.ly",
        "plotlyServerURL": "https://plot.ly",
        "showLink": true
       },
       "data": [
        {
         "line": {
          "color": "rgba(55, 128, 191, 1.0)",
          "dash": "solid",
          "shape": "linear",
          "width": 1.3
         },
         "mode": "lines",
         "name": "Close_price_pct_change",
         "text": "",
         "type": "scatter",
         "x": [
          "2013-04-28",
          "2013-04-29",
          "2013-04-30",
          "2013-05-01",
          "2013-05-02",
          "2013-05-03",
          "2013-05-04",
          "2013-05-05",
          "2013-05-06",
          "2013-05-07",
          "2013-05-08",
          "2013-05-09",
          "2013-05-10",
          "2013-05-11",
          "2013-05-12",
          "2013-05-13",
          "2013-05-14",
          "2013-05-15",
          "2013-05-16",
          "2013-05-17",
          "2013-05-18",
          "2013-05-19",
          "2013-05-20",
          "2013-05-21",
          "2013-05-22",
          "2013-05-23",
          "2013-05-24",
          "2013-05-25",
          "2013-05-26",
          "2013-05-27",
          "2013-05-28",
          "2013-05-29",
          "2013-05-30",
          "2013-05-31",
          "2013-06-01",
          "2013-06-02",
          "2013-06-03",
          "2013-06-04",
          "2013-06-05",
          "2013-06-06",
          "2013-06-07",
          "2013-06-08",
          "2013-06-09",
          "2013-06-10",
          "2013-06-11",
          "2013-06-12",
          "2013-06-13",
          "2013-06-14",
          "2013-06-15",
          "2013-06-16",
          "2013-06-17",
          "2013-06-18",
          "2013-06-19",
          "2013-06-20",
          "2013-06-21",
          "2013-06-22",
          "2013-06-23",
          "2013-06-24",
          "2013-06-25",
          "2013-06-26",
          "2013-06-27",
          "2013-06-28",
          "2013-06-29",
          "2013-06-30",
          "2013-07-01",
          "2013-07-02",
          "2013-07-03",
          "2013-07-04",
          "2013-07-05",
          "2013-07-06",
          "2013-07-07",
          "2013-07-08",
          "2013-07-09",
          "2013-07-10",
          "2013-07-11",
          "2013-07-12",
          "2013-07-13",
          "2013-07-14",
          "2013-07-15",
          "2013-07-16",
          "2013-07-17",
          "2013-07-18",
          "2013-07-19",
          "2013-07-20",
          "2013-07-21",
          "2013-07-22",
          "2013-07-23",
          "2013-07-24",
          "2013-07-25",
          "2013-07-26",
          "2013-07-27",
          "2013-07-28",
          "2013-07-29",
          "2013-07-30",
          "2013-07-31",
          "2013-08-01",
          "2013-08-02",
          "2013-08-03",
          "2013-08-04",
          "2013-08-05",
          "2013-08-06",
          "2013-08-07",
          "2013-08-08",
          "2013-08-09",
          "2013-08-10",
          "2013-08-11",
          "2013-08-12",
          "2013-08-13",
          "2013-08-14",
          "2013-08-15",
          "2013-08-16",
          "2013-08-17",
          "2013-08-18",
          "2013-08-19",
          "2013-08-20",
          "2013-08-21",
          "2013-08-22",
          "2013-08-23",
          "2013-08-24",
          "2013-08-25",
          "2013-08-26",
          "2013-08-27",
          "2013-08-28",
          "2013-08-29",
          "2013-08-30",
          "2013-08-31",
          "2013-09-01",
          "2013-09-02",
          "2013-09-03",
          "2013-09-04",
          "2013-09-05",
          "2013-09-06",
          "2013-09-07",
          "2013-09-08",
          "2013-09-09",
          "2013-09-10",
          "2013-09-11",
          "2013-09-12",
          "2013-09-13",
          "2013-09-14",
          "2013-09-15",
          "2013-09-16",
          "2013-09-17",
          "2013-09-18",
          "2013-09-19",
          "2013-09-20",
          "2013-09-21",
          "2013-09-22",
          "2013-09-23",
          "2013-09-24",
          "2013-09-25",
          "2013-09-26",
          "2013-09-27",
          "2013-09-28",
          "2013-09-29",
          "2013-09-30",
          "2013-10-01",
          "2013-10-02",
          "2013-10-03",
          "2013-10-04",
          "2013-10-05",
          "2013-10-06",
          "2013-10-07",
          "2013-10-08",
          "2013-10-09",
          "2013-10-10",
          "2013-10-11",
          "2013-10-12",
          "2013-10-13",
          "2013-10-14",
          "2013-10-15",
          "2013-10-16",
          "2013-10-17",
          "2013-10-18",
          "2013-10-19",
          "2013-10-20",
          "2013-10-21",
          "2013-10-22",
          "2013-10-23",
          "2013-10-24",
          "2013-10-25",
          "2013-10-26",
          "2013-10-27",
          "2013-10-28",
          "2013-10-29",
          "2013-10-30",
          "2013-10-31",
          "2013-11-01",
          "2013-11-02",
          "2013-11-03",
          "2013-11-04",
          "2013-11-05",
          "2013-11-06",
          "2013-11-07",
          "2013-11-08",
          "2013-11-09",
          "2013-11-10",
          "2013-11-11",
          "2013-11-12",
          "2013-11-13",
          "2013-11-14",
          "2013-11-15",
          "2013-11-16",
          "2013-11-17",
          "2013-11-18",
          "2013-11-19",
          "2013-11-20",
          "2013-11-21",
          "2013-11-22",
          "2013-11-23",
          "2013-11-24",
          "2013-11-25",
          "2013-11-26",
          "2013-11-27",
          "2013-11-28",
          "2013-11-29",
          "2013-11-30",
          "2013-12-01",
          "2013-12-02",
          "2013-12-03",
          "2013-12-04",
          "2013-12-05",
          "2013-12-06",
          "2013-12-07",
          "2013-12-08",
          "2013-12-09",
          "2013-12-10",
          "2013-12-11",
          "2013-12-12",
          "2013-12-13",
          "2013-12-14",
          "2013-12-15",
          "2013-12-16",
          "2013-12-17",
          "2013-12-18",
          "2013-12-19",
          "2013-12-20",
          "2013-12-21",
          "2013-12-22",
          "2013-12-23",
          "2013-12-24",
          "2013-12-25",
          "2013-12-26",
          "2013-12-27",
          "2013-12-28",
          "2013-12-29",
          "2013-12-30",
          "2013-12-31",
          "2014-01-01",
          "2014-01-02",
          "2014-01-03",
          "2014-01-04",
          "2014-01-05",
          "2014-01-06",
          "2014-01-07",
          "2014-01-08",
          "2014-01-09",
          "2014-01-10",
          "2014-01-11",
          "2014-01-12",
          "2014-01-13",
          "2014-01-14",
          "2014-01-15",
          "2014-01-16",
          "2014-01-17",
          "2014-01-18",
          "2014-01-19",
          "2014-01-20",
          "2014-01-21",
          "2014-01-22",
          "2014-01-23",
          "2014-01-24",
          "2014-01-25",
          "2014-01-26",
          "2014-01-27",
          "2014-01-28",
          "2014-01-29",
          "2014-01-30",
          "2014-01-31",
          "2014-02-01",
          "2014-02-02",
          "2014-02-03",
          "2014-02-04",
          "2014-02-05",
          "2014-02-06",
          "2014-02-07",
          "2014-02-08",
          "2014-02-09",
          "2014-02-10",
          "2014-02-11",
          "2014-02-12",
          "2014-02-13",
          "2014-02-14",
          "2014-02-15",
          "2014-02-16",
          "2014-02-17",
          "2014-02-18",
          "2014-02-19",
          "2014-02-20",
          "2014-02-21",
          "2014-02-22",
          "2014-02-23",
          "2014-02-24",
          "2014-02-25",
          "2014-02-26",
          "2014-02-27",
          "2014-02-28",
          "2014-03-01",
          "2014-03-02",
          "2014-03-03",
          "2014-03-04",
          "2014-03-05",
          "2014-03-06",
          "2014-03-07",
          "2014-03-08",
          "2014-03-09",
          "2014-03-10",
          "2014-03-11",
          "2014-03-12",
          "2014-03-13",
          "2014-03-14",
          "2014-03-15",
          "2014-03-16",
          "2014-03-17",
          "2014-03-18",
          "2014-03-19",
          "2014-03-20",
          "2014-03-21",
          "2014-03-22",
          "2014-03-23",
          "2014-03-24",
          "2014-03-25",
          "2014-03-26",
          "2014-03-27",
          "2014-03-28",
          "2014-03-29",
          "2014-03-30",
          "2014-03-31",
          "2014-04-01",
          "2014-04-02",
          "2014-04-03",
          "2014-04-04",
          "2014-04-05",
          "2014-04-06",
          "2014-04-07",
          "2014-04-08",
          "2014-04-09",
          "2014-04-10",
          "2014-04-11",
          "2014-04-12",
          "2014-04-13",
          "2014-04-14",
          "2014-04-15",
          "2014-04-16",
          "2014-04-17",
          "2014-04-18",
          "2014-04-19",
          "2014-04-20",
          "2014-04-21",
          "2014-04-22",
          "2014-04-23",
          "2014-04-24",
          "2014-04-25",
          "2014-04-26",
          "2014-04-27",
          "2014-04-28",
          "2014-04-29",
          "2014-04-30",
          "2014-05-01",
          "2014-05-02",
          "2014-05-03",
          "2014-05-04",
          "2014-05-05",
          "2014-05-06",
          "2014-05-07",
          "2014-05-08",
          "2014-05-09",
          "2014-05-10",
          "2014-05-11",
          "2014-05-12",
          "2014-05-13",
          "2014-05-14",
          "2014-05-15",
          "2014-05-16",
          "2014-05-17",
          "2014-05-18",
          "2014-05-19",
          "2014-05-20",
          "2014-05-21",
          "2014-05-22",
          "2014-05-23",
          "2014-05-24",
          "2014-05-25",
          "2014-05-26",
          "2014-05-27",
          "2014-05-28",
          "2014-05-29",
          "2014-05-30",
          "2014-05-31",
          "2014-06-01",
          "2014-06-02",
          "2014-06-03",
          "2014-06-04",
          "2014-06-05",
          "2014-06-06",
          "2014-06-07",
          "2014-06-08",
          "2014-06-09",
          "2014-06-10",
          "2014-06-11",
          "2014-06-12",
          "2014-06-13",
          "2014-06-14",
          "2014-06-15",
          "2014-06-16",
          "2014-06-17",
          "2014-06-18",
          "2014-06-19",
          "2014-06-20",
          "2014-06-21",
          "2014-06-22",
          "2014-06-23",
          "2014-06-24",
          "2014-06-25",
          "2014-06-26",
          "2014-06-27",
          "2014-06-28",
          "2014-06-29",
          "2014-06-30",
          "2014-07-01",
          "2014-07-02",
          "2014-07-03",
          "2014-07-04",
          "2014-07-05",
          "2014-07-06",
          "2014-07-07",
          "2014-07-08",
          "2014-07-09",
          "2014-07-10",
          "2014-07-11",
          "2014-07-12",
          "2014-07-13",
          "2014-07-14",
          "2014-07-15",
          "2014-07-16",
          "2014-07-17",
          "2014-07-18",
          "2014-07-19",
          "2014-07-20",
          "2014-07-21",
          "2014-07-22",
          "2014-07-23",
          "2014-07-24",
          "2014-07-25",
          "2014-07-26",
          "2014-07-27",
          "2014-07-28",
          "2014-07-29",
          "2014-07-30",
          "2014-07-31",
          "2014-08-01",
          "2014-08-02",
          "2014-08-03",
          "2014-08-04",
          "2014-08-05",
          "2014-08-06",
          "2014-08-07",
          "2014-08-08",
          "2014-08-09",
          "2014-08-10",
          "2014-08-11",
          "2014-08-12",
          "2014-08-13",
          "2014-08-14",
          "2014-08-15",
          "2014-08-16",
          "2014-08-17",
          "2014-08-18",
          "2014-08-19",
          "2014-08-20",
          "2014-08-21",
          "2014-08-22",
          "2014-08-23",
          "2014-08-24",
          "2014-08-25",
          "2014-08-26",
          "2014-08-27",
          "2014-08-28",
          "2014-08-29",
          "2014-08-30",
          "2014-08-31",
          "2014-09-01",
          "2014-09-02",
          "2014-09-03",
          "2014-09-04",
          "2014-09-05",
          "2014-09-06",
          "2014-09-07",
          "2014-09-08",
          "2014-09-09",
          "2014-09-10",
          "2014-09-11",
          "2014-09-12",
          "2014-09-13",
          "2014-09-14",
          "2014-09-15",
          "2014-09-16",
          "2014-09-17",
          "2014-09-18",
          "2014-09-19",
          "2014-09-20",
          "2014-09-21",
          "2014-09-22",
          "2014-09-23",
          "2014-09-24",
          "2014-09-25",
          "2014-09-26",
          "2014-09-27",
          "2014-09-28",
          "2014-09-29",
          "2014-09-30",
          "2014-10-01",
          "2014-10-02",
          "2014-10-03",
          "2014-10-04",
          "2014-10-05",
          "2014-10-06",
          "2014-10-07",
          "2014-10-08",
          "2014-10-09",
          "2014-10-10",
          "2014-10-11",
          "2014-10-12",
          "2014-10-13",
          "2014-10-14",
          "2014-10-15",
          "2014-10-16",
          "2014-10-17",
          "2014-10-18",
          "2014-10-19",
          "2014-10-20",
          "2014-10-21",
          "2014-10-22",
          "2014-10-23",
          "2014-10-24",
          "2014-10-25",
          "2014-10-26",
          "2014-10-27",
          "2014-10-28",
          "2014-10-29",
          "2014-10-30",
          "2014-10-31",
          "2014-11-01",
          "2014-11-02",
          "2014-11-03",
          "2014-11-04",
          "2014-11-05",
          "2014-11-06",
          "2014-11-07",
          "2014-11-08",
          "2014-11-09",
          "2014-11-10",
          "2014-11-11",
          "2014-11-12",
          "2014-11-13",
          "2014-11-14",
          "2014-11-15",
          "2014-11-16",
          "2014-11-17",
          "2014-11-18",
          "2014-11-19",
          "2014-11-20",
          "2014-11-21",
          "2014-11-22",
          "2014-11-23",
          "2014-11-24",
          "2014-11-25",
          "2014-11-26",
          "2014-11-27",
          "2014-11-28",
          "2014-11-29",
          "2014-11-30",
          "2014-12-01",
          "2014-12-02",
          "2014-12-03",
          "2014-12-04",
          "2014-12-05",
          "2014-12-06",
          "2014-12-07",
          "2014-12-08",
          "2014-12-09",
          "2014-12-10",
          "2014-12-11",
          "2014-12-12",
          "2014-12-13",
          "2014-12-14",
          "2014-12-15",
          "2014-12-16",
          "2014-12-17",
          "2014-12-18",
          "2014-12-19",
          "2014-12-20",
          "2014-12-21",
          "2014-12-22",
          "2014-12-23",
          "2014-12-24",
          "2014-12-25",
          "2014-12-26",
          "2014-12-27",
          "2014-12-28",
          "2014-12-29",
          "2014-12-30",
          "2014-12-31",
          "2015-01-01",
          "2015-01-02",
          "2015-01-03",
          "2015-01-04",
          "2015-01-05",
          "2015-01-06",
          "2015-01-07",
          "2015-01-08",
          "2015-01-09",
          "2015-01-10",
          "2015-01-11",
          "2015-01-12",
          "2015-01-13",
          "2015-01-14",
          "2015-01-15",
          "2015-01-16",
          "2015-01-17",
          "2015-01-18",
          "2015-01-19",
          "2015-01-20",
          "2015-01-21",
          "2015-01-22",
          "2015-01-23",
          "2015-01-24",
          "2015-01-25",
          "2015-01-26",
          "2015-01-27",
          "2015-01-28",
          "2015-01-29",
          "2015-01-30",
          "2015-01-31",
          "2015-02-01",
          "2015-02-02",
          "2015-02-03",
          "2015-02-04",
          "2015-02-05",
          "2015-02-06",
          "2015-02-07",
          "2015-02-08",
          "2015-02-09",
          "2015-02-10",
          "2015-02-11",
          "2015-02-12",
          "2015-02-13",
          "2015-02-14",
          "2015-02-15",
          "2015-02-16",
          "2015-02-17",
          "2015-02-18",
          "2015-02-19",
          "2015-02-20",
          "2015-02-21",
          "2015-02-22",
          "2015-02-23",
          "2015-02-24",
          "2015-02-25",
          "2015-02-26",
          "2015-02-27",
          "2015-02-28",
          "2015-03-01",
          "2015-03-02",
          "2015-03-03",
          "2015-03-04",
          "2015-03-05",
          "2015-03-06",
          "2015-03-07",
          "2015-03-08",
          "2015-03-09",
          "2015-03-10",
          "2015-03-11",
          "2015-03-12",
          "2015-03-13",
          "2015-03-14",
          "2015-03-15",
          "2015-03-16",
          "2015-03-17",
          "2015-03-18",
          "2015-03-19",
          "2015-03-20",
          "2015-03-21",
          "2015-03-22",
          "2015-03-23",
          "2015-03-24",
          "2015-03-25",
          "2015-03-26",
          "2015-03-27",
          "2015-03-28",
          "2015-03-29",
          "2015-03-30",
          "2015-03-31",
          "2015-04-01",
          "2015-04-02",
          "2015-04-03",
          "2015-04-04",
          "2015-04-05",
          "2015-04-06",
          "2015-04-07",
          "2015-04-08",
          "2015-04-09",
          "2015-04-10",
          "2015-04-11",
          "2015-04-12",
          "2015-04-13",
          "2015-04-14",
          "2015-04-15",
          "2015-04-16",
          "2015-04-17",
          "2015-04-18",
          "2015-04-19",
          "2015-04-20",
          "2015-04-21",
          "2015-04-22",
          "2015-04-23",
          "2015-04-24",
          "2015-04-25",
          "2015-04-26",
          "2015-04-27",
          "2015-04-28",
          "2015-04-29",
          "2015-04-30",
          "2015-05-01",
          "2015-05-02",
          "2015-05-03",
          "2015-05-04",
          "2015-05-05",
          "2015-05-06",
          "2015-05-07",
          "2015-05-08",
          "2015-05-09",
          "2015-05-10",
          "2015-05-11",
          "2015-05-12",
          "2015-05-13",
          "2015-05-14",
          "2015-05-15",
          "2015-05-16",
          "2015-05-17",
          "2015-05-18",
          "2015-05-19",
          "2015-05-20",
          "2015-05-21",
          "2015-05-22",
          "2015-05-23",
          "2015-05-24",
          "2015-05-25",
          "2015-05-26",
          "2015-05-27",
          "2015-05-28",
          "2015-05-29",
          "2015-05-30",
          "2015-05-31",
          "2015-06-01",
          "2015-06-02",
          "2015-06-03",
          "2015-06-04",
          "2015-06-05",
          "2015-06-06",
          "2015-06-07",
          "2015-06-08",
          "2015-06-09",
          "2015-06-10",
          "2015-06-11",
          "2015-06-12",
          "2015-06-13",
          "2015-06-14",
          "2015-06-15",
          "2015-06-16",
          "2015-06-17",
          "2015-06-18",
          "2015-06-19",
          "2015-06-20",
          "2015-06-21",
          "2015-06-22",
          "2015-06-23",
          "2015-06-24",
          "2015-06-25",
          "2015-06-26",
          "2015-06-27",
          "2015-06-28",
          "2015-06-29",
          "2015-06-30",
          "2015-07-01",
          "2015-07-02",
          "2015-07-03",
          "2015-07-04",
          "2015-07-05",
          "2015-07-06",
          "2015-07-07",
          "2015-07-08",
          "2015-07-09",
          "2015-07-10",
          "2015-07-11",
          "2015-07-12",
          "2015-07-13",
          "2015-07-14",
          "2015-07-15",
          "2015-07-16",
          "2015-07-17",
          "2015-07-18",
          "2015-07-19",
          "2015-07-20",
          "2015-07-21",
          "2015-07-22",
          "2015-07-23",
          "2015-07-24",
          "2015-07-25",
          "2015-07-26",
          "2015-07-27",
          "2015-07-28",
          "2015-07-29",
          "2015-07-30",
          "2015-07-31",
          "2015-08-01",
          "2015-08-02",
          "2015-08-03",
          "2015-08-04",
          "2015-08-05",
          "2015-08-06",
          "2015-08-07",
          "2015-08-08",
          "2015-08-09",
          "2015-08-10",
          "2015-08-11",
          "2015-08-12",
          "2015-08-13",
          "2015-08-14",
          "2015-08-15",
          "2015-08-16",
          "2015-08-17",
          "2015-08-18",
          "2015-08-19",
          "2015-08-20",
          "2015-08-21",
          "2015-08-22",
          "2015-08-23",
          "2015-08-24",
          "2015-08-25",
          "2015-08-26",
          "2015-08-27",
          "2015-08-28",
          "2015-08-29",
          "2015-08-30",
          "2015-08-31",
          "2015-09-01",
          "2015-09-02",
          "2015-09-03",
          "2015-09-04",
          "2015-09-05",
          "2015-09-06",
          "2015-09-07",
          "2015-09-08",
          "2015-09-09",
          "2015-09-10",
          "2015-09-11",
          "2015-09-12",
          "2015-09-13",
          "2015-09-14",
          "2015-09-15",
          "2015-09-16",
          "2015-09-17",
          "2015-09-18",
          "2015-09-19",
          "2015-09-20",
          "2015-09-21",
          "2015-09-22",
          "2015-09-23",
          "2015-09-24",
          "2015-09-25",
          "2015-09-26",
          "2015-09-27",
          "2015-09-28",
          "2015-09-29",
          "2015-09-30",
          "2015-10-01",
          "2015-10-02",
          "2015-10-03",
          "2015-10-04",
          "2015-10-05",
          "2015-10-06",
          "2015-10-07",
          "2015-10-08",
          "2015-10-09",
          "2015-10-10",
          "2015-10-11",
          "2015-10-12",
          "2015-10-13",
          "2015-10-14",
          "2015-10-15",
          "2015-10-16",
          "2015-10-17",
          "2015-10-18",
          "2015-10-19",
          "2015-10-20",
          "2015-10-21",
          "2015-10-22",
          "2015-10-23",
          "2015-10-24",
          "2015-10-25",
          "2015-10-26",
          "2015-10-27",
          "2015-10-28",
          "2015-10-29",
          "2015-10-30",
          "2015-10-31",
          "2015-11-01",
          "2015-11-02",
          "2015-11-03",
          "2015-11-04",
          "2015-11-05",
          "2015-11-06",
          "2015-11-07",
          "2015-11-08",
          "2015-11-09",
          "2015-11-10",
          "2015-11-11",
          "2015-11-12",
          "2015-11-13",
          "2015-11-14",
          "2015-11-15",
          "2015-11-16",
          "2015-11-17",
          "2015-11-18",
          "2015-11-19",
          "2015-11-20",
          "2015-11-21",
          "2015-11-22",
          "2015-11-23",
          "2015-11-24",
          "2015-11-25",
          "2015-11-26",
          "2015-11-27",
          "2015-11-28",
          "2015-11-29",
          "2015-11-30",
          "2015-12-01",
          "2015-12-02",
          "2015-12-03",
          "2015-12-04",
          "2015-12-05",
          "2015-12-06",
          "2015-12-07",
          "2015-12-08",
          "2015-12-09",
          "2015-12-10",
          "2015-12-11",
          "2015-12-12",
          "2015-12-13",
          "2015-12-14",
          "2015-12-15",
          "2015-12-16",
          "2015-12-17",
          "2015-12-18",
          "2015-12-19",
          "2015-12-20",
          "2015-12-21",
          "2015-12-22",
          "2015-12-23",
          "2015-12-24",
          "2015-12-25",
          "2015-12-26",
          "2015-12-27",
          "2015-12-28",
          "2015-12-29",
          "2015-12-30",
          "2015-12-31",
          "2016-01-01",
          "2016-01-02",
          "2016-01-03",
          "2016-01-04",
          "2016-01-05",
          "2016-01-06",
          "2016-01-07",
          "2016-01-08",
          "2016-01-09",
          "2016-01-10",
          "2016-01-11",
          "2016-01-12",
          "2016-01-13",
          "2016-01-14",
          "2016-01-15",
          "2016-01-16",
          "2016-01-17",
          "2016-01-18",
          "2016-01-19",
          "2016-01-20",
          "2016-01-21",
          "2016-01-22",
          "2016-01-23",
          "2016-01-24",
          "2016-01-25",
          "2016-01-26",
          "2016-01-27",
          "2016-01-28",
          "2016-01-29",
          "2016-01-30",
          "2016-01-31",
          "2016-02-01",
          "2016-02-02",
          "2016-02-03",
          "2016-02-04",
          "2016-02-05",
          "2016-02-06",
          "2016-02-07",
          "2016-02-08",
          "2016-02-09",
          "2016-02-10",
          "2016-02-11",
          "2016-02-12",
          "2016-02-13",
          "2016-02-14",
          "2016-02-15",
          "2016-02-16",
          "2016-02-17",
          "2016-02-18",
          "2016-02-19",
          "2016-02-20",
          "2016-02-21",
          "2016-02-22",
          "2016-02-23",
          "2016-02-24",
          "2016-02-25",
          "2016-02-26",
          "2016-02-27",
          "2016-02-28",
          "2016-02-29",
          "2016-03-01",
          "2016-03-02",
          "2016-03-03",
          "2016-03-04",
          "2016-03-05",
          "2016-03-06",
          "2016-03-07",
          "2016-03-08",
          "2016-03-09",
          "2016-03-10",
          "2016-03-11",
          "2016-03-12",
          "2016-03-13",
          "2016-03-14",
          "2016-03-15",
          "2016-03-16",
          "2016-03-17",
          "2016-03-18",
          "2016-03-19",
          "2016-03-20",
          "2016-03-21",
          "2016-03-22",
          "2016-03-23",
          "2016-03-24",
          "2016-03-25",
          "2016-03-26",
          "2016-03-27",
          "2016-03-28",
          "2016-03-29",
          "2016-03-30",
          "2016-03-31",
          "2016-04-01",
          "2016-04-02",
          "2016-04-03",
          "2016-04-04",
          "2016-04-05",
          "2016-04-06",
          "2016-04-07",
          "2016-04-08",
          "2016-04-09",
          "2016-04-10",
          "2016-04-11",
          "2016-04-12",
          "2016-04-13",
          "2016-04-14",
          "2016-04-15",
          "2016-04-16",
          "2016-04-17",
          "2016-04-18",
          "2016-04-19",
          "2016-04-20",
          "2016-04-21",
          "2016-04-22",
          "2016-04-23",
          "2016-04-24",
          "2016-04-25",
          "2016-04-26",
          "2016-04-27",
          "2016-04-28",
          "2016-04-29",
          "2016-04-30",
          "2016-05-01",
          "2016-05-02",
          "2016-05-03",
          "2016-05-04",
          "2016-05-05",
          "2016-05-06",
          "2016-05-07",
          "2016-05-08",
          "2016-05-09",
          "2016-05-10",
          "2016-05-11",
          "2016-05-12",
          "2016-05-13",
          "2016-05-14",
          "2016-05-15",
          "2016-05-16",
          "2016-05-17",
          "2016-05-18",
          "2016-05-19",
          "2016-05-20",
          "2016-05-21",
          "2016-05-22",
          "2016-05-23",
          "2016-05-24",
          "2016-05-25",
          "2016-05-26",
          "2016-05-27",
          "2016-05-28",
          "2016-05-29",
          "2016-05-30",
          "2016-05-31",
          "2016-06-01",
          "2016-06-02",
          "2016-06-03",
          "2016-06-04",
          "2016-06-05",
          "2016-06-06",
          "2016-06-07",
          "2016-06-08",
          "2016-06-09",
          "2016-06-10",
          "2016-06-11",
          "2016-06-12",
          "2016-06-13",
          "2016-06-14",
          "2016-06-15",
          "2016-06-16",
          "2016-06-17",
          "2016-06-18",
          "2016-06-19",
          "2016-06-20",
          "2016-06-21",
          "2016-06-22",
          "2016-06-23",
          "2016-06-24",
          "2016-06-25",
          "2016-06-26",
          "2016-06-27",
          "2016-06-28",
          "2016-06-29",
          "2016-06-30",
          "2016-07-01",
          "2016-07-02",
          "2016-07-03",
          "2016-07-04",
          "2016-07-05",
          "2016-07-06",
          "2016-07-07",
          "2016-07-08",
          "2016-07-09",
          "2016-07-10",
          "2016-07-11",
          "2016-07-12",
          "2016-07-13",
          "2016-07-14",
          "2016-07-15",
          "2016-07-16",
          "2016-07-17",
          "2016-07-18",
          "2016-07-19",
          "2016-07-20",
          "2016-07-21",
          "2016-07-22",
          "2016-07-23",
          "2016-07-24",
          "2016-07-25",
          "2016-07-26",
          "2016-07-27",
          "2016-07-28",
          "2016-07-29",
          "2016-07-30",
          "2016-07-31",
          "2016-08-01",
          "2016-08-02",
          "2016-08-03",
          "2016-08-04",
          "2016-08-05",
          "2016-08-06",
          "2016-08-07",
          "2016-08-08",
          "2016-08-09",
          "2016-08-10",
          "2016-08-11",
          "2016-08-12",
          "2016-08-13",
          "2016-08-14",
          "2016-08-15",
          "2016-08-16",
          "2016-08-17",
          "2016-08-18",
          "2016-08-19",
          "2016-08-20",
          "2016-08-21",
          "2016-08-22",
          "2016-08-23",
          "2016-08-24",
          "2016-08-25",
          "2016-08-26",
          "2016-08-27",
          "2016-08-28",
          "2016-08-29",
          "2016-08-30",
          "2016-08-31",
          "2016-09-01",
          "2016-09-02",
          "2016-09-03",
          "2016-09-04",
          "2016-09-05",
          "2016-09-06",
          "2016-09-07",
          "2016-09-08",
          "2016-09-09",
          "2016-09-10",
          "2016-09-11",
          "2016-09-12",
          "2016-09-13",
          "2016-09-14",
          "2016-09-15",
          "2016-09-16",
          "2016-09-17",
          "2016-09-18",
          "2016-09-19",
          "2016-09-20",
          "2016-09-21",
          "2016-09-22",
          "2016-09-23",
          "2016-09-24",
          "2016-09-25",
          "2016-09-26",
          "2016-09-27",
          "2016-09-28",
          "2016-09-29",
          "2016-09-30",
          "2016-10-01",
          "2016-10-02",
          "2016-10-03",
          "2016-10-04",
          "2016-10-05",
          "2016-10-06",
          "2016-10-07",
          "2016-10-08",
          "2016-10-09",
          "2016-10-10",
          "2016-10-11",
          "2016-10-12",
          "2016-10-13",
          "2016-10-14",
          "2016-10-15",
          "2016-10-16",
          "2016-10-17",
          "2016-10-18",
          "2016-10-19",
          "2016-10-20",
          "2016-10-21",
          "2016-10-22",
          "2016-10-23",
          "2016-10-24",
          "2016-10-25",
          "2016-10-26",
          "2016-10-27",
          "2016-10-28",
          "2016-10-29",
          "2016-10-30",
          "2016-10-31",
          "2016-11-01",
          "2016-11-02",
          "2016-11-03",
          "2016-11-04",
          "2016-11-05",
          "2016-11-06",
          "2016-11-07",
          "2016-11-08",
          "2016-11-09",
          "2016-11-10",
          "2016-11-11",
          "2016-11-12",
          "2016-11-13",
          "2016-11-14",
          "2016-11-15",
          "2016-11-16",
          "2016-11-17",
          "2016-11-18",
          "2016-11-19",
          "2016-11-20",
          "2016-11-21",
          "2016-11-22",
          "2016-11-23",
          "2016-11-24",
          "2016-11-25",
          "2016-11-26",
          "2016-11-27",
          "2016-11-28",
          "2016-11-29",
          "2016-11-30",
          "2016-12-01",
          "2016-12-02",
          "2016-12-03",
          "2016-12-04",
          "2016-12-05",
          "2016-12-06",
          "2016-12-07",
          "2016-12-08",
          "2016-12-09",
          "2016-12-10",
          "2016-12-11",
          "2016-12-12",
          "2016-12-13",
          "2016-12-14",
          "2016-12-15",
          "2016-12-16",
          "2016-12-17",
          "2016-12-18",
          "2016-12-19",
          "2016-12-20",
          "2016-12-21",
          "2016-12-22",
          "2016-12-23",
          "2016-12-24",
          "2016-12-25",
          "2016-12-26",
          "2016-12-27",
          "2016-12-28",
          "2016-12-29",
          "2016-12-30",
          "2016-12-31",
          "2017-01-01",
          "2017-01-02",
          "2017-01-03",
          "2017-01-04",
          "2017-01-05",
          "2017-01-06",
          "2017-01-07",
          "2017-01-08",
          "2017-01-09",
          "2017-01-10",
          "2017-01-11",
          "2017-01-12",
          "2017-01-13",
          "2017-01-14",
          "2017-01-15",
          "2017-01-16",
          "2017-01-17",
          "2017-01-18",
          "2017-01-19",
          "2017-01-20",
          "2017-01-21",
          "2017-01-22",
          "2017-01-23",
          "2017-01-24",
          "2017-01-25",
          "2017-01-26",
          "2017-01-27",
          "2017-01-28",
          "2017-01-29",
          "2017-01-30",
          "2017-01-31",
          "2017-02-01",
          "2017-02-02",
          "2017-02-03",
          "2017-02-04",
          "2017-02-05",
          "2017-02-06",
          "2017-02-07",
          "2017-02-08",
          "2017-02-09",
          "2017-02-10",
          "2017-02-11",
          "2017-02-12",
          "2017-02-13",
          "2017-02-14",
          "2017-02-15",
          "2017-02-16",
          "2017-02-17",
          "2017-02-18",
          "2017-02-19",
          "2017-02-20",
          "2017-02-21",
          "2017-02-22",
          "2017-02-23",
          "2017-02-24",
          "2017-02-25",
          "2017-02-26",
          "2017-02-27",
          "2017-02-28",
          "2017-03-01",
          "2017-03-02",
          "2017-03-03",
          "2017-03-04",
          "2017-03-05",
          "2017-03-06",
          "2017-03-07",
          "2017-03-08",
          "2017-03-09",
          "2017-03-10",
          "2017-03-11",
          "2017-03-12",
          "2017-03-13",
          "2017-03-14",
          "2017-03-15",
          "2017-03-16",
          "2017-03-17",
          "2017-03-18",
          "2017-03-19",
          "2017-03-20",
          "2017-03-21",
          "2017-03-22",
          "2017-03-23",
          "2017-03-24",
          "2017-03-25",
          "2017-03-26",
          "2017-03-27",
          "2017-03-28",
          "2017-03-29",
          "2017-03-30",
          "2017-03-31",
          "2017-04-01",
          "2017-04-02",
          "2017-04-03",
          "2017-04-04",
          "2017-04-05",
          "2017-04-06",
          "2017-04-07",
          "2017-04-08",
          "2017-04-09",
          "2017-04-10",
          "2017-04-11",
          "2017-04-12",
          "2017-04-13",
          "2017-04-14",
          "2017-04-15",
          "2017-04-16",
          "2017-04-17",
          "2017-04-18",
          "2017-04-19",
          "2017-04-20",
          "2017-04-21",
          "2017-04-22",
          "2017-04-23",
          "2017-04-24",
          "2017-04-25",
          "2017-04-26",
          "2017-04-27",
          "2017-04-28",
          "2017-04-29",
          "2017-04-30",
          "2017-05-01",
          "2017-05-02",
          "2017-05-03",
          "2017-05-04",
          "2017-05-05",
          "2017-05-06",
          "2017-05-07",
          "2017-05-08",
          "2017-05-09",
          "2017-05-10",
          "2017-05-11",
          "2017-05-12",
          "2017-05-13",
          "2017-05-14",
          "2017-05-15",
          "2017-05-16",
          "2017-05-17",
          "2017-05-18",
          "2017-05-19",
          "2017-05-20",
          "2017-05-21",
          "2017-05-22",
          "2017-05-23",
          "2017-05-24",
          "2017-05-25",
          "2017-05-26",
          "2017-05-27",
          "2017-05-28",
          "2017-05-29",
          "2017-05-30",
          "2017-05-31",
          "2017-06-01",
          "2017-06-02",
          "2017-06-03",
          "2017-06-04",
          "2017-06-05",
          "2017-06-06",
          "2017-06-07",
          "2017-06-08",
          "2017-06-09",
          "2017-06-10",
          "2017-06-11",
          "2017-06-12",
          "2017-06-13",
          "2017-06-14",
          "2017-06-15",
          "2017-06-16",
          "2017-06-17",
          "2017-06-18",
          "2017-06-19",
          "2017-06-20",
          "2017-06-21",
          "2017-06-22",
          "2017-06-23",
          "2017-06-24",
          "2017-06-25",
          "2017-06-26",
          "2017-06-27",
          "2017-06-28",
          "2017-06-29",
          "2017-06-30",
          "2017-07-01",
          "2017-07-02",
          "2017-07-03",
          "2017-07-04",
          "2017-07-05",
          "2017-07-06",
          "2017-07-07",
          "2017-07-08",
          "2017-07-09",
          "2017-07-10",
          "2017-07-11",
          "2017-07-12",
          "2017-07-13",
          "2017-07-14",
          "2017-07-15",
          "2017-07-16",
          "2017-07-17",
          "2017-07-18",
          "2017-07-19",
          "2017-07-20",
          "2017-07-21",
          "2017-07-22",
          "2017-07-23",
          "2017-07-24",
          "2017-07-25",
          "2017-07-26",
          "2017-07-27",
          "2017-07-28",
          "2017-07-29",
          "2017-07-30",
          "2017-07-31"
         ],
         "y": [
          "",
          7.696892928991872,
          -3.8328490383284897,
          -15.834532374100718,
          -10.069236686896321,
          -7.090580743275343,
          15.089514066496168,
          3.0311111111111178,
          -3.1144853765852853,
          -0.7123775601068583,
          1.856502242152458,
          -0.792462798274185,
          4.020591106771998,
          -1.6723549488054656,
          -0.20826102047899475,
          2.5913043478260844,
          -5.492456348533647,
          2.4394618834080672,
          3.974785501663458,
          3.5870663523071666,
          0.39018045846204163,
          -1.2226720647773304,
          0.00819739322894808,
          0.721311475409836,
          0.8219401041666741,
          2.268141092905007,
          5.130228887134947,
          -0.9159159159159103,
          1.1365358387634528,
          -2.794426131255612,
          -0.5780346820809301,
          2.55813953488373,
          -2.64550264550264,
          0.15527950310558758,
          0.23255813953488857,
          -5.421500386697609,
          -0.05724098454493731,
          -0.6545573555882811,
          0.18942513589195187,
          -3.0004110152075714,
          -5.508474576271183,
          -2.8699551569506765,
          -7.663896583564167,
          6.349999999999989,
          2.3977433004231496,
          -0.688705234159781,
          -3.8372630605640334,
          -3.865384615384615,
          0.010002000400066713,
          -0.4800480048004707,
          2.2007838408200087,
          5.604719764011801,
          0.7914338919925434,
          1.755196304849882,
          -0.5901044030866998,
          -1.0958904109589107,
          -0.6463527239150557,
          -4.5167286245353155,
          1.177730192719495,
          0.04810004810005264,
          -2.4615384615384595,
          -6.693611987381698,
          0.3592181722134047,
          1.7054426781766496,
          -8.860366421695476,
          2.362294151050537,
          -13.979806945523132,
          3.8694698826260865,
          -15.025456351670174,
          2.703492620195802,
          6.0899260102447395,
          2.6287553648068673,
          0.22216414009410546,
          13.13078628243578,
          2.5587828492392717,
          5.180939536974605,
          4.850945613847624,
          -3.5055538571282963,
          3.9180483683599165,
          -0.9654471544715437,
          1.0774756285274467,
          -8.040609137055842,
          1.7553543828659812,
          -3.0161657806227593,
          1.5326099116232283,
          0.936535918907011,
          4.31175635847616,
          -1.0987861029719492,
          2.528832927732516,
          -0.9081527347781337,
          -1.978754426161211,
          5.9923501912452215,
          1.4434643143544479,
          6.709486166007905,
          -1.7594221687193157,
          -1.970025450089552,
          0.48076923076922906,
          -0.4784688995215336,
          1.0961538461538467,
          1.0272018261365812,
          0.4989644134814508,
          0,
          -3.512880562060894,
          -0.1941747572815511,
          0.1945525291828787,
          1.9417475728155331,
          1.5619047619047643,
          2.213053263315823,
          3.266055045871563,
          -2.2832267235252335,
          -0.9091735612328344,
          4.1379943114047135,
          0,
          4.8458149779735615,
          1.8487394957983128,
          1.7326732673267342,
          -1.7437145174371338,
          -2.1873710276516745,
          1.3080168776371304,
          1.715951686797168,
          -1.67881418393252,
          5.363984674329503,
          -3.0671936758893237,
          -0.1875713586690586,
          9.069368412452006,
          1.393362798711495,
          2.209087550794253,
          -1.7999132571924314,
          0.6772175193227925,
          -7.333479564231937,
          -0.24459523433800756,
          -5.758127026813254,
          4.196391103650865,
          -2.0056383407168865,
          4.47969751767221,
          -0.9440641963653573,
          7.417996981971253,
          -1.5674676524953801,
          1.3896191692330806,
          -4.267298859090229,
          0.8899551153072283,
          1.0355143054383564,
          -0.045551169146673676,
          -0.14431110435971783,
          -1.3843462386856298,
          -2.013112225221747,
          0.3069899244332541,
          1.3262183159381546,
          -2.455080545229249,
          1.03215561730845,
          0.7622789783889861,
          0.12478552487911188,
          4.206262657734849,
          0.7474958887726091,
          1.8993916011277756,
          -3.1600407747196746,
          -0.6165413533834485,
          -13.655621122711459,
          8.323841233680884,
          4.351694572514764,
          -0.3565615068599204,
          0.3500583430571691,
          -1.596899224806203,
          -0.7405073262958806,
          3.7222222222222268,
          -0.07651694850409063,
          0.2373841794930609,
          3.2773109243697363,
          2.1747170648716674,
          1.7302541084485812,
          3.358952462282949,
          -1.8521068576149768,
          2.5955804980708486,
          6.63931623931624,
          10.553988202103092,
          1.2701542744461447,
          4.352557127312284,
          6.338839800230489,
          10.24979355904212,
          -7.204381612208599,
          -5.821520456035911,
          -5.019015480207834,
          10.78276562147531,
          1.0741193239666158,
          2.941324603374462,
          -2.162532413523166,
          2.015302295344301,
          1.0686274509803972,
          0.019400523814128157,
          4.281834933566109,
          6.533364333875835,
          7.044958533391532,
          7.038003588321651,
          12.91809523809524,
          14.068351270200052,
          0.2957617343468,
          -3.683170652590606,
          4.843549078439779,
          5.224272865319457,
          13.054699858463081,
          3.149470996882431,
          -0.5354593050928114,
          5.328388563225284,
          11.787288174094757,
          42.96803560179634,
          -16.906873614190676,
          1.0639571680265414,
          22.273750486603582,
          6.784048281494415,
          3.4195789692004652,
          -2.9543004687774266,
          3.210849208911859,
          16.14170764976035,
          7.958194160112053,
          2.993133458421493,
          9.69233005475072,
          -0.22438757210879734,
          -15.368814357684856,
          9.152063608306737,
          3.3498509579902747,
          6.7598397447787395,
          -9.213235230244033,
          -20.635148453272844,
          -15.820121767436257,
          13.983930796442422,
          12.228127709299264,
          10.671861530021598,
          -11.130893971735233,
          -0.5942081777615904,
          2.2123995144630593,
          -2.2384548163750018,
          0.4033921613568525,
          -19.42085559055837,
          -3.3783305239599493,
          -23.371254324752233,
          32.381863401568765,
          -9.630614486386492,
          -3.1439902769782035,
          1.902057259848755,
          9.110794257753007,
          -1.1627388960662732,
          2.498572673457744,
          11.692880491344315,
          -3.531588755610382,
          -0.9849402097759419,
          2.365937100696569,
          1.4871485135225848,
          -0.2803750677793482,
          2.306335459741904,
          4.017371013741244,
          2.035169929834635,
          4.982167285518857,
          8.611883515025998,
          2.116696838880383,
          -15.870301796934827,
          5.077306733167086,
          0.4912663755458402,
          2.5529603476371454,
          5.2355840088430305,
          -5.550631872640732,
          -2.550914019601025,
          -0.9427009034712386,
          3.315852004752351,
          -2.9353002671622663,
          -2.5118772662542033,
          3.1130315231267858,
          3.685714285714292,
          -0.08726003490401313,
          -0.7228223396920308,
          -2.1205912652938363,
          -2.785037666008361,
          -3.0375650819911337,
          7.093479870023955,
          3.710125232834671,
          -12.864856316645579,
          5.330636902215491,
          1.6602872580029793,
          -0.8438256658595655,
          1.3296216255814786,
          0.3205128205128194,
          -0.8659828484950394,
          -0.18658298702399767,
          0.5013170192879501,
          -1.9384994444176074,
          -3.7393307139953924,
          -8.847802443861552,
          -5.4014598540146,
          1.3325023741690423,
          -0.2738321862644666,
          -1.3009705886671719,
          -3.042385110909429,
          -7.131897133738418,
          9.376445707487946,
          -1.67223069834892,
          -5.26792847047256,
          1.5633361983685479,
          0.052692927970365844,
          -0.5697414618576535,
          -10.73624063046723,
          3.240191318732699,
          5.4444754075519075,
          0.06606983581647352,
          -9.821399095440885,
          -1.392956509005716,
          8.163947207217248,
          -0.6727419382519084,
          -5.098743887900204,
          2.9767323307723137,
          -1.0289775640459076,
          19.287589989103072,
          -0.1467593147238544,
          -0.1904676205045086,
          -0.24793015882556002,
          -5.228512035670175,
          -1.8596519113089016,
          3.1597700218641167,
          -1.4396508414971199,
          1.0067060641297365,
          -0.3169797038368727,
          0.9555450087011419,
          -1.4636286708245905,
          1.1641221374045774,
          -0.7875872476891144,
          -1.384861593066189,
          -1.21149798351462,
          -0.8034741310606219,
          -3.4629195428683923,
          -2.9349321466786593,
          -1.1286286724177197,
          -0.6672094011043406,
          3.944625581271044,
          0.08741708232631318,
          -0.529182079736934,
          -18.86782707504778,
          5.184194890077243,
          -0.9078620856618369,
          -6.291100840849406,
          -0.7104525604536449,
          4.678336980306352,
          -8.620761737530835,
          1.7339982614265503,
          0.6318582478862966,
          3.21319241168192,
          -0.30525427031240504,
          -2.406080347448425,
          0.8166080726269342,
          -2.286521441656175,
          -17.516319201319085,
          15.271920696642738,
          0.0403848438056853,
          -1.6764817629179363,
          10.80278220547748,
          12.380391900433763,
          2.2886401986074167,
          -5.959536585828329,
          -3.2905879506411773,
          4.5700942373446685,
          -0.6758912193954858,
          -0.48176325350784976,
          -1.5833955261512322,
          0.6927365141826458,
          1.864441278241391,
          -7.79482875754306,
          -0.6176183768555554,
          -4.843000436109913,
          0.893696005866329,
          1.5716913852233727,
          0.09615169607120055,
          2.260745241712092,
          -1.830653617616218,
          -2.585784859139262,
          -0.31067251461988077,
          -0.6691109074243751,
          -1.0427240011073313,
          2.2985826184259706,
          0.3076432250125327,
          2.1105481972873985,
          1.1057713700885596,
          -3.419668595823344,
          0.5855681378021727,
          -0.17895166039957333,
          0.7488596909251743,
          0.7387886568912316,
          0.18110676355505007,
          0.18747489175556797,
          -0.5881042548451787,
          -0.01792676914802449,
          8.861894302747775,
          1.2455735814872693,
          6.671818126359885,
          -0.8311411033588789,
          0.9457537195801669,
          8.845260311535984,
          2.0696653195472203,
          -2.0876898289396872,
          1.0188362159512465,
          -1.5388347832114513,
          8.298426554965,
          1.3569954333446876,
          1.0502180605438838,
          4.8220490931881965,
          1.0580969392389061,
          -3.894489297643833,
          2.750892286591533,
          -0.8433698389102906,
          0.19427872112589561,
          0.17863413591461264,
          -1.0637973603194517,
          0.6146404584385978,
          -3.0819872923524505,
          -7.277811127610489,
          2.250617599454796,
          -3.7989869368168394,
          2.6984896771511835,
          -0.1264883462070321,
          3.152704368530368,
          -0.47474052974494363,
          -1.6267517599842019,
          -0.6554416707074573,
          0.1413784397879425,
          1.223549975629834,
          -1.3764590632108442,
          -1.956294824741578,
          -2.750875746960635,
          2.6132711798566133,
          2.7738582785559407,
          -0.11887620131936227,
          1.034280445897262,
          6.152110432705049,
          0.15786183182244784,
          1.5714486353209267,
          -0.8788102261553576,
          -2.242854485708956,
          0.12208850623920409,
          0.6888797390175005,
          -1.8433179723502224,
          0.1169703087695817,
          -0.0496142889152118,
          -1.240972922771455,
          2.470977365587923,
          0.27056962025318043,
          -1.1377443941234966,
          -1.146049481245004,
          0.3665310340373207,
          -0.7706044177030025,
          1.0197795071336113,
          0.9131907108122395,
          -0.04294029708323821,
          -0.7334807719845404,
          -0.27087674306779386,
          -0.10607351215828897,
          -0.3443005389751397,
          -2.854329119646104,
          -0.10635999534674978,
          -0.8784042323113139,
          -0.32896393145464,
          -1.3740843647385703,
          -0.1639092352609839,
          -2.982573153421242,
          3.340443159583284,
          1.4806222707423489,
          -0.9396221340684296,
          -0.45136001900464295,
          0.3596570474031502,
          -0.5672747036244319,
          -0.1349412407761763,
          0.7217993671427392,
          0.6300202081953588,
          -0.541699011103991,
          0.28674686529683857,
          -2.4853652759449063,
          -1.167652723077195,
          -4.034126816937011,
          -7.443383455895791,
          -1.7708559796035361,
          4.567312528922973,
          -5.370302668796068,
          -6.1691744611630845,
          5.155376413990376,
          5.50850077279752,
          1.0273838821828862,
          -0.618668316448856,
          -3.106762119679396,
          2.0519204127933843,
          -1.1391134981998507,
          1.8049751243781165,
          -0.08210020134097329,
          -0.6534285434803833,
          0.13981607294066833,
          -0.8396916542122157,
          -5.253346554288552,
          -0.6028131279303461,
          0.5369777628032368,
          0.03351276626939459,
          2.5272723465734392,
          -1.290691500224661,
          0.30827161004676196,
          -0.5259575521316728,
          -1.592435929335645,
          0.1390644753476611,
          0.8626856878340305,
          0.08135847797061668,
          -0.4168837936425196,
          0.26164311878598134,
          -0.23173277661795444,
          -0.5273180020506807,
          -1.9584744514798968,
          -1.8731493799081678,
          -7.191743380053783,
          -6.983319197059656,
          3.5714285714285587,
          -2.465150403521643,
          0.8349631412667424,
          8.365037921173712,
          -2.889006172697861,
          -2.748109640831753,
          -1.7348203221809189,
          -1.2140543480948507,
          -5.591710052062471,
          -0.4533644413807658,
          3.054837936452981,
          -0.8580141624024429,
          -2.2287680517178443,
          -4.148558935665347,
          -8.522711468387524,
          -2.5420378873110994,
          2.985866275623228,
          1.8510664081434758,
          4.98230167464826,
          3.4255114183713964,
          -0.9506067994411338,
          0.20466865803738798,
          4.485233232128061,
          3.133007528728049,
          2.6792346507517717,
          -1.5216903235462875,
          -3.0929401930237854,
          0.31367628607277265,
          2.001250781738584,
          -0.4828326180257525,
          -1.7199332563213932,
          0.9481520177615277,
          -0.8590353963982555,
          -6.456832654765632,
          -0.019530160147307463,
          -3.0919492116645797,
          2.1395455985256495,
          -0.4820975472230038,
          1.311651888155474,
          -6.16017001286282,
          2.8963914300187854,
          -2.024268048999456,
          -3.7154173563490156,
          0.042977743668459745,
          0.5093743287612362,
          0.8975728896351676,
          2.7232291446034784,
          2.8866829656249093,
          -1.966847032551744,
          0.8965597803866521,
          5.143419491157486,
          1.0075428068050396,
          0.20985500926631317,
          15.194865239740007,
          -0.6657852488431426,
          -5.447544802015503,
          -5.452214569403246,
          3.1239199213038082,
          -0.12117149633906754,
          -3.1516997496192745,
          1.4285714285714235,
          -5.97014925373135,
          -1.953386988598238,
          0.5899957246686682,
          4.151082398277217,
          2.5382920260086372,
          -0.4112496683470246,
          -1.8595977088051163,
          0.3529060455520261,
          1.8340682230097105,
          -0.2550139460751666,
          0.6817758129377571,
          0.31741833090861427,
          0.5431773236651338,
          -1.6521989981904572,
          -1.4426281965814192,
          1.9615800865800948,
          -0.5466365928088135,
          0.08271298593878207,
          -3.5163956278325803,
          -2.6774612472714177,
          -1.6608937595820827,
          1.1952536305107175,
          0.5791560868448897,
          -1.4636636977364392,
          1.2234440670159552,
          -1.7859682052157044,
          -5.296076444187059,
          -2.225891273772407,
          -2.6205516292451048,
          2.068079640333975,
          3.8132393657186014,
          -2.7639713904715757,
          3.4440842787682335,
          0.807496459670376,
          -3.5986490121648784,
          -1.0913713453012064,
          2.7930158929187154,
          -3.677726274701143,
          0.43690242512506305,
          -1.4405497415206137,
          -0.6172642082707069,
          3.0411276308167645,
          -1.8551485055748107,
          0.2482100238663465,
          -10.77675142049963,
          -6.0089654190977555,
          3.891138953026241,
          4.27004772834918,
          2.8477584821272606,
          -3.733777264388105,
          2.4916181401094084,
          -5.375159257601325,
          -3.3260553129548676,
          0.8055409169615224,
          -15.66094100074682,
          -21.145842557336415,
          17.82144862436834,
          -0.8292032024399543,
          -4.247957712638161,
          5.560574124259765,
          2.1489017780736086,
          -1.6522386670390077,
          7.377786190904367,
          2.8691053327456917,
          -0.22706824900390332,
          6.428203366540708,
          2.3683679644946665,
          7.784171527668304,
          -3.6530515230189797,
          -11.222863215424328,
          -0.17100594245650358,
          -3.031990064665313,
          -3.961489201960866,
          4.373218063092055,
          4.961008062739558,
          -4.600596062628548,
          -0.18480221762662286,
          -4.2935860700903605,
          2.37667541799087,
          2.465469923966346,
          -1.9055982436882557,
          -1.477104874446078,
          -0.1226659397573937,
          -0.2956695778748242,
          1.1724987453807234,
          6.164321789321803,
          9.297880474026243,
          -8.74397637183274,
          -0.4173409419981233,
          4.178070475538842,
          -2.9883830713024917,
          1.6713916980493293,
          1.4566339270850603,
          0.3076544425301586,
          -3.4965034965035002,
          1.2331553521484961,
          -0.06279040562601201,
          -0.5319594537991135,
          -0.4379500568492789,
          7.359472148204538,
          0.16940471969426607,
          2.3361913002438506,
          5.9454265949269836,
          2.187397975840666,
          -3.0564430244941487,
          1.1314951115017235,
          -1.25280614092258,
          1.2980346142563715,
          -0.6913776876855016,
          5.5622380171314045,
          0.7423776803287208,
          1.583493282149706,
          -0.6849315068493067,
          -3.060981824358777,
          -1.2125884909231055,
          1.599971619128704,
          1.4665316526415006,
          -1.7516087958979965,
          -10.2276707530648,
          1.8064767850175523,
          0.31426052964396156,
          -0.6609360076408888,
          3.053611260672251,
          -0.45529183460216727,
          -7.929069505885888,
          0.24838144875605206,
          0.9463850528026008,
          -0.6035488673399536,
          2.335748694490558,
          -3.9912974683544267,
          1.9859091096370074,
          -1.3372116511130017,
          1.2488739660961423,
          2.3173049702754023,
          0.521739130434784,
          -0.24378735451400235,
          2.719747733543576,
          -1.9608595548733732,
          -0.9041449763200093,
          -3.2230033967927896,
          -0.5468941310913356,
          -3.1229481286933702,
          0.20332952090482692,
          -0.1690974424011893,
          -4.895193732796955,
          -2.4177389910503666,
          2.130863296221941,
          2.1176785953625377,
          -2.489390558690996,
          0.2153625269203152,
          -0.3402578796561695,
          0.9119496855345854,
          4.736678092863822,
          -0.46329748799252,
          0.97361004355625,
          -2.1948743973610796,
          -2.1100877761923376,
          -3.0743407394319466,
          4.4934603290343045,
          -1.5002834837978152,
          -0.017710870046483418,
          4.579070900314419,
          -1.723480838450131,
          1.2280248190279286,
          2.31132677818926,
          -0.557497087701786,
          -1.2132875909965701,
          -2.685075385397262,
          3.285751588475949,
          2.7514431382463345,
          -0.8324448454031019,
          -0.6326758466691507,
          0.7740324594257109,
          -0.4335976214073223,
          -1.961760192443296,
          0.2326761993400428,
          0.282783944624998,
          -0.6102693602693554,
          0.2752487825534722,
          -1.5498310810810878,
          -0.5061553639600258,
          0.8924337141625438,
          0.5640543543286913,
          2.1288348771989485,
          -0.6157686706885768,
          0.8707665257252861,
          -1.5936916372691345,
          0.004217451815602402,
          0.06747638326585204,
          0.054787592717464584,
          -0.13057579714418344,
          -1.5858287642344981,
          -1.3499614296734408,
          -3.153916329988271,
          1.2873996321715264,
          0.03100088573959603,
          -0.6862354451675823,
          0.2808487874464971,
          0.2978439653256393,
          -1.214431344738942,
          2.517049533381188,
          0.24508731235501902,
          -0.10914647456886639,
          0.39772727272726627,
          0.1175395063340634,
          1.0522654143838572,
          0.49053356282271476,
          1.4044703262824365,
          5.945443796976613,
          -0.6456755679553616,
          -0.10831193838254372,
          -1.7669973093449975,
          0.2452884182985171,
          -0.5179234125851306,
          1.2503074526522884,
          -1.0891129195513938,
          -1.5513712648383193,
          0.952143362022384,
          0.32537067545304055,
          3.0378915390615324,
          -0.7888760508386827,
          3.23280189550621,
          2.337975569905848,
          -1.691564982704219,
          -1.2412033098754938,
          0.3641204338122872,
          1.7749863462588777,
          4.224002453141185,
          -1.0591739913942355,
          -1.04821023677657,
          1.7204462642275153,
          -0.5760921747479553,
          5.8165880473944,
          2.888834286917774,
          6.0555403930131035,
          -6.053977546884548,
          -1.5716486902927707,
          -0.5670354136227629,
          -2.7079032991638385,
          0.4962422237405395,
          -1.6352381293162188,
          -0.46926154965440947,
          1.9626475640510233,
          -1.129113198078724,
          0.5039335822789592,
          -0.4220474713224176,
          4.4303568194167475,
          0.14569168863605153,
          1.3820574991340484,
          0.31774232122723234,
          0.27586676656903286,
          -1.6438542268111367,
          -0.6457405297144003,
          -1.0670095926595513,
          -1.0714913051115271,
          0.3586647727272796,
          -0.4883054385902863,
          1.4187675568040348,
          -1.171025874763354,
          -1.170710940825892,
          0.358963313949312,
          -6.645682809929177,
          1.5632183908045993,
          -0.2301192092952875,
          2.2384391424357997,
          -1.483043011945706,
          -0.8634281852991976,
          0.6058770069675923,
          -1.5545016561276714,
          -1.1623016631619243,
          -0.20502108235657124,
          -18.179703853011866,
          7.3905628197839635,
          3.824775013234505,
          -1.1812194603781578,
          -0.9373521950380548,
          -0.9635834888667039,
          -7.7442257965551935,
          5.277909738717357,
          1.9042461982762493,
          -0.4693796218394386,
          2.949681897050316,
          -0.7000864304235077,
          -0.4439028636086695,
          0.5682811680363775,
          -0.8432582804485778,
          0.5085042959845687,
          -0.915910676901599,
          1.37336033101505,
          2.049500651324365,
          2.050889286018198,
          0.004169446297530577,
          1.5676464456952255,
          -2.2330774598743997,
          0.13015913003318058,
          0.6834954713183627,
          -2.032401815834417,
          -2.0065467839986417,
          0.05639668561017164,
          -0.1474158862296071,
          -0.5254016500217173,
          0.3142869614561894,
          1.3750489534833044,
          -0.6352749281023251,
          -0.1209555488357994,
          -1.7819298473249479,
          1.554449777621203,
          -0.14742867054028386,
          1.8455792947715821,
          0.2600946573998897,
          -0.3402228459640999,
          -0.6742340189468399,
          2.7410207939508435,
          -1.0245044743664722,
          -0.2661709408931512,
          0.6311954587816748,
          -0.10945064197012133,
          0.6068523747313481,
          -0.1968751309010197,
          0.8897842692856539,
          2.362925368167068,
          -1.2557912704218466,
          -0.2757542083384745,
          0.6727197688815467,
          0.41405321198704215,
          0.8614354535804836,
          -0.7043108682452948,
          1.712119359178188,
          0.9939481383511861,
          0.9246398666613587,
          3.3619062598301497,
          2.955833682048148,
          -3.3254507833284097,
          0.6879682005809462,
          2.2851503188581868,
          -1.1838491798411677,
          2.9105794869868973,
          0.9050434274870511,
          1.862567811934901,
          0.7207527072607967,
          0.5710659898477077,
          2.9758149316508886,
          3.686306545491669,
          3.033287374433713,
          4.508379532275519,
          -4.219383555379396,
          3.5840468536142867,
          10.988538241710955,
          11.691907306403838,
          2.0177482524416313,
          -6.125473806978321,
          -3.0749320564255167,
          3.2071995086388805,
          -3.392154833367833,
          1.845354474114136,
          -11.42376268868669,
          -7.642064010450689,
          8.701941622733699,
          -0.41401744787815664,
          -1.1403118040088978,
          -3.826860112342678,
          3.304494487303611,
          1.312169312169309,
          -0.14921364409561377,
          -2.5224902119011294,
          -1.2662885175532712,
          1.5247500155269877,
          -0.7310433426115592,
          -0.4591113576138617,
          -0.9286488159727546,
          2.549601624746134,
          7.455592456049498,
          1.5197913122377171,
          -0.184336945592678,
          3.8922155688622784,
          1.6240674405451294,
          -3.930350895791368,
          -0.9103699412397637,
          0.5178317881900929,
          0.5899459908599969,
          7.095655047084093,
          -0.04370741740583606,
          1.7387725706055068,
          5.061435000252823,
          0.48127827509865106,
          -0.49813200498131094,
          8.775392317319719,
          -3.748285170597865,
          -0.2873563218390829,
          2.4046109510086566,
          4.7593318024224285,
          -2.232872002063091,
          0.2527861429230782,
          1.6532187335555282,
          -0.2804020534058038,
          -4.24597681259733,
          -0.9148614154374402,
          -0.47191318621192524,
          1.3354101289598352,
          2.845840867992777,
          0.1450581331457812,
          -8.423131789750904,
          1.3300740527715904,
          -0.12771392081737387,
          2.5338637870607306,
          -1.4688900180146902,
          0.9258825184004449,
          0.8732610260816953,
          -0.20491331476065744,
          -0.7913436692506437,
          0.7162624125020223,
          -0.2609157449952604,
          -0.659783313269735,
          6.744191466057647,
          -1.052286868245822,
          -1.2399885267965538,
          0.08489533299076424,
          0.09821647804637568,
          -2.8410231251254414,
          -0.7620096857857583,
          -0.47644378657168973,
          -15.333131928144827,
          6.370598084154477,
          -1.3521184909944806,
          1.2738686895108486,
          -1.8131570111320716,
          10.543206628962265,
          -2.3725102919829655,
          -6.768878272315115,
          1.3072237182671476,
          3.994941804949814,
          -2.7892895252748406,
          0.10721670538380579,
          0.7191125844702384,
          -3.71673798009976,
          -0.2156249178258629,
          -0.32150104092550924,
          -2.506278916060811,
          1.1633267348211573,
          0.3725942207687627,
          -1.2017625851248548,
          5.308825516961746,
          -0.7803075027593032,
          -2.594748415470194,
          0.026559014129401426,
          -0.841697201423186,
          0.6908555362163504,
          1.4945616041273313,
          -0.5240403511070357,
          1.214276307124984,
          1.977827512621677,
          3.9223191956310854,
          -1.7287527932618008,
          1.8241335365701383,
          2.166924341701626,
          1.453209069946193,
          -0.37407959845632277,
          3.8903015756077908,
          0.37514868697958725,
          -0.23928896991796123,
          -3.8857795545402585,
          1.0006179588344377,
          -0.09648193905164026,
          1.7925283836623063,
          0.0856184195302534,
          0.22657911772865358,
          0.9688581314878819,
          -0.5894448252227513,
          -2.557915057915061,
          -0.5518998089577676,
          -2.5400213447171804,
          -2.523482746873029,
          1.7824599945078123,
          1.6212503985676197,
          -0.08447576752268482,
          0.2149914244993667,
          0.5471725401340111,
          1.0931843789705908,
          -2.3880101496359885,
          0.592779748311556,
          0.5747959232961453,
          0.09365094611468727,
          0.04318307223567519,
          0.865686674180477,
          -2.6318292045076297,
          0.21731168355512143,
          0.8064516129032251,
          -0.10634441087613578,
          1.156516900147575,
          -0.011959147551954263,
          -0.3946990718591614,
          0.18972597804942648,
          0.1821755597104291,
          2.1103507680528377,
          -0.5928390664542094,
          -1.817410367017902,
          -0.4081436665706262,
          0.46044067306301173,
          0.29515513641924507,
          0.6962388745334502,
          0.007128091809827097,
          0.12829650748396038,
          0.614559605163234,
          -0.1462160696176995,
          -0.15587728206702955,
          -0.5677114133648686,
          -0.2236231711668868,
          0.5126248778045239,
          0.21823702438561465,
          0.6414504828630818,
          -0.34337590253767925,
          0.12979963656101212,
          1.2798152163665533,
          0.20013497475042108,
          -0.7362333650742126,
          0.27842770238653003,
          1.614596700809634,
          1.3501412137493896,
          1.821518385101606,
          -0.82103998397971,
          1.018530982186916,
          1.8388558230434393,
          0.6258722958827567,
          1.0099039941052768,
          -4.591387929369861,
          0.971463266545225,
          1.3563172312420768,
          -1.489782465392231,
          0.7940756602426768,
          -1.5955563423917796,
          1.2661074504688896,
          -0.7950255385298699,
          0.2820558739254908,
          2.5938657975802526,
          -0.23063533507398093,
          0.002180834823573008,
          0.42089194199106394,
          -2.0826094510076554,
          0.4080817937856418,
          0.45059969518255194,
          0.1979022362952776,
          0,
          0.4169684201285939,
          -0.7452411652861812,
          -0.08367095296812899,
          0.18511172815021126,
          -3.4996260613259444,
          0.9049258052016285,
          0.11520737327188613,
          -0.8732146483449554,
          1.0994263862332598,
          0.4120229652144536,
          0.8116955917305768,
          0.8407473309608449,
          4.428955842780891,
          11.950323152959076,
          -0.7188136744396556,
          1.4499363396233589,
          -0.4626681152362089,
          1.0406669301266547,
          0.19555985994190728,
          5.803297581649547,
          0.6219364359879798,
          0.3928552721177425,
          1.8365856203693909,
          -1.5267957782559627,
          0.8740894901144491,
          -1.2052128464342227,
          0.4942310704279418,
          5.066929883803484,
          10.886226163202739,
          4.696929159606422,
          -2.671853261023882,
          1.2996674251706697,
          10.344579319481028,
          -2.2706215500254423,
          0.9774205178192386,
          0.99837351070442,
          -3.476131870433885,
          -9.5736744299608,
          -10.579764494112354,
          4.6735556599342365,
          6.622007115612671,
          -0.027055463700575988,
          -5.37496993023815,
          4.115226337448563,
          -1.2620751751186488,
          -1.0989180834621304,
          5.227460969854203,
          0.4395996079246567,
          4.051456454236302,
          -6.400454739235483,
          3.795584975556432,
          -1.905918146447061,
          0.9990605848232414,
          -5.428668448171514,
          4.052703884101416,
          -2.3345135929904504,
          -0.2457908320019686,
          -0.26179623013429243,
          2.607849797733386,
          -1.5168158904521722,
          0.5515913640044667,
          0.7856187697544259,
          -0.3739163211458729,
          2.8285182438670065,
          -0.934565684514177,
          -0.037141031926435364,
          -1.067086763962799,
          -0.1006489604614802,
          -2.1638772349288016,
          0.7592757677292283,
          0.8725364573799466,
          -1.0857730462134008,
          -0.3546858278550724,
          0.3943048267820437,
          0.1039199205318253,
          0.29922293635407105,
          -0.2952860774136701,
          -4.636287306312492,
          -2.9471089197669165,
          -9.698649116730163,
          3.4504173744680067,
          2.1064340702026785,
          -0.5620017638209185,
          2.215498052309406,
          0.8353465582360942,
          -0.276704516695081,
          -0.5498688774215332,
          0.7315413405920568,
          -0.5032933626076708,
          -0.26480173818578256,
          -0.3352849070733077,
          -2.5820113048378612,
          -0.5661998001647794,
          1.7981806642691112,
          -0.7308118592407875,
          0.19189839852065127,
          0.22809583507450437,
          1.054496812188388,
          -0.06704486848893021,
          0.9358173779910883,
          -0.569237324243721,
          -0.5536415214000501,
          -0.4171119307801008,
          0.3271254500138543,
          -1.6734236177003203,
          0.6947977892797441,
          0.03484866965204336,
          0.5904791764644424,
          -0.3515151515151471,
          -0.5508540844874732,
          0.5661366416215285,
          3.938909545817859,
          1.7418632252887756,
          -0.33517900859306726,
          0.6346955933991705,
          0.6716466810824828,
          1.9168809190614366,
          -0.5524332609528781,
          0.10435731946183413,
          -2.6928196821221717,
          0.25052742616034074,
          0.164408786005521,
          0.23636005515066394,
          -0.5780441475076947,
          -0.029646710038699897,
          -0.16310526055653973,
          0.6419353774052006,
          -0.10494039713381254,
          -0.15101029167967628,
          -1.834590915815948,
          -0.14234279494265145,
          1.0967633741405525,
          -0.03483511379470672,
          -0.29869073892768716,
          1.2000066574571644,
          -0.3075455562134066,
          -0.23755712093965764,
          0.158748532402897,
          0.6686588849081243,
          0.6953783579886519,
          -0.5032737222710915,
          0.20298253368036256,
          -0.31529250322642755,
          0.37856440511305767,
          0.08326394671107629,
          0.6688199406218454,
          0.3224656468758136,
          -0.38119235677019914,
          0.36319416295096385,
          3.5671012455774864,
          -0.7612273230692468,
          0.09431144783789147,
          0.5637651345027361,
          -0.27015209719229993,
          0.4666092538949451,
          -0.38028147062948436,
          -0.19243104554201862,
          -1.16621731770018,
          0.0539237454799224,
          0.3122721364486658,
          3.865177061770142,
          -0.03347076632839174,
          -0.50375150288402,
          0.5858418991679049,
          3.149378792256563,
          1.4757481940144368,
          0.194679722799318,
          3.6003770028275373,
          -1.766319561079388,
          -0.12680591570968236,
          4.1114455682839335,
          1.5127639457926279,
          -7.036702077399671,
          2.1112240453027287,
          0.02559581366246011,
          1.1515168746978999,
          -1.1791657297054225,
          0.9557265370557344,
          1.8905402549834305,
          -1.0701397818242198,
          0.12298575880815843,
          -1.5856841752627693,
          -0.4283384157151904,
          0.4259077247411147,
          0.9361436554991442,
          4.578286163963918,
          -0.432679387261492,
          1.4318875003374032,
          0.003991537939573853,
          -2.739416194353539,
          1.1244408574203613,
          1.6367940480216392,
          -0.8997138484062028,
          -0.5774990263097912,
          0.18371178862337523,
          -0.8454122564552025,
          -0.45554679213468674,
          0.5163722798245951,
          -0.028539976352581764,
          1.3716693855356121,
          1.4858721452614354,
          2.797415330945996,
          -0.8728179551122262,
          0.35271996369059533,
          -1.9602775659994465,
          0.7275603005140407,
          0.5116327759022266,
          0.3488992748623243,
          0.25687264046911906,
          0.24068634428500157,
          -0.6351255405667056,
          1.345926493705596,
          0.06024945839582241,
          0.11786409757097438,
          -0.43379229154936194,
          0.8765052885912894,
          0.7542265992279473,
          -0.03793482796556891,
          0.27576436061882426,
          1.030641722698089,
          4.170412546199187,
          3.6270796375317715,
          6.643995650866352,
          -2.5119850755981665,
          -0.2937184308315466,
          1.275413421410887,
          2.819492954022107,
          4.577796828118297,
          -0.2479711451758293,
          -1.259373394966612,
          0.2600807290582985,
          3.5891422997903932,
          2.34591768252983,
          2.1619770002446748,
          10.62327559779277,
          -12.240956760454825,
          -10.971205273441353,
          0.708268676568391,
          0.2872582793119083,
          -0.918568920105356,
          0.5371996942945989,
          -14.31341441917856,
          3.480508125900017,
          2.3793844662848063,
          -0.6759872812446943,
          0.41421781258781376,
          1.1839863713799081,
          9.189085180330236,
          -2.348172786748026,
          1.4042092440955667,
          -0.4493532205501305,
          2.989843915846402,
          0.31243558728126786,
          -0.39581688602420284,
          -3.0748851803997668,
          0.9913855873819433,
          1.780287064356556,
          0.23539925238940107,
          0.20005436259853404,
          -0.22678197463080751,
          0.09570418705817652,
          5.434711749494769,
          1.9187963726298385,
          2.3032901255788607,
          1.7898794228108361,
          1.2612752570613006,
          -1.491993479720033,
          1.0522319777289013,
          2.234744497423291,
          0.16205775663071798,
          -6.461474785291655,
          -0.5742271566202106,
          1.5960836274995893,
          -0.5246652396834195,
          -0.8547008547008517,
          1.4041427763869851,
          0.29167288835798555,
          1.9811807678564275,
          1.8268706688468361,
          0.7847372898366567,
          -0.6211945903909388,
          3.064311412675247,
          3.2704309339061766,
          0.1918766251232995,
          4.410080183276066,
          0.5965441579813602,
          -2.5424306454911116,
          1.867394041124637,
          1.2675935461723187,
          0,
          3.6043289236167064,
          2.3321063394682984,
          1.9168511842431402,
          -1.5560906360049809,
          0.9536708759908974,
          0.4506281962245229,
          -3.872473150381428,
          -6.010428755904995,
          3.3469565217391306,
          -6.038755058940337,
          5.293180027222566,
          3.8738593163977875,
          0.8629582930783197,
          0.6558867458925866,
          0.7749999999999924,
          -4.94554300941894,
          -7.373233092834708,
          -11.489415849413298,
          6.461152985151264,
          1.687018924706285,
          6.289898788689374,
          -6.3719278205151,
          -1.0055855271937197,
          -9.731462848669825,
          3.760986432289437,
          -0.6219289047883381,
          8.176016054120595,
          0.13196018244929775,
          -0.6856706298047133,
          -1.301960633479804,
          4.419200529992295,
          0.8126591962977825,
          2.0055529847293085,
          3.778001578703827,
          -0.9232302567734108,
          -0.7474078976395293,
          5.1476733227831195,
          -0.4887205330266875,
          -0.08072053700399762,
          1.0136485394786954,
          -0.06229637923339526,
          1.5061534962472312,
          -0.3850590451531577,
          -2.5900347392887157,
          -0.14880952380952328,
          0.42653784881032664,
          0.8886842015488172,
          0.927350499602686,
          1.4875493127622708,
          -0.11389239644458149,
          1.5525204703005002,
          -0.5719725323005798,
          0.790475021480308,
          -1.98910457818805,
          3.5569619204612435,
          1.2270527536695441,
          1.231933875415847,
          2.8608673931370454,
          -0.09486010032404568,
          0.40334832280020105,
          1.9745950567034098,
          5.46854713663576,
          2.1961170512099004,
          2.5653556531435306,
          3.1930957190505316,
          1.1562949137331247,
          1.5011732939020694,
          1.1344058778819388,
          7.931308753624622,
          1.8574288449821674,
          1.809885151763746,
          3.437914421446675,
          -6.725739355285432,
          4.678583027884753,
          0.22161769838939804,
          -3.896269023887311,
          -0.22894220647365904,
          6.033036409236359,
          2.694811020667842,
          5.245016281470893,
          4.880993706325376,
          -2.0880401778647584,
          6.476582402508324,
          6.764516425876499,
          5.31024555899362,
          -5.674321913211433,
          -4.449496307993995,
          -7.425922394457018,
          5.735039507178019,
          4.629835791817416,
          -3.5529191659905868,
          5.099587675306938,
          5.312695448322935,
          3.3502500124590995,
          1.0769323501637285,
          -0.14073588168644902,
          6.967087478750389,
          6.565034371615397,
          -4.576697401508801,
          2.6887151557741795,
          0.6483415430457384,
          4.387688973408266,
          0.3528162539734314,
          -10.090226529777457,
          2.1578189447404306,
          -7.752979367100721,
          -1.6673515881533874,
          2.1902311955789733,
          5.452321961755935,
          -4.051011340873845,
          1.6210870819255208,
          5.104649366697567,
          -1.2010478398406965,
          0.6065226283886727,
          1.4600374804558225,
          -4.9615470088272495,
          -0.740209758042254,
          -4.285146037128151,
          2.985737053400306,
          0.8752375168955329,
          -1.3775880751439873,
          -2.302978750216589,
          -1.8659002595894925,
          2.9541393686718154,
          2.297653672296107,
          1.4656443296958699,
          0.013453052689849088,
          0.252499048804955,
          -3.446345876652257,
          2.091588384299592,
          -2.05729308453958,
          -5.792474706564388,
          -1.465505614188889,
          2.6114407196540457,
          -1.706658218138768,
          -5.282666779761646,
          -10.499073137095127,
          -3.453968762194448,
          15.472427480283123,
          4.05984536059345,
          -1.9599979300352066,
          23.936078964384212,
          -5.318001135718331,
          5.336312112034047,
          -2.83688952784934,
          0.8958394374450673,
          -6.475102183051051,
          -1.8253586288269341,
          5.626914941983441,
          5.136276190404909,
          -2.93911378029984,
          1.1271066771809446,
          4.2855381222843825
         ]
        }
       ],
       "layout": {
        "autosize": true,
        "legend": {
         "bgcolor": "#F5F6F9",
         "font": {
          "color": "#4D5663"
         }
        },
        "paper_bgcolor": "#F5F6F9",
        "plot_bgcolor": "#F5F6F9",
        "template": {
         "data": {
          "bar": [
           {
            "error_x": {
             "color": "#2a3f5f"
            },
            "error_y": {
             "color": "#2a3f5f"
            },
            "marker": {
             "line": {
              "color": "#E5ECF6",
              "width": 0.5
             },
             "pattern": {
              "fillmode": "overlay",
              "size": 10,
              "solidity": 0.2
             }
            },
            "type": "bar"
           }
          ],
          "barpolar": [
           {
            "marker": {
             "line": {
              "color": "#E5ECF6",
              "width": 0.5
             },
             "pattern": {
              "fillmode": "overlay",
              "size": 10,
              "solidity": 0.2
             }
            },
            "type": "barpolar"
           }
          ],
          "carpet": [
           {
            "aaxis": {
             "endlinecolor": "#2a3f5f",
             "gridcolor": "white",
             "linecolor": "white",
             "minorgridcolor": "white",
             "startlinecolor": "#2a3f5f"
            },
            "baxis": {
             "endlinecolor": "#2a3f5f",
             "gridcolor": "white",
             "linecolor": "white",
             "minorgridcolor": "white",
             "startlinecolor": "#2a3f5f"
            },
            "type": "carpet"
           }
          ],
          "choropleth": [
           {
            "colorbar": {
             "outlinewidth": 0,
             "ticks": ""
            },
            "type": "choropleth"
           }
          ],
          "contour": [
           {
            "colorbar": {
             "outlinewidth": 0,
             "ticks": ""
            },
            "colorscale": [
             [
              0,
              "#0d0887"
             ],
             [
              0.1111111111111111,
              "#46039f"
             ],
             [
              0.2222222222222222,
              "#7201a8"
             ],
             [
              0.3333333333333333,
              "#9c179e"
             ],
             [
              0.4444444444444444,
              "#bd3786"
             ],
             [
              0.5555555555555556,
              "#d8576b"
             ],
             [
              0.6666666666666666,
              "#ed7953"
             ],
             [
              0.7777777777777778,
              "#fb9f3a"
             ],
             [
              0.8888888888888888,
              "#fdca26"
             ],
             [
              1,
              "#f0f921"
             ]
            ],
            "type": "contour"
           }
          ],
          "contourcarpet": [
           {
            "colorbar": {
             "outlinewidth": 0,
             "ticks": ""
            },
            "type": "contourcarpet"
           }
          ],
          "heatmap": [
           {
            "colorbar": {
             "outlinewidth": 0,
             "ticks": ""
            },
            "colorscale": [
             [
              0,
              "#0d0887"
             ],
             [
              0.1111111111111111,
              "#46039f"
             ],
             [
              0.2222222222222222,
              "#7201a8"
             ],
             [
              0.3333333333333333,
              "#9c179e"
             ],
             [
              0.4444444444444444,
              "#bd3786"
             ],
             [
              0.5555555555555556,
              "#d8576b"
             ],
             [
              0.6666666666666666,
              "#ed7953"
             ],
             [
              0.7777777777777778,
              "#fb9f3a"
             ],
             [
              0.8888888888888888,
              "#fdca26"
             ],
             [
              1,
              "#f0f921"
             ]
            ],
            "type": "heatmap"
           }
          ],
          "heatmapgl": [
           {
            "colorbar": {
             "outlinewidth": 0,
             "ticks": ""
            },
            "colorscale": [
             [
              0,
              "#0d0887"
             ],
             [
              0.1111111111111111,
              "#46039f"
             ],
             [
              0.2222222222222222,
              "#7201a8"
             ],
             [
              0.3333333333333333,
              "#9c179e"
             ],
             [
              0.4444444444444444,
              "#bd3786"
             ],
             [
              0.5555555555555556,
              "#d8576b"
             ],
             [
              0.6666666666666666,
              "#ed7953"
             ],
             [
              0.7777777777777778,
              "#fb9f3a"
             ],
             [
              0.8888888888888888,
              "#fdca26"
             ],
             [
              1,
              "#f0f921"
             ]
            ],
            "type": "heatmapgl"
           }
          ],
          "histogram": [
           {
            "marker": {
             "pattern": {
              "fillmode": "overlay",
              "size": 10,
              "solidity": 0.2
             }
            },
            "type": "histogram"
           }
          ],
          "histogram2d": [
           {
            "colorbar": {
             "outlinewidth": 0,
             "ticks": ""
            },
            "colorscale": [
             [
              0,
              "#0d0887"
             ],
             [
              0.1111111111111111,
              "#46039f"
             ],
             [
              0.2222222222222222,
              "#7201a8"
             ],
             [
              0.3333333333333333,
              "#9c179e"
             ],
             [
              0.4444444444444444,
              "#bd3786"
             ],
             [
              0.5555555555555556,
              "#d8576b"
             ],
             [
              0.6666666666666666,
              "#ed7953"
             ],
             [
              0.7777777777777778,
              "#fb9f3a"
             ],
             [
              0.8888888888888888,
              "#fdca26"
             ],
             [
              1,
              "#f0f921"
             ]
            ],
            "type": "histogram2d"
           }
          ],
          "histogram2dcontour": [
           {
            "colorbar": {
             "outlinewidth": 0,
             "ticks": ""
            },
            "colorscale": [
             [
              0,
              "#0d0887"
             ],
             [
              0.1111111111111111,
              "#46039f"
             ],
             [
              0.2222222222222222,
              "#7201a8"
             ],
             [
              0.3333333333333333,
              "#9c179e"
             ],
             [
              0.4444444444444444,
              "#bd3786"
             ],
             [
              0.5555555555555556,
              "#d8576b"
             ],
             [
              0.6666666666666666,
              "#ed7953"
             ],
             [
              0.7777777777777778,
              "#fb9f3a"
             ],
             [
              0.8888888888888888,
              "#fdca26"
             ],
             [
              1,
              "#f0f921"
             ]
            ],
            "type": "histogram2dcontour"
           }
          ],
          "mesh3d": [
           {
            "colorbar": {
             "outlinewidth": 0,
             "ticks": ""
            },
            "type": "mesh3d"
           }
          ],
          "parcoords": [
           {
            "line": {
             "colorbar": {
              "outlinewidth": 0,
              "ticks": ""
             }
            },
            "type": "parcoords"
           }
          ],
          "pie": [
           {
            "automargin": true,
            "type": "pie"
           }
          ],
          "scatter": [
           {
            "fillpattern": {
             "fillmode": "overlay",
             "size": 10,
             "solidity": 0.2
            },
            "type": "scatter"
           }
          ],
          "scatter3d": [
           {
            "line": {
             "colorbar": {
              "outlinewidth": 0,
              "ticks": ""
             }
            },
            "marker": {
             "colorbar": {
              "outlinewidth": 0,
              "ticks": ""
             }
            },
            "type": "scatter3d"
           }
          ],
          "scattercarpet": [
           {
            "marker": {
             "colorbar": {
              "outlinewidth": 0,
              "ticks": ""
             }
            },
            "type": "scattercarpet"
           }
          ],
          "scattergeo": [
           {
            "marker": {
             "colorbar": {
              "outlinewidth": 0,
              "ticks": ""
             }
            },
            "type": "scattergeo"
           }
          ],
          "scattergl": [
           {
            "marker": {
             "colorbar": {
              "outlinewidth": 0,
              "ticks": ""
             }
            },
            "type": "scattergl"
           }
          ],
          "scattermapbox": [
           {
            "marker": {
             "colorbar": {
              "outlinewidth": 0,
              "ticks": ""
             }
            },
            "type": "scattermapbox"
           }
          ],
          "scatterpolar": [
           {
            "marker": {
             "colorbar": {
              "outlinewidth": 0,
              "ticks": ""
             }
            },
            "type": "scatterpolar"
           }
          ],
          "scatterpolargl": [
           {
            "marker": {
             "colorbar": {
              "outlinewidth": 0,
              "ticks": ""
             }
            },
            "type": "scatterpolargl"
           }
          ],
          "scatterternary": [
           {
            "marker": {
             "colorbar": {
              "outlinewidth": 0,
              "ticks": ""
             }
            },
            "type": "scatterternary"
           }
          ],
          "surface": [
           {
            "colorbar": {
             "outlinewidth": 0,
             "ticks": ""
            },
            "colorscale": [
             [
              0,
              "#0d0887"
             ],
             [
              0.1111111111111111,
              "#46039f"
             ],
             [
              0.2222222222222222,
              "#7201a8"
             ],
             [
              0.3333333333333333,
              "#9c179e"
             ],
             [
              0.4444444444444444,
              "#bd3786"
             ],
             [
              0.5555555555555556,
              "#d8576b"
             ],
             [
              0.6666666666666666,
              "#ed7953"
             ],
             [
              0.7777777777777778,
              "#fb9f3a"
             ],
             [
              0.8888888888888888,
              "#fdca26"
             ],
             [
              1,
              "#f0f921"
             ]
            ],
            "type": "surface"
           }
          ],
          "table": [
           {
            "cells": {
             "fill": {
              "color": "#EBF0F8"
             },
             "line": {
              "color": "white"
             }
            },
            "header": {
             "fill": {
              "color": "#C8D4E3"
             },
             "line": {
              "color": "white"
             }
            },
            "type": "table"
           }
          ]
         },
         "layout": {
          "annotationdefaults": {
           "arrowcolor": "#2a3f5f",
           "arrowhead": 0,
           "arrowwidth": 1
          },
          "autotypenumbers": "strict",
          "coloraxis": {
           "colorbar": {
            "outlinewidth": 0,
            "ticks": ""
           }
          },
          "colorscale": {
           "diverging": [
            [
             0,
             "#8e0152"
            ],
            [
             0.1,
             "#c51b7d"
            ],
            [
             0.2,
             "#de77ae"
            ],
            [
             0.3,
             "#f1b6da"
            ],
            [
             0.4,
             "#fde0ef"
            ],
            [
             0.5,
             "#f7f7f7"
            ],
            [
             0.6,
             "#e6f5d0"
            ],
            [
             0.7,
             "#b8e186"
            ],
            [
             0.8,
             "#7fbc41"
            ],
            [
             0.9,
             "#4d9221"
            ],
            [
             1,
             "#276419"
            ]
           ],
           "sequential": [
            [
             0,
             "#0d0887"
            ],
            [
             0.1111111111111111,
             "#46039f"
            ],
            [
             0.2222222222222222,
             "#7201a8"
            ],
            [
             0.3333333333333333,
             "#9c179e"
            ],
            [
             0.4444444444444444,
             "#bd3786"
            ],
            [
             0.5555555555555556,
             "#d8576b"
            ],
            [
             0.6666666666666666,
             "#ed7953"
            ],
            [
             0.7777777777777778,
             "#fb9f3a"
            ],
            [
             0.8888888888888888,
             "#fdca26"
            ],
            [
             1,
             "#f0f921"
            ]
           ],
           "sequentialminus": [
            [
             0,
             "#0d0887"
            ],
            [
             0.1111111111111111,
             "#46039f"
            ],
            [
             0.2222222222222222,
             "#7201a8"
            ],
            [
             0.3333333333333333,
             "#9c179e"
            ],
            [
             0.4444444444444444,
             "#bd3786"
            ],
            [
             0.5555555555555556,
             "#d8576b"
            ],
            [
             0.6666666666666666,
             "#ed7953"
            ],
            [
             0.7777777777777778,
             "#fb9f3a"
            ],
            [
             0.8888888888888888,
             "#fdca26"
            ],
            [
             1,
             "#f0f921"
            ]
           ]
          },
          "colorway": [
           "#636efa",
           "#EF553B",
           "#00cc96",
           "#ab63fa",
           "#FFA15A",
           "#19d3f3",
           "#FF6692",
           "#B6E880",
           "#FF97FF",
           "#FECB52"
          ],
          "font": {
           "color": "#2a3f5f"
          },
          "geo": {
           "bgcolor": "white",
           "lakecolor": "white",
           "landcolor": "#E5ECF6",
           "showlakes": true,
           "showland": true,
           "subunitcolor": "white"
          },
          "hoverlabel": {
           "align": "left"
          },
          "hovermode": "closest",
          "mapbox": {
           "style": "light"
          },
          "paper_bgcolor": "white",
          "plot_bgcolor": "#E5ECF6",
          "polar": {
           "angularaxis": {
            "gridcolor": "white",
            "linecolor": "white",
            "ticks": ""
           },
           "bgcolor": "#E5ECF6",
           "radialaxis": {
            "gridcolor": "white",
            "linecolor": "white",
            "ticks": ""
           }
          },
          "scene": {
           "xaxis": {
            "backgroundcolor": "#E5ECF6",
            "gridcolor": "white",
            "gridwidth": 2,
            "linecolor": "white",
            "showbackground": true,
            "ticks": "",
            "zerolinecolor": "white"
           },
           "yaxis": {
            "backgroundcolor": "#E5ECF6",
            "gridcolor": "white",
            "gridwidth": 2,
            "linecolor": "white",
            "showbackground": true,
            "ticks": "",
            "zerolinecolor": "white"
           },
           "zaxis": {
            "backgroundcolor": "#E5ECF6",
            "gridcolor": "white",
            "gridwidth": 2,
            "linecolor": "white",
            "showbackground": true,
            "ticks": "",
            "zerolinecolor": "white"
           }
          },
          "shapedefaults": {
           "line": {
            "color": "#2a3f5f"
           }
          },
          "ternary": {
           "aaxis": {
            "gridcolor": "white",
            "linecolor": "white",
            "ticks": ""
           },
           "baxis": {
            "gridcolor": "white",
            "linecolor": "white",
            "ticks": ""
           },
           "bgcolor": "#E5ECF6",
           "caxis": {
            "gridcolor": "white",
            "linecolor": "white",
            "ticks": ""
           }
          },
          "title": {
           "x": 0.05
          },
          "xaxis": {
           "automargin": true,
           "gridcolor": "white",
           "linecolor": "white",
           "ticks": "",
           "title": {
            "standoff": 15
           },
           "zerolinecolor": "white",
           "zerolinewidth": 2
          },
          "yaxis": {
           "automargin": true,
           "gridcolor": "white",
           "linecolor": "white",
           "ticks": "",
           "title": {
            "standoff": 15
           },
           "zerolinecolor": "white",
           "zerolinewidth": 2
          }
         }
        },
        "title": {
         "font": {
          "color": "#4D5663"
         }
        },
        "xaxis": {
         "autorange": true,
         "gridcolor": "#E1E5ED",
         "range": [
          "2013-04-28",
          "2017-07-31"
         ],
         "showgrid": true,
         "tickfont": {
          "color": "#4D5663"
         },
         "title": {
          "font": {
           "color": "#4D5663"
          },
          "text": ""
         },
         "type": "date",
         "zerolinecolor": "#E1E5ED"
        },
        "yaxis": {
         "autorange": true,
         "gridcolor": "#E1E5ED",
         "range": [
          -27.05677043178271,
          46.65355170882681
         ],
         "showgrid": true,
         "tickfont": {
          "color": "#4D5663"
         },
         "title": {
          "font": {
           "color": "#4D5663"
          },
          "text": ""
         },
         "type": "linear",
         "zerolinecolor": "#E1E5ED"
        }
       }
      },
      "image/png": "[encoded data removed]",
      "text/html": [
       "<div>                            <div id=\"88f7084d-e8eb-4d7a-b843-bf4f97f5d02a\" class=\"plotly-graph-div\" style=\"height:525px; width:100%;\"></div>            <script type=\"text/javascript\">                require([\"plotly\"], function(Plotly) {                    window.PLOTLYENV=window.PLOTLYENV || {};\n",
       "                    window.PLOTLYENV.BASE_URL='https://plot.ly';                                    if (document.getElementById(\"88f7084d-e8eb-4d7a-b843-bf4f97f5d02a\")) {                    Plotly.newPlot(                        \"88f7084d-e8eb-4d7a-b843-bf4f97f5d02a\",                        [{\"line\":{\"color\":\"rgba(55, 128, 191, 1.0)\",\"dash\":\"solid\",\"shape\":\"linear\",\"width\":1.3},\"mode\":\"lines\",\"name\":\"Close_price_pct_change\",\"text\":\"\",\"x\":[\"2013-04-28\",\"2013-04-29\",\"2013-04-30\",\"2013-05-01\",\"2013-05-02\",\"2013-05-03\",\"2013-05-04\",\"2013-05-05\",\"2013-05-06\",\"2013-05-07\",\"2013-05-08\",\"2013-05-09\",\"2013-05-10\",\"2013-05-11\",\"2013-05-12\",\"2013-05-13\",\"2013-05-14\",\"2013-05-15\",\"2013-05-16\",\"2013-05-17\",\"2013-05-18\",\"2013-05-19\",\"2013-05-20\",\"2013-05-21\",\"2013-05-22\",\"2013-05-23\",\"2013-05-24\",\"2013-05-25\",\"2013-05-26\",\"2013-05-27\",\"2013-05-28\",\"2013-05-29\",\"2013-05-30\",\"2013-05-31\",\"2013-06-01\",\"2013-06-02\",\"2013-06-03\",\"2013-06-04\",\"2013-06-05\",\"2013-06-06\",\"2013-06-07\",\"2013-06-08\",\"2013-06-09\",\"2013-06-10\",\"2013-06-11\",\"2013-06-12\",\"2013-06-13\",\"2013-06-14\",\"2013-06-15\",\"2013-06-16\",\"2013-06-17\",\"2013-06-18\",\"2013-06-19\",\"2013-06-20\",\"2013-06-21\",\"2013-06-22\",\"2013-06-23\",\"2013-06-24\",\"2013-06-25\",\"2013-06-26\",\"2013-06-27\",\"2013-06-28\",\"2013-06-29\",\"2013-06-30\",\"2013-07-01\",\"2013-07-02\",\"2013-07-03\",\"2013-07-04\",\"2013-07-05\",\"2013-07-06\",\"2013-07-07\",\"2013-07-08\",\"2013-07-09\",\"2013-07-10\",\"2013-07-11\",\"2013-07-12\",\"2013-07-13\",\"2013-07-14\",\"2013-07-15\",\"2013-07-16\",\"2013-07-17\",\"2013-07-18\",\"2013-07-19\",\"2013-07-20\",\"2013-07-21\",\"2013-07-22\",\"2013-07-23\",\"2013-07-24\",\"2013-07-25\",\"2013-07-26\",\"2013-07-27\",\"2013-07-28\",\"2013-07-29\",\"2013-07-30\",\"2013-07-31\",\"2013-08-01\",\"2013-08-02\",\"2013-08-03\",\"2013-08-04\",\"2013-08-05\",\"2013-08-06\",\"2013-08-07\",\"2013-08-08\",\"2013-08-09\",\"2013-08-10\",\"2013-08-11\",\"2013-08-12\",\"2013-08-13\",\"2013-08-14\",\"2013-08-15\",\"2013-08-16\",\"2013-08-17\",\"2013-08-18\",\"2013-08-19\",\"2013-08-20\",\"2013-08-21\",\"2013-08-22\",\"2013-08-23\",\"2013-08-24\",\"2013-08-25\",\"2013-08-26\",\"2013-08-27\",\"2013-08-28\",\"2013-08-29\",\"2013-08-30\",\"2013-08-31\",\"2013-09-01\",\"2013-09-02\",\"2013-09-03\",\"2013-09-04\",\"2013-09-05\",\"2013-09-06\",\"2013-09-07\",\"2013-09-08\",\"2013-09-09\",\"2013-09-10\",\"2013-09-11\",\"2013-09-12\",\"2013-09-13\",\"2013-09-14\",\"2013-09-15\",\"2013-09-16\",\"2013-09-17\",\"2013-09-18\",\"2013-09-19\",\"2013-09-20\",\"2013-09-21\",\"2013-09-22\",\"2013-09-23\",\"2013-09-24\",\"2013-09-25\",\"2013-09-26\",\"2013-09-27\",\"2013-09-28\",\"2013-09-29\",\"2013-09-30\",\"2013-10-01\",\"2013-10-02\",\"2013-10-03\",\"2013-10-04\",\"2013-10-05\",\"2013-10-06\",\"2013-10-07\",\"2013-10-08\",\"2013-10-09\",\"2013-10-10\",\"2013-10-11\",\"2013-10-12\",\"2013-10-13\",\"2013-10-14\",\"2013-10-15\",\"2013-10-16\",\"2013-10-17\",\"2013-10-18\",\"2013-10-19\",\"2013-10-20\",\"2013-10-21\",\"2013-10-22\",\"2013-10-23\",\"2013-10-24\",\"2013-10-25\",\"2013-10-26\",\"2013-10-27\",\"2013-10-28\",\"2013-10-29\",\"2013-10-30\",\"2013-10-31\",\"2013-11-01\",\"2013-11-02\",\"2013-11-03\",\"2013-11-04\",\"2013-11-05\",\"2013-11-06\",\"2013-11-07\",\"2013-11-08\",\"2013-11-09\",\"2013-11-10\",\"2013-11-11\",\"2013-11-12\",\"2013-11-13\",\"2013-11-14\",\"2013-11-15\",\"2013-11-16\",\"2013-11-17\",\"2013-11-18\",\"2013-11-19\",\"2013-11-20\",\"2013-11-21\",\"2013-11-22\",\"2013-11-23\",\"2013-11-24\",\"2013-11-25\",\"2013-11-26\",\"2013-11-27\",\"2013-11-28\",\"2013-11-29\",\"2013-11-30\",\"2013-12-01\",\"2013-12-02\",\"2013-12-03\",\"2013-12-04\",\"2013-12-05\",\"2013-12-06\",\"2013-12-07\",\"2013-12-08\",\"2013-12-09\",\"2013-12-10\",\"2013-12-11\",\"2013-12-12\",\"2013-12-13\",\"2013-12-14\",\"2013-12-15\",\"2013-12-16\",\"2013-12-17\",\"2013-12-18\",\"2013-12-19\",\"2013-12-20\",\"2013-12-21\",\"2013-12-22\",\"2013-12-23\",\"2013-12-24\",\"2013-12-25\",\"2013-12-26\",\"2013-12-27\",\"2013-12-28\",\"2013-12-29\",\"2013-12-30\",\"2013-12-31\",\"2014-01-01\",\"2014-01-02\",\"2014-01-03\",\"2014-01-04\",\"2014-01-05\",\"2014-01-06\",\"2014-01-07\",\"2014-01-08\",\"2014-01-09\",\"2014-01-10\",\"2014-01-11\",\"2014-01-12\",\"2014-01-13\",\"2014-01-14\",\"2014-01-15\",\"2014-01-16\",\"2014-01-17\",\"2014-01-18\",\"2014-01-19\",\"2014-01-20\",\"2014-01-21\",\"2014-01-22\",\"2014-01-23\",\"2014-01-24\",\"2014-01-25\",\"2014-01-26\",\"2014-01-27\",\"2014-01-28\",\"2014-01-29\",\"2014-01-30\",\"2014-01-31\",\"2014-02-01\",\"2014-02-02\",\"2014-02-03\",\"2014-02-04\",\"2014-02-05\",\"2014-02-06\",\"2014-02-07\",\"2014-02-08\",\"2014-02-09\",\"2014-02-10\",\"2014-02-11\",\"2014-02-12\",\"2014-02-13\",\"2014-02-14\",\"2014-02-15\",\"2014-02-16\",\"2014-02-17\",\"2014-02-18\",\"2014-02-19\",\"2014-02-20\",\"2014-02-21\",\"2014-02-22\",\"2014-02-23\",\"2014-02-24\",\"2014-02-25\",\"2014-02-26\",\"2014-02-27\",\"2014-02-28\",\"2014-03-01\",\"2014-03-02\",\"2014-03-03\",\"2014-03-04\",\"2014-03-05\",\"2014-03-06\",\"2014-03-07\",\"2014-03-08\",\"2014-03-09\",\"2014-03-10\",\"2014-03-11\",\"2014-03-12\",\"2014-03-13\",\"2014-03-14\",\"2014-03-15\",\"2014-03-16\",\"2014-03-17\",\"2014-03-18\",\"2014-03-19\",\"2014-03-20\",\"2014-03-21\",\"2014-03-22\",\"2014-03-23\",\"2014-03-24\",\"2014-03-25\",\"2014-03-26\",\"2014-03-27\",\"2014-03-28\",\"2014-03-29\",\"2014-03-30\",\"2014-03-31\",\"2014-04-01\",\"2014-04-02\",\"2014-04-03\",\"2014-04-04\",\"2014-04-05\",\"2014-04-06\",\"2014-04-07\",\"2014-04-08\",\"2014-04-09\",\"2014-04-10\",\"2014-04-11\",\"2014-04-12\",\"2014-04-13\",\"2014-04-14\",\"2014-04-15\",\"2014-04-16\",\"2014-04-17\",\"2014-04-18\",\"2014-04-19\",\"2014-04-20\",\"2014-04-21\",\"2014-04-22\",\"2014-04-23\",\"2014-04-24\",\"2014-04-25\",\"2014-04-26\",\"2014-04-27\",\"2014-04-28\",\"2014-04-29\",\"2014-04-30\",\"2014-05-01\",\"2014-05-02\",\"2014-05-03\",\"2014-05-04\",\"2014-05-05\",\"2014-05-06\",\"2014-05-07\",\"2014-05-08\",\"2014-05-09\",\"2014-05-10\",\"2014-05-11\",\"2014-05-12\",\"2014-05-13\",\"2014-05-14\",\"2014-05-15\",\"2014-05-16\",\"2014-05-17\",\"2014-05-18\",\"2014-05-19\",\"2014-05-20\",\"2014-05-21\",\"2014-05-22\",\"2014-05-23\",\"2014-05-24\",\"2014-05-25\",\"2014-05-26\",\"2014-05-27\",\"2014-05-28\",\"2014-05-29\",\"2014-05-30\",\"2014-05-31\",\"2014-06-01\",\"2014-06-02\",\"2014-06-03\",\"2014-06-04\",\"2014-06-05\",\"2014-06-06\",\"2014-06-07\",\"2014-06-08\",\"2014-06-09\",\"2014-06-10\",\"2014-06-11\",\"2014-06-12\",\"2014-06-13\",\"2014-06-14\",\"2014-06-15\",\"2014-06-16\",\"2014-06-17\",\"2014-06-18\",\"2014-06-19\",\"2014-06-20\",\"2014-06-21\",\"2014-06-22\",\"2014-06-23\",\"2014-06-24\",\"2014-06-25\",\"2014-06-26\",\"2014-06-27\",\"2014-06-28\",\"2014-06-29\",\"2014-06-30\",\"2014-07-01\",\"2014-07-02\",\"2014-07-03\",\"2014-07-04\",\"2014-07-05\",\"2014-07-06\",\"2014-07-07\",\"2014-07-08\",\"2014-07-09\",\"2014-07-10\",\"2014-07-11\",\"2014-07-12\",\"2014-07-13\",\"2014-07-14\",\"2014-07-15\",\"2014-07-16\",\"2014-07-17\",\"2014-07-18\",\"2014-07-19\",\"2014-07-20\",\"2014-07-21\",\"2014-07-22\",\"2014-07-23\",\"2014-07-24\",\"2014-07-25\",\"2014-07-26\",\"2014-07-27\",\"2014-07-28\",\"2014-07-29\",\"2014-07-30\",\"2014-07-31\",\"2014-08-01\",\"2014-08-02\",\"2014-08-03\",\"2014-08-04\",\"2014-08-05\",\"2014-08-06\",\"2014-08-07\",\"2014-08-08\",\"2014-08-09\",\"2014-08-10\",\"2014-08-11\",\"2014-08-12\",\"2014-08-13\",\"2014-08-14\",\"2014-08-15\",\"2014-08-16\",\"2014-08-17\",\"2014-08-18\",\"2014-08-19\",\"2014-08-20\",\"2014-08-21\",\"2014-08-22\",\"2014-08-23\",\"2014-08-24\",\"2014-08-25\",\"2014-08-26\",\"2014-08-27\",\"2014-08-28\",\"2014-08-29\",\"2014-08-30\",\"2014-08-31\",\"2014-09-01\",\"2014-09-02\",\"2014-09-03\",\"2014-09-04\",\"2014-09-05\",\"2014-09-06\",\"2014-09-07\",\"2014-09-08\",\"2014-09-09\",\"2014-09-10\",\"2014-09-11\",\"2014-09-12\",\"2014-09-13\",\"2014-09-14\",\"2014-09-15\",\"2014-09-16\",\"2014-09-17\",\"2014-09-18\",\"2014-09-19\",\"2014-09-20\",\"2014-09-21\",\"2014-09-22\",\"2014-09-23\",\"2014-09-24\",\"2014-09-25\",\"2014-09-26\",\"2014-09-27\",\"2014-09-28\",\"2014-09-29\",\"2014-09-30\",\"2014-10-01\",\"2014-10-02\",\"2014-10-03\",\"2014-10-04\",\"2014-10-05\",\"2014-10-06\",\"2014-10-07\",\"2014-10-08\",\"2014-10-09\",\"2014-10-10\",\"2014-10-11\",\"2014-10-12\",\"2014-10-13\",\"2014-10-14\",\"2014-10-15\",\"2014-10-16\",\"2014-10-17\",\"2014-10-18\",\"2014-10-19\",\"2014-10-20\",\"2014-10-21\",\"2014-10-22\",\"2014-10-23\",\"2014-10-24\",\"2014-10-25\",\"2014-10-26\",\"2014-10-27\",\"2014-10-28\",\"2014-10-29\",\"2014-10-30\",\"2014-10-31\",\"2014-11-01\",\"2014-11-02\",\"2014-11-03\",\"2014-11-04\",\"2014-11-05\",\"2014-11-06\",\"2014-11-07\",\"2014-11-08\",\"2014-11-09\",\"2014-11-10\",\"2014-11-11\",\"2014-11-12\",\"2014-11-13\",\"2014-11-14\",\"2014-11-15\",\"2014-11-16\",\"2014-11-17\",\"2014-11-18\",\"2014-11-19\",\"2014-11-20\",\"2014-11-21\",\"2014-11-22\",\"2014-11-23\",\"2014-11-24\",\"2014-11-25\",\"2014-11-26\",\"2014-11-27\",\"2014-11-28\",\"2014-11-29\",\"2014-11-30\",\"2014-12-01\",\"2014-12-02\",\"2014-12-03\",\"2014-12-04\",\"2014-12-05\",\"2014-12-06\",\"2014-12-07\",\"2014-12-08\",\"2014-12-09\",\"2014-12-10\",\"2014-12-11\",\"2014-12-12\",\"2014-12-13\",\"2014-12-14\",\"2014-12-15\",\"2014-12-16\",\"2014-12-17\",\"2014-12-18\",\"2014-12-19\",\"2014-12-20\",\"2014-12-21\",\"2014-12-22\",\"2014-12-23\",\"2014-12-24\",\"2014-12-25\",\"2014-12-26\",\"2014-12-27\",\"2014-12-28\",\"2014-12-29\",\"2014-12-30\",\"2014-12-31\",\"2015-01-01\",\"2015-01-02\",\"2015-01-03\",\"2015-01-04\",\"2015-01-05\",\"2015-01-06\",\"2015-01-07\",\"2015-01-08\",\"2015-01-09\",\"2015-01-10\",\"2015-01-11\",\"2015-01-12\",\"2015-01-13\",\"2015-01-14\",\"2015-01-15\",\"2015-01-16\",\"2015-01-17\",\"2015-01-18\",\"2015-01-19\",\"2015-01-20\",\"2015-01-21\",\"2015-01-22\",\"2015-01-23\",\"2015-01-24\",\"2015-01-25\",\"2015-01-26\",\"2015-01-27\",\"2015-01-28\",\"2015-01-29\",\"2015-01-30\",\"2015-01-31\",\"2015-02-01\",\"2015-02-02\",\"2015-02-03\",\"2015-02-04\",\"2015-02-05\",\"2015-02-06\",\"2015-02-07\",\"2015-02-08\",\"2015-02-09\",\"2015-02-10\",\"2015-02-11\",\"2015-02-12\",\"2015-02-13\",\"2015-02-14\",\"2015-02-15\",\"2015-02-16\",\"2015-02-17\",\"2015-02-18\",\"2015-02-19\",\"2015-02-20\",\"2015-02-21\",\"2015-02-22\",\"2015-02-23\",\"2015-02-24\",\"2015-02-25\",\"2015-02-26\",\"2015-02-27\",\"2015-02-28\",\"2015-03-01\",\"2015-03-02\",\"2015-03-03\",\"2015-03-04\",\"2015-03-05\",\"2015-03-06\",\"2015-03-07\",\"2015-03-08\",\"2015-03-09\",\"2015-03-10\",\"2015-03-11\",\"2015-03-12\",\"2015-03-13\",\"2015-03-14\",\"2015-03-15\",\"2015-03-16\",\"2015-03-17\",\"2015-03-18\",\"2015-03-19\",\"2015-03-20\",\"2015-03-21\",\"2015-03-22\",\"2015-03-23\",\"2015-03-24\",\"2015-03-25\",\"2015-03-26\",\"2015-03-27\",\"2015-03-28\",\"2015-03-29\",\"2015-03-30\",\"2015-03-31\",\"2015-04-01\",\"2015-04-02\",\"2015-04-03\",\"2015-04-04\",\"2015-04-05\",\"2015-04-06\",\"2015-04-07\",\"2015-04-08\",\"2015-04-09\",\"2015-04-10\",\"2015-04-11\",\"2015-04-12\",\"2015-04-13\",\"2015-04-14\",\"2015-04-15\",\"2015-04-16\",\"2015-04-17\",\"2015-04-18\",\"2015-04-19\",\"2015-04-20\",\"2015-04-21\",\"2015-04-22\",\"2015-04-23\",\"2015-04-24\",\"2015-04-25\",\"2015-04-26\",\"2015-04-27\",\"2015-04-28\",\"2015-04-29\",\"2015-04-30\",\"2015-05-01\",\"2015-05-02\",\"2015-05-03\",\"2015-05-04\",\"2015-05-05\",\"2015-05-06\",\"2015-05-07\",\"2015-05-08\",\"2015-05-09\",\"2015-05-10\",\"2015-05-11\",\"2015-05-12\",\"2015-05-13\",\"2015-05-14\",\"2015-05-15\",\"2015-05-16\",\"2015-05-17\",\"2015-05-18\",\"2015-05-19\",\"2015-05-20\",\"2015-05-21\",\"2015-05-22\",\"2015-05-23\",\"2015-05-24\",\"2015-05-25\",\"2015-05-26\",\"2015-05-27\",\"2015-05-28\",\"2015-05-29\",\"2015-05-30\",\"2015-05-31\",\"2015-06-01\",\"2015-06-02\",\"2015-06-03\",\"2015-06-04\",\"2015-06-05\",\"2015-06-06\",\"2015-06-07\",\"2015-06-08\",\"2015-06-09\",\"2015-06-10\",\"2015-06-11\",\"2015-06-12\",\"2015-06-13\",\"2015-06-14\",\"2015-06-15\",\"2015-06-16\",\"2015-06-17\",\"2015-06-18\",\"2015-06-19\",\"2015-06-20\",\"2015-06-21\",\"2015-06-22\",\"2015-06-23\",\"2015-06-24\",\"2015-06-25\",\"2015-06-26\",\"2015-06-27\",\"2015-06-28\",\"2015-06-29\",\"2015-06-30\",\"2015-07-01\",\"2015-07-02\",\"2015-07-03\",\"2015-07-04\",\"2015-07-05\",\"2015-07-06\",\"2015-07-07\",\"2015-07-08\",\"2015-07-09\",\"2015-07-10\",\"2015-07-11\",\"2015-07-12\",\"2015-07-13\",\"2015-07-14\",\"2015-07-15\",\"2015-07-16\",\"2015-07-17\",\"2015-07-18\",\"2015-07-19\",\"2015-07-20\",\"2015-07-21\",\"2015-07-22\",\"2015-07-23\",\"2015-07-24\",\"2015-07-25\",\"2015-07-26\",\"2015-07-27\",\"2015-07-28\",\"2015-07-29\",\"2015-07-30\",\"2015-07-31\",\"2015-08-01\",\"2015-08-02\",\"2015-08-03\",\"2015-08-04\",\"2015-08-05\",\"2015-08-06\",\"2015-08-07\",\"2015-08-08\",\"2015-08-09\",\"2015-08-10\",\"2015-08-11\",\"2015-08-12\",\"2015-08-13\",\"2015-08-14\",\"2015-08-15\",\"2015-08-16\",\"2015-08-17\",\"2015-08-18\",\"2015-08-19\",\"2015-08-20\",\"2015-08-21\",\"2015-08-22\",\"2015-08-23\",\"2015-08-24\",\"2015-08-25\",\"2015-08-26\",\"2015-08-27\",\"2015-08-28\",\"2015-08-29\",\"2015-08-30\",\"2015-08-31\",\"2015-09-01\",\"2015-09-02\",\"2015-09-03\",\"2015-09-04\",\"2015-09-05\",\"2015-09-06\",\"2015-09-07\",\"2015-09-08\",\"2015-09-09\",\"2015-09-10\",\"2015-09-11\",\"2015-09-12\",\"2015-09-13\",\"2015-09-14\",\"2015-09-15\",\"2015-09-16\",\"2015-09-17\",\"2015-09-18\",\"2015-09-19\",\"2015-09-20\",\"2015-09-21\",\"2015-09-22\",\"2015-09-23\",\"2015-09-24\",\"2015-09-25\",\"2015-09-26\",\"2015-09-27\",\"2015-09-28\",\"2015-09-29\",\"2015-09-30\",\"2015-10-01\",\"2015-10-02\",\"2015-10-03\",\"2015-10-04\",\"2015-10-05\",\"2015-10-06\",\"2015-10-07\",\"2015-10-08\",\"2015-10-09\",\"2015-10-10\",\"2015-10-11\",\"2015-10-12\",\"2015-10-13\",\"2015-10-14\",\"2015-10-15\",\"2015-10-16\",\"2015-10-17\",\"2015-10-18\",\"2015-10-19\",\"2015-10-20\",\"2015-10-21\",\"2015-10-22\",\"2015-10-23\",\"2015-10-24\",\"2015-10-25\",\"2015-10-26\",\"2015-10-27\",\"2015-10-28\",\"2015-10-29\",\"2015-10-30\",\"2015-10-31\",\"2015-11-01\",\"2015-11-02\",\"2015-11-03\",\"2015-11-04\",\"2015-11-05\",\"2015-11-06\",\"2015-11-07\",\"2015-11-08\",\"2015-11-09\",\"2015-11-10\",\"2015-11-11\",\"2015-11-12\",\"2015-11-13\",\"2015-11-14\",\"2015-11-15\",\"2015-11-16\",\"2015-11-17\",\"2015-11-18\",\"2015-11-19\",\"2015-11-20\",\"2015-11-21\",\"2015-11-22\",\"2015-11-23\",\"2015-11-24\",\"2015-11-25\",\"2015-11-26\",\"2015-11-27\",\"2015-11-28\",\"2015-11-29\",\"2015-11-30\",\"2015-12-01\",\"2015-12-02\",\"2015-12-03\",\"2015-12-04\",\"2015-12-05\",\"2015-12-06\",\"2015-12-07\",\"2015-12-08\",\"2015-12-09\",\"2015-12-10\",\"2015-12-11\",\"2015-12-12\",\"2015-12-13\",\"2015-12-14\",\"2015-12-15\",\"2015-12-16\",\"2015-12-17\",\"2015-12-18\",\"2015-12-19\",\"2015-12-20\",\"2015-12-21\",\"2015-12-22\",\"2015-12-23\",\"2015-12-24\",\"2015-12-25\",\"2015-12-26\",\"2015-12-27\",\"2015-12-28\",\"2015-12-29\",\"2015-12-30\",\"2015-12-31\",\"2016-01-01\",\"2016-01-02\",\"2016-01-03\",\"2016-01-04\",\"2016-01-05\",\"2016-01-06\",\"2016-01-07\",\"2016-01-08\",\"2016-01-09\",\"2016-01-10\",\"2016-01-11\",\"2016-01-12\",\"2016-01-13\",\"2016-01-14\",\"2016-01-15\",\"2016-01-16\",\"2016-01-17\",\"2016-01-18\",\"2016-01-19\",\"2016-01-20\",\"2016-01-21\",\"2016-01-22\",\"2016-01-23\",\"2016-01-24\",\"2016-01-25\",\"2016-01-26\",\"2016-01-27\",\"2016-01-28\",\"2016-01-29\",\"2016-01-30\",\"2016-01-31\",\"2016-02-01\",\"2016-02-02\",\"2016-02-03\",\"2016-02-04\",\"2016-02-05\",\"2016-02-06\",\"2016-02-07\",\"2016-02-08\",\"2016-02-09\",\"2016-02-10\",\"2016-02-11\",\"2016-02-12\",\"2016-02-13\",\"2016-02-14\",\"2016-02-15\",\"2016-02-16\",\"2016-02-17\",\"2016-02-18\",\"2016-02-19\",\"2016-02-20\",\"2016-02-21\",\"2016-02-22\",\"2016-02-23\",\"2016-02-24\",\"2016-02-25\",\"2016-02-26\",\"2016-02-27\",\"2016-02-28\",\"2016-02-29\",\"2016-03-01\",\"2016-03-02\",\"2016-03-03\",\"2016-03-04\",\"2016-03-05\",\"2016-03-06\",\"2016-03-07\",\"2016-03-08\",\"2016-03-09\",\"2016-03-10\",\"2016-03-11\",\"2016-03-12\",\"2016-03-13\",\"2016-03-14\",\"2016-03-15\",\"2016-03-16\",\"2016-03-17\",\"2016-03-18\",\"2016-03-19\",\"2016-03-20\",\"2016-03-21\",\"2016-03-22\",\"2016-03-23\",\"2016-03-24\",\"2016-03-25\",\"2016-03-26\",\"2016-03-27\",\"2016-03-28\",\"2016-03-29\",\"2016-03-30\",\"2016-03-31\",\"2016-04-01\",\"2016-04-02\",\"2016-04-03\",\"2016-04-04\",\"2016-04-05\",\"2016-04-06\",\"2016-04-07\",\"2016-04-08\",\"2016-04-09\",\"2016-04-10\",\"2016-04-11\",\"2016-04-12\",\"2016-04-13\",\"2016-04-14\",\"2016-04-15\",\"2016-04-16\",\"2016-04-17\",\"2016-04-18\",\"2016-04-19\",\"2016-04-20\",\"2016-04-21\",\"2016-04-22\",\"2016-04-23\",\"2016-04-24\",\"2016-04-25\",\"2016-04-26\",\"2016-04-27\",\"2016-04-28\",\"2016-04-29\",\"2016-04-30\",\"2016-05-01\",\"2016-05-02\",\"2016-05-03\",\"2016-05-04\",\"2016-05-05\",\"2016-05-06\",\"2016-05-07\",\"2016-05-08\",\"2016-05-09\",\"2016-05-10\",\"2016-05-11\",\"2016-05-12\",\"2016-05-13\",\"2016-05-14\",\"2016-05-15\",\"2016-05-16\",\"2016-05-17\",\"2016-05-18\",\"2016-05-19\",\"2016-05-20\",\"2016-05-21\",\"2016-05-22\",\"2016-05-23\",\"2016-05-24\",\"2016-05-25\",\"2016-05-26\",\"2016-05-27\",\"2016-05-28\",\"2016-05-29\",\"2016-05-30\",\"2016-05-31\",\"2016-06-01\",\"2016-06-02\",\"2016-06-03\",\"2016-06-04\",\"2016-06-05\",\"2016-06-06\",\"2016-06-07\",\"2016-06-08\",\"2016-06-09\",\"2016-06-10\",\"2016-06-11\",\"2016-06-12\",\"2016-06-13\",\"2016-06-14\",\"2016-06-15\",\"2016-06-16\",\"2016-06-17\",\"2016-06-18\",\"2016-06-19\",\"2016-06-20\",\"2016-06-21\",\"2016-06-22\",\"2016-06-23\",\"2016-06-24\",\"2016-06-25\",\"2016-06-26\",\"2016-06-27\",\"2016-06-28\",\"2016-06-29\",\"2016-06-30\",\"2016-07-01\",\"2016-07-02\",\"2016-07-03\",\"2016-07-04\",\"2016-07-05\",\"2016-07-06\",\"2016-07-07\",\"2016-07-08\",\"2016-07-09\",\"2016-07-10\",\"2016-07-11\",\"2016-07-12\",\"2016-07-13\",\"2016-07-14\",\"2016-07-15\",\"2016-07-16\",\"2016-07-17\",\"2016-07-18\",\"2016-07-19\",\"2016-07-20\",\"2016-07-21\",\"2016-07-22\",\"2016-07-23\",\"2016-07-24\",\"2016-07-25\",\"2016-07-26\",\"2016-07-27\",\"2016-07-28\",\"2016-07-29\",\"2016-07-30\",\"2016-07-31\",\"2016-08-01\",\"2016-08-02\",\"2016-08-03\",\"2016-08-04\",\"2016-08-05\",\"2016-08-06\",\"2016-08-07\",\"2016-08-08\",\"2016-08-09\",\"2016-08-10\",\"2016-08-11\",\"2016-08-12\",\"2016-08-13\",\"2016-08-14\",\"2016-08-15\",\"2016-08-16\",\"2016-08-17\",\"2016-08-18\",\"2016-08-19\",\"2016-08-20\",\"2016-08-21\",\"2016-08-22\",\"2016-08-23\",\"2016-08-24\",\"2016-08-25\",\"2016-08-26\",\"2016-08-27\",\"2016-08-28\",\"2016-08-29\",\"2016-08-30\",\"2016-08-31\",\"2016-09-01\",\"2016-09-02\",\"2016-09-03\",\"2016-09-04\",\"2016-09-05\",\"2016-09-06\",\"2016-09-07\",\"2016-09-08\",\"2016-09-09\",\"2016-09-10\",\"2016-09-11\",\"2016-09-12\",\"2016-09-13\",\"2016-09-14\",\"2016-09-15\",\"2016-09-16\",\"2016-09-17\",\"2016-09-18\",\"2016-09-19\",\"2016-09-20\",\"2016-09-21\",\"2016-09-22\",\"2016-09-23\",\"2016-09-24\",\"2016-09-25\",\"2016-09-26\",\"2016-09-27\",\"2016-09-28\",\"2016-09-29\",\"2016-09-30\",\"2016-10-01\",\"2016-10-02\",\"2016-10-03\",\"2016-10-04\",\"2016-10-05\",\"2016-10-06\",\"2016-10-07\",\"2016-10-08\",\"2016-10-09\",\"2016-10-10\",\"2016-10-11\",\"2016-10-12\",\"2016-10-13\",\"2016-10-14\",\"2016-10-15\",\"2016-10-16\",\"2016-10-17\",\"2016-10-18\",\"2016-10-19\",\"2016-10-20\",\"2016-10-21\",\"2016-10-22\",\"2016-10-23\",\"2016-10-24\",\"2016-10-25\",\"2016-10-26\",\"2016-10-27\",\"2016-10-28\",\"2016-10-29\",\"2016-10-30\",\"2016-10-31\",\"2016-11-01\",\"2016-11-02\",\"2016-11-03\",\"2016-11-04\",\"2016-11-05\",\"2016-11-06\",\"2016-11-07\",\"2016-11-08\",\"2016-11-09\",\"2016-11-10\",\"2016-11-11\",\"2016-11-12\",\"2016-11-13\",\"2016-11-14\",\"2016-11-15\",\"2016-11-16\",\"2016-11-17\",\"2016-11-18\",\"2016-11-19\",\"2016-11-20\",\"2016-11-21\",\"2016-11-22\",\"2016-11-23\",\"2016-11-24\",\"2016-11-25\",\"2016-11-26\",\"2016-11-27\",\"2016-11-28\",\"2016-11-29\",\"2016-11-30\",\"2016-12-01\",\"2016-12-02\",\"2016-12-03\",\"2016-12-04\",\"2016-12-05\",\"2016-12-06\",\"2016-12-07\",\"2016-12-08\",\"2016-12-09\",\"2016-12-10\",\"2016-12-11\",\"2016-12-12\",\"2016-12-13\",\"2016-12-14\",\"2016-12-15\",\"2016-12-16\",\"2016-12-17\",\"2016-12-18\",\"2016-12-19\",\"2016-12-20\",\"2016-12-21\",\"2016-12-22\",\"2016-12-23\",\"2016-12-24\",\"2016-12-25\",\"2016-12-26\",\"2016-12-27\",\"2016-12-28\",\"2016-12-29\",\"2016-12-30\",\"2016-12-31\",\"2017-01-01\",\"2017-01-02\",\"2017-01-03\",\"2017-01-04\",\"2017-01-05\",\"2017-01-06\",\"2017-01-07\",\"2017-01-08\",\"2017-01-09\",\"2017-01-10\",\"2017-01-11\",\"2017-01-12\",\"2017-01-13\",\"2017-01-14\",\"2017-01-15\",\"2017-01-16\",\"2017-01-17\",\"2017-01-18\",\"2017-01-19\",\"2017-01-20\",\"2017-01-21\",\"2017-01-22\",\"2017-01-23\",\"2017-01-24\",\"2017-01-25\",\"2017-01-26\",\"2017-01-27\",\"2017-01-28\",\"2017-01-29\",\"2017-01-30\",\"2017-01-31\",\"2017-02-01\",\"2017-02-02\",\"2017-02-03\",\"2017-02-04\",\"2017-02-05\",\"2017-02-06\",\"2017-02-07\",\"2017-02-08\",\"2017-02-09\",\"2017-02-10\",\"2017-02-11\",\"2017-02-12\",\"2017-02-13\",\"2017-02-14\",\"2017-02-15\",\"2017-02-16\",\"2017-02-17\",\"2017-02-18\",\"2017-02-19\",\"2017-02-20\",\"2017-02-21\",\"2017-02-22\",\"2017-02-23\",\"2017-02-24\",\"2017-02-25\",\"2017-02-26\",\"2017-02-27\",\"2017-02-28\",\"2017-03-01\",\"2017-03-02\",\"2017-03-03\",\"2017-03-04\",\"2017-03-05\",\"2017-03-06\",\"2017-03-07\",\"2017-03-08\",\"2017-03-09\",\"2017-03-10\",\"2017-03-11\",\"2017-03-12\",\"2017-03-13\",\"2017-03-14\",\"2017-03-15\",\"2017-03-16\",\"2017-03-17\",\"2017-03-18\",\"2017-03-19\",\"2017-03-20\",\"2017-03-21\",\"2017-03-22\",\"2017-03-23\",\"2017-03-24\",\"2017-03-25\",\"2017-03-26\",\"2017-03-27\",\"2017-03-28\",\"2017-03-29\",\"2017-03-30\",\"2017-03-31\",\"2017-04-01\",\"2017-04-02\",\"2017-04-03\",\"2017-04-04\",\"2017-04-05\",\"2017-04-06\",\"2017-04-07\",\"2017-04-08\",\"2017-04-09\",\"2017-04-10\",\"2017-04-11\",\"2017-04-12\",\"2017-04-13\",\"2017-04-14\",\"2017-04-15\",\"2017-04-16\",\"2017-04-17\",\"2017-04-18\",\"2017-04-19\",\"2017-04-20\",\"2017-04-21\",\"2017-04-22\",\"2017-04-23\",\"2017-04-24\",\"2017-04-25\",\"2017-04-26\",\"2017-04-27\",\"2017-04-28\",\"2017-04-29\",\"2017-04-30\",\"2017-05-01\",\"2017-05-02\",\"2017-05-03\",\"2017-05-04\",\"2017-05-05\",\"2017-05-06\",\"2017-05-07\",\"2017-05-08\",\"2017-05-09\",\"2017-05-10\",\"2017-05-11\",\"2017-05-12\",\"2017-05-13\",\"2017-05-14\",\"2017-05-15\",\"2017-05-16\",\"2017-05-17\",\"2017-05-18\",\"2017-05-19\",\"2017-05-20\",\"2017-05-21\",\"2017-05-22\",\"2017-05-23\",\"2017-05-24\",\"2017-05-25\",\"2017-05-26\",\"2017-05-27\",\"2017-05-28\",\"2017-05-29\",\"2017-05-30\",\"2017-05-31\",\"2017-06-01\",\"2017-06-02\",\"2017-06-03\",\"2017-06-04\",\"2017-06-05\",\"2017-06-06\",\"2017-06-07\",\"2017-06-08\",\"2017-06-09\",\"2017-06-10\",\"2017-06-11\",\"2017-06-12\",\"2017-06-13\",\"2017-06-14\",\"2017-06-15\",\"2017-06-16\",\"2017-06-17\",\"2017-06-18\",\"2017-06-19\",\"2017-06-20\",\"2017-06-21\",\"2017-06-22\",\"2017-06-23\",\"2017-06-24\",\"2017-06-25\",\"2017-06-26\",\"2017-06-27\",\"2017-06-28\",\"2017-06-29\",\"2017-06-30\",\"2017-07-01\",\"2017-07-02\",\"2017-07-03\",\"2017-07-04\",\"2017-07-05\",\"2017-07-06\",\"2017-07-07\",\"2017-07-08\",\"2017-07-09\",\"2017-07-10\",\"2017-07-11\",\"2017-07-12\",\"2017-07-13\",\"2017-07-14\",\"2017-07-15\",\"2017-07-16\",\"2017-07-17\",\"2017-07-18\",\"2017-07-19\",\"2017-07-20\",\"2017-07-21\",\"2017-07-22\",\"2017-07-23\",\"2017-07-24\",\"2017-07-25\",\"2017-07-26\",\"2017-07-27\",\"2017-07-28\",\"2017-07-29\",\"2017-07-30\",\"2017-07-31\"],\"y\":[\"\",7.696892928991872,-3.8328490383284897,-15.834532374100718,-10.069236686896321,-7.090580743275343,15.089514066496168,3.0311111111111178,-3.1144853765852853,-0.7123775601068583,1.856502242152458,-0.792462798274185,4.020591106771998,-1.6723549488054656,-0.20826102047899475,2.5913043478260844,-5.492456348533647,2.4394618834080672,3.974785501663458,3.5870663523071666,0.39018045846204163,-1.2226720647773304,0.00819739322894808,0.721311475409836,0.8219401041666741,2.268141092905007,5.130228887134947,-0.9159159159159103,1.1365358387634528,-2.794426131255612,-0.5780346820809301,2.55813953488373,-2.64550264550264,0.15527950310558758,0.23255813953488857,-5.421500386697609,-0.05724098454493731,-0.6545573555882811,0.18942513589195187,-3.0004110152075714,-5.508474576271183,-2.8699551569506765,-7.663896583564167,6.349999999999989,2.3977433004231496,-0.688705234159781,-3.8372630605640334,-3.865384615384615,0.010002000400066713,-0.4800480048004707,2.2007838408200087,5.604719764011801,0.7914338919925434,1.755196304849882,-0.5901044030866998,-1.0958904109589107,-0.6463527239150557,-4.5167286245353155,1.177730192719495,0.04810004810005264,-2.4615384615384595,-6.693611987381698,0.3592181722134047,1.7054426781766496,-8.860366421695476,2.362294151050537,-13.979806945523132,3.8694698826260865,-15.025456351670174,2.703492620195802,6.0899260102447395,2.6287553648068673,0.22216414009410546,13.13078628243578,2.5587828492392717,5.180939536974605,4.850945613847624,-3.5055538571282963,3.9180483683599165,-0.9654471544715437,1.0774756285274467,-8.040609137055842,1.7553543828659812,-3.0161657806227593,1.5326099116232283,0.936535918907011,4.31175635847616,-1.0987861029719492,2.528832927732516,-0.9081527347781337,-1.978754426161211,5.9923501912452215,1.4434643143544479,6.709486166007905,-1.7594221687193157,-1.970025450089552,0.48076923076922906,-0.4784688995215336,1.0961538461538467,1.0272018261365812,0.4989644134814508,0.0,-3.512880562060894,-0.1941747572815511,0.1945525291828787,1.9417475728155331,1.5619047619047643,2.213053263315823,3.266055045871563,-2.2832267235252335,-0.9091735612328344,4.1379943114047135,0.0,4.8458149779735615,1.8487394957983128,1.7326732673267342,-1.7437145174371338,-2.1873710276516745,1.3080168776371304,1.715951686797168,-1.67881418393252,5.363984674329503,-3.0671936758893237,-0.1875713586690586,9.069368412452006,1.393362798711495,2.209087550794253,-1.7999132571924314,0.6772175193227925,-7.333479564231937,-0.24459523433800756,-5.758127026813254,4.196391103650865,-2.0056383407168865,4.47969751767221,-0.9440641963653573,7.417996981971253,-1.5674676524953801,1.3896191692330806,-4.267298859090229,0.8899551153072283,1.0355143054383564,-0.045551169146673676,-0.14431110435971783,-1.3843462386856298,-2.013112225221747,0.3069899244332541,1.3262183159381546,-2.455080545229249,1.03215561730845,0.7622789783889861,0.12478552487911188,4.206262657734849,0.7474958887726091,1.8993916011277756,-3.1600407747196746,-0.6165413533834485,-13.655621122711459,8.323841233680884,4.351694572514764,-0.3565615068599204,0.3500583430571691,-1.596899224806203,-0.7405073262958806,3.7222222222222268,-0.07651694850409063,0.2373841794930609,3.2773109243697363,2.1747170648716674,1.7302541084485812,3.358952462282949,-1.8521068576149768,2.5955804980708486,6.63931623931624,10.553988202103092,1.2701542744461447,4.352557127312284,6.338839800230489,10.24979355904212,-7.204381612208599,-5.821520456035911,-5.019015480207834,10.78276562147531,1.0741193239666158,2.941324603374462,-2.162532413523166,2.015302295344301,1.0686274509803972,0.019400523814128157,4.281834933566109,6.533364333875835,7.044958533391532,7.038003588321651,12.91809523809524,14.068351270200052,0.2957617343468,-3.683170652590606,4.843549078439779,5.224272865319457,13.054699858463081,3.149470996882431,-0.5354593050928114,5.328388563225284,11.787288174094757,42.96803560179634,-16.906873614190676,1.0639571680265414,22.273750486603582,6.784048281494415,3.4195789692004652,-2.9543004687774266,3.210849208911859,16.14170764976035,7.958194160112053,2.993133458421493,9.69233005475072,-0.22438757210879734,-15.368814357684856,9.152063608306737,3.3498509579902747,6.7598397447787395,-9.213235230244033,-20.635148453272844,-15.820121767436257,13.983930796442422,12.228127709299264,10.671861530021598,-11.130893971735233,-0.5942081777615904,2.2123995144630593,-2.2384548163750018,0.4033921613568525,-19.42085559055837,-3.3783305239599493,-23.371254324752233,32.381863401568765,-9.630614486386492,-3.1439902769782035,1.902057259848755,9.110794257753007,-1.1627388960662732,2.498572673457744,11.692880491344315,-3.531588755610382,-0.9849402097759419,2.365937100696569,1.4871485135225848,-0.2803750677793482,2.306335459741904,4.017371013741244,2.035169929834635,4.982167285518857,8.611883515025998,2.116696838880383,-15.870301796934827,5.077306733167086,0.4912663755458402,2.5529603476371454,5.2355840088430305,-5.550631872640732,-2.550914019601025,-0.9427009034712386,3.315852004752351,-2.9353002671622663,-2.5118772662542033,3.1130315231267858,3.685714285714292,-0.08726003490401313,-0.7228223396920308,-2.1205912652938363,-2.785037666008361,-3.0375650819911337,7.093479870023955,3.710125232834671,-12.864856316645579,5.330636902215491,1.6602872580029793,-0.8438256658595655,1.3296216255814786,0.3205128205128194,-0.8659828484950394,-0.18658298702399767,0.5013170192879501,-1.9384994444176074,-3.7393307139953924,-8.847802443861552,-5.4014598540146,1.3325023741690423,-0.2738321862644666,-1.3009705886671719,-3.042385110909429,-7.131897133738418,9.376445707487946,-1.67223069834892,-5.26792847047256,1.5633361983685479,0.052692927970365844,-0.5697414618576535,-10.73624063046723,3.240191318732699,5.4444754075519075,0.06606983581647352,-9.821399095440885,-1.392956509005716,8.163947207217248,-0.6727419382519084,-5.098743887900204,2.9767323307723137,-1.0289775640459076,19.287589989103072,-0.1467593147238544,-0.1904676205045086,-0.24793015882556002,-5.228512035670175,-1.8596519113089016,3.1597700218641167,-1.4396508414971199,1.0067060641297365,-0.3169797038368727,0.9555450087011419,-1.4636286708245905,1.1641221374045774,-0.7875872476891144,-1.384861593066189,-1.21149798351462,-0.8034741310606219,-3.4629195428683923,-2.9349321466786593,-1.1286286724177197,-0.6672094011043406,3.944625581271044,0.08741708232631318,-0.529182079736934,-18.86782707504778,5.184194890077243,-0.9078620856618369,-6.291100840849406,-0.7104525604536449,4.678336980306352,-8.620761737530835,1.7339982614265503,0.6318582478862966,3.21319241168192,-0.30525427031240504,-2.406080347448425,0.8166080726269342,-2.286521441656175,-17.516319201319085,15.271920696642738,0.0403848438056853,-1.6764817629179363,10.80278220547748,12.380391900433763,2.2886401986074167,-5.959536585828329,-3.2905879506411773,4.5700942373446685,-0.6758912193954858,-0.48176325350784976,-1.5833955261512322,0.6927365141826458,1.864441278241391,-7.79482875754306,-0.6176183768555554,-4.843000436109913,0.893696005866329,1.5716913852233727,0.09615169607120055,2.260745241712092,-1.830653617616218,-2.585784859139262,-0.31067251461988077,-0.6691109074243751,-1.0427240011073313,2.2985826184259706,0.3076432250125327,2.1105481972873985,1.1057713700885596,-3.419668595823344,0.5855681378021727,-0.17895166039957333,0.7488596909251743,0.7387886568912316,0.18110676355505007,0.18747489175556797,-0.5881042548451787,-0.01792676914802449,8.861894302747775,1.2455735814872693,6.671818126359885,-0.8311411033588789,0.9457537195801669,8.845260311535984,2.0696653195472203,-2.0876898289396872,1.0188362159512465,-1.5388347832114513,8.298426554965,1.3569954333446876,1.0502180605438838,4.8220490931881965,1.0580969392389061,-3.894489297643833,2.750892286591533,-0.8433698389102906,0.19427872112589561,0.17863413591461264,-1.0637973603194517,0.6146404584385978,-3.0819872923524505,-7.277811127610489,2.250617599454796,-3.7989869368168394,2.6984896771511835,-0.1264883462070321,3.152704368530368,-0.47474052974494363,-1.6267517599842019,-0.6554416707074573,0.1413784397879425,1.223549975629834,-1.3764590632108442,-1.956294824741578,-2.750875746960635,2.6132711798566133,2.7738582785559407,-0.11887620131936227,1.034280445897262,6.152110432705049,0.15786183182244784,1.5714486353209267,-0.8788102261553576,-2.242854485708956,0.12208850623920409,0.6888797390175005,-1.8433179723502224,0.1169703087695817,-0.0496142889152118,-1.240972922771455,2.470977365587923,0.27056962025318043,-1.1377443941234966,-1.146049481245004,0.3665310340373207,-0.7706044177030025,1.0197795071336113,0.9131907108122395,-0.04294029708323821,-0.7334807719845404,-0.27087674306779386,-0.10607351215828897,-0.3443005389751397,-2.854329119646104,-0.10635999534674978,-0.8784042323113139,-0.32896393145464,-1.3740843647385703,-0.1639092352609839,-2.982573153421242,3.340443159583284,1.4806222707423489,-0.9396221340684296,-0.45136001900464295,0.3596570474031502,-0.5672747036244319,-0.1349412407761763,0.7217993671427392,0.6300202081953588,-0.541699011103991,0.28674686529683857,-2.4853652759449063,-1.167652723077195,-4.034126816937011,-7.443383455895791,-1.7708559796035361,4.567312528922973,-5.370302668796068,-6.1691744611630845,5.155376413990376,5.50850077279752,1.0273838821828862,-0.618668316448856,-3.106762119679396,2.0519204127933843,-1.1391134981998507,1.8049751243781165,-0.08210020134097329,-0.6534285434803833,0.13981607294066833,-0.8396916542122157,-5.253346554288552,-0.6028131279303461,0.5369777628032368,0.03351276626939459,2.5272723465734392,-1.290691500224661,0.30827161004676196,-0.5259575521316728,-1.592435929335645,0.1390644753476611,0.8626856878340305,0.08135847797061668,-0.4168837936425196,0.26164311878598134,-0.23173277661795444,-0.5273180020506807,-1.9584744514798968,-1.8731493799081678,-7.191743380053783,-6.983319197059656,3.5714285714285587,-2.465150403521643,0.8349631412667424,8.365037921173712,-2.889006172697861,-2.748109640831753,-1.7348203221809189,-1.2140543480948507,-5.591710052062471,-0.4533644413807658,3.054837936452981,-0.8580141624024429,-2.2287680517178443,-4.148558935665347,-8.522711468387524,-2.5420378873110994,2.985866275623228,1.8510664081434758,4.98230167464826,3.4255114183713964,-0.9506067994411338,0.20466865803738798,4.485233232128061,3.133007528728049,2.6792346507517717,-1.5216903235462875,-3.0929401930237854,0.31367628607277265,2.001250781738584,-0.4828326180257525,-1.7199332563213932,0.9481520177615277,-0.8590353963982555,-6.456832654765632,-0.019530160147307463,-3.0919492116645797,2.1395455985256495,-0.4820975472230038,1.311651888155474,-6.16017001286282,2.8963914300187854,-2.024268048999456,-3.7154173563490156,0.042977743668459745,0.5093743287612362,0.8975728896351676,2.7232291446034784,2.8866829656249093,-1.966847032551744,0.8965597803866521,5.143419491157486,1.0075428068050396,0.20985500926631317,15.194865239740007,-0.6657852488431426,-5.447544802015503,-5.452214569403246,3.1239199213038082,-0.12117149633906754,-3.1516997496192745,1.4285714285714235,-5.97014925373135,-1.953386988598238,0.5899957246686682,4.151082398277217,2.5382920260086372,-0.4112496683470246,-1.8595977088051163,0.3529060455520261,1.8340682230097105,-0.2550139460751666,0.6817758129377571,0.31741833090861427,0.5431773236651338,-1.6521989981904572,-1.4426281965814192,1.9615800865800948,-0.5466365928088135,0.08271298593878207,-3.5163956278325803,-2.6774612472714177,-1.6608937595820827,1.1952536305107175,0.5791560868448897,-1.4636636977364392,1.2234440670159552,-1.7859682052157044,-5.296076444187059,-2.225891273772407,-2.6205516292451048,2.068079640333975,3.8132393657186014,-2.7639713904715757,3.4440842787682335,0.807496459670376,-3.5986490121648784,-1.0913713453012064,2.7930158929187154,-3.677726274701143,0.43690242512506305,-1.4405497415206137,-0.6172642082707069,3.0411276308167645,-1.8551485055748107,0.2482100238663465,-10.77675142049963,-6.0089654190977555,3.891138953026241,4.27004772834918,2.8477584821272606,-3.733777264388105,2.4916181401094084,-5.375159257601325,-3.3260553129548676,0.8055409169615224,-15.66094100074682,-21.145842557336415,17.82144862436834,-0.8292032024399543,-4.247957712638161,5.560574124259765,2.1489017780736086,-1.6522386670390077,7.377786190904367,2.8691053327456917,-0.22706824900390332,6.428203366540708,2.3683679644946665,7.784171527668304,-3.6530515230189797,-11.222863215424328,-0.17100594245650358,-3.031990064665313,-3.961489201960866,4.373218063092055,4.961008062739558,-4.600596062628548,-0.18480221762662286,-4.2935860700903605,2.37667541799087,2.465469923966346,-1.9055982436882557,-1.477104874446078,-0.1226659397573937,-0.2956695778748242,1.1724987453807234,6.164321789321803,9.297880474026243,-8.74397637183274,-0.4173409419981233,4.178070475538842,-2.9883830713024917,1.6713916980493293,1.4566339270850603,0.3076544425301586,-3.4965034965035002,1.2331553521484961,-0.06279040562601201,-0.5319594537991135,-0.4379500568492789,7.359472148204538,0.16940471969426607,2.3361913002438506,5.9454265949269836,2.187397975840666,-3.0564430244941487,1.1314951115017235,-1.25280614092258,1.2980346142563715,-0.6913776876855016,5.5622380171314045,0.7423776803287208,1.583493282149706,-0.6849315068493067,-3.060981824358777,-1.2125884909231055,1.599971619128704,1.4665316526415006,-1.7516087958979965,-10.2276707530648,1.8064767850175523,0.31426052964396156,-0.6609360076408888,3.053611260672251,-0.45529183460216727,-7.929069505885888,0.24838144875605206,0.9463850528026008,-0.6035488673399536,2.335748694490558,-3.9912974683544267,1.9859091096370074,-1.3372116511130017,1.2488739660961423,2.3173049702754023,0.521739130434784,-0.24378735451400235,2.719747733543576,-1.9608595548733732,-0.9041449763200093,-3.2230033967927896,-0.5468941310913356,-3.1229481286933702,0.20332952090482692,-0.1690974424011893,-4.895193732796955,-2.4177389910503666,2.130863296221941,2.1176785953625377,-2.489390558690996,0.2153625269203152,-0.3402578796561695,0.9119496855345854,4.736678092863822,-0.46329748799252,0.97361004355625,-2.1948743973610796,-2.1100877761923376,-3.0743407394319466,4.4934603290343045,-1.5002834837978152,-0.017710870046483418,4.579070900314419,-1.723480838450131,1.2280248190279286,2.31132677818926,-0.557497087701786,-1.2132875909965701,-2.685075385397262,3.285751588475949,2.7514431382463345,-0.8324448454031019,-0.6326758466691507,0.7740324594257109,-0.4335976214073223,-1.961760192443296,0.2326761993400428,0.282783944624998,-0.6102693602693554,0.2752487825534722,-1.5498310810810878,-0.5061553639600258,0.8924337141625438,0.5640543543286913,2.1288348771989485,-0.6157686706885768,0.8707665257252861,-1.5936916372691345,0.004217451815602402,0.06747638326585204,0.054787592717464584,-0.13057579714418344,-1.5858287642344981,-1.3499614296734408,-3.153916329988271,1.2873996321715264,0.03100088573959603,-0.6862354451675823,0.2808487874464971,0.2978439653256393,-1.214431344738942,2.517049533381188,0.24508731235501902,-0.10914647456886639,0.39772727272726627,0.1175395063340634,1.0522654143838572,0.49053356282271476,1.4044703262824365,5.945443796976613,-0.6456755679553616,-0.10831193838254372,-1.7669973093449975,0.2452884182985171,-0.5179234125851306,1.2503074526522884,-1.0891129195513938,-1.5513712648383193,0.952143362022384,0.32537067545304055,3.0378915390615324,-0.7888760508386827,3.23280189550621,2.337975569905848,-1.691564982704219,-1.2412033098754938,0.3641204338122872,1.7749863462588777,4.224002453141185,-1.0591739913942355,-1.04821023677657,1.7204462642275153,-0.5760921747479553,5.8165880473944,2.888834286917774,6.0555403930131035,-6.053977546884548,-1.5716486902927707,-0.5670354136227629,-2.7079032991638385,0.4962422237405395,-1.6352381293162188,-0.46926154965440947,1.9626475640510233,-1.129113198078724,0.5039335822789592,-0.4220474713224176,4.4303568194167475,0.14569168863605153,1.3820574991340484,0.31774232122723234,0.27586676656903286,-1.6438542268111367,-0.6457405297144003,-1.0670095926595513,-1.0714913051115271,0.3586647727272796,-0.4883054385902863,1.4187675568040348,-1.171025874763354,-1.170710940825892,0.358963313949312,-6.645682809929177,1.5632183908045993,-0.2301192092952875,2.2384391424357997,-1.483043011945706,-0.8634281852991976,0.6058770069675923,-1.5545016561276714,-1.1623016631619243,-0.20502108235657124,-18.179703853011866,7.3905628197839635,3.824775013234505,-1.1812194603781578,-0.9373521950380548,-0.9635834888667039,-7.7442257965551935,5.277909738717357,1.9042461982762493,-0.4693796218394386,2.949681897050316,-0.7000864304235077,-0.4439028636086695,0.5682811680363775,-0.8432582804485778,0.5085042959845687,-0.915910676901599,1.37336033101505,2.049500651324365,2.050889286018198,0.004169446297530577,1.5676464456952255,-2.2330774598743997,0.13015913003318058,0.6834954713183627,-2.032401815834417,-2.0065467839986417,0.05639668561017164,-0.1474158862296071,-0.5254016500217173,0.3142869614561894,1.3750489534833044,-0.6352749281023251,-0.1209555488357994,-1.7819298473249479,1.554449777621203,-0.14742867054028386,1.8455792947715821,0.2600946573998897,-0.3402228459640999,-0.6742340189468399,2.7410207939508435,-1.0245044743664722,-0.2661709408931512,0.6311954587816748,-0.10945064197012133,0.6068523747313481,-0.1968751309010197,0.8897842692856539,2.362925368167068,-1.2557912704218466,-0.2757542083384745,0.6727197688815467,0.41405321198704215,0.8614354535804836,-0.7043108682452948,1.712119359178188,0.9939481383511861,0.9246398666613587,3.3619062598301497,2.955833682048148,-3.3254507833284097,0.6879682005809462,2.2851503188581868,-1.1838491798411677,2.9105794869868973,0.9050434274870511,1.862567811934901,0.7207527072607967,0.5710659898477077,2.9758149316508886,3.686306545491669,3.033287374433713,4.508379532275519,-4.219383555379396,3.5840468536142867,10.988538241710955,11.691907306403838,2.0177482524416313,-6.125473806978321,-3.0749320564255167,3.2071995086388805,-3.392154833367833,1.845354474114136,-11.42376268868669,-7.642064010450689,8.701941622733699,-0.41401744787815664,-1.1403118040088978,-3.826860112342678,3.304494487303611,1.312169312169309,-0.14921364409561377,-2.5224902119011294,-1.2662885175532712,1.5247500155269877,-0.7310433426115592,-0.4591113576138617,-0.9286488159727546,2.549601624746134,7.455592456049498,1.5197913122377171,-0.184336945592678,3.8922155688622784,1.6240674405451294,-3.930350895791368,-0.9103699412397637,0.5178317881900929,0.5899459908599969,7.095655047084093,-0.04370741740583606,1.7387725706055068,5.061435000252823,0.48127827509865106,-0.49813200498131094,8.775392317319719,-3.748285170597865,-0.2873563218390829,2.4046109510086566,4.7593318024224285,-2.232872002063091,0.2527861429230782,1.6532187335555282,-0.2804020534058038,-4.24597681259733,-0.9148614154374402,-0.47191318621192524,1.3354101289598352,2.845840867992777,0.1450581331457812,-8.423131789750904,1.3300740527715904,-0.12771392081737387,2.5338637870607306,-1.4688900180146902,0.9258825184004449,0.8732610260816953,-0.20491331476065744,-0.7913436692506437,0.7162624125020223,-0.2609157449952604,-0.659783313269735,6.744191466057647,-1.052286868245822,-1.2399885267965538,0.08489533299076424,0.09821647804637568,-2.8410231251254414,-0.7620096857857583,-0.47644378657168973,-15.333131928144827,6.370598084154477,-1.3521184909944806,1.2738686895108486,-1.8131570111320716,10.543206628962265,-2.3725102919829655,-6.768878272315115,1.3072237182671476,3.994941804949814,-2.7892895252748406,0.10721670538380579,0.7191125844702384,-3.71673798009976,-0.2156249178258629,-0.32150104092550924,-2.506278916060811,1.1633267348211573,0.3725942207687627,-1.2017625851248548,5.308825516961746,-0.7803075027593032,-2.594748415470194,0.026559014129401426,-0.841697201423186,0.6908555362163504,1.4945616041273313,-0.5240403511070357,1.214276307124984,1.977827512621677,3.9223191956310854,-1.7287527932618008,1.8241335365701383,2.166924341701626,1.453209069946193,-0.37407959845632277,3.8903015756077908,0.37514868697958725,-0.23928896991796123,-3.8857795545402585,1.0006179588344377,-0.09648193905164026,1.7925283836623063,0.0856184195302534,0.22657911772865358,0.9688581314878819,-0.5894448252227513,-2.557915057915061,-0.5518998089577676,-2.5400213447171804,-2.523482746873029,1.7824599945078123,1.6212503985676197,-0.08447576752268482,0.2149914244993667,0.5471725401340111,1.0931843789705908,-2.3880101496359885,0.592779748311556,0.5747959232961453,0.09365094611468727,0.04318307223567519,0.865686674180477,-2.6318292045076297,0.21731168355512143,0.8064516129032251,-0.10634441087613578,1.156516900147575,-0.011959147551954263,-0.3946990718591614,0.18972597804942648,0.1821755597104291,2.1103507680528377,-0.5928390664542094,-1.817410367017902,-0.4081436665706262,0.46044067306301173,0.29515513641924507,0.6962388745334502,0.007128091809827097,0.12829650748396038,0.614559605163234,-0.1462160696176995,-0.15587728206702955,-0.5677114133648686,-0.2236231711668868,0.5126248778045239,0.21823702438561465,0.6414504828630818,-0.34337590253767925,0.12979963656101212,1.2798152163665533,0.20013497475042108,-0.7362333650742126,0.27842770238653003,1.614596700809634,1.3501412137493896,1.821518385101606,-0.82103998397971,1.018530982186916,1.8388558230434393,0.6258722958827567,1.0099039941052768,-4.591387929369861,0.971463266545225,1.3563172312420768,-1.489782465392231,0.7940756602426768,-1.5955563423917796,1.2661074504688896,-0.7950255385298699,0.2820558739254908,2.5938657975802526,-0.23063533507398093,0.002180834823573008,0.42089194199106394,-2.0826094510076554,0.4080817937856418,0.45059969518255194,0.1979022362952776,0.0,0.4169684201285939,-0.7452411652861812,-0.08367095296812899,0.18511172815021126,-3.4996260613259444,0.9049258052016285,0.11520737327188613,-0.8732146483449554,1.0994263862332598,0.4120229652144536,0.8116955917305768,0.8407473309608449,4.428955842780891,11.950323152959076,-0.7188136744396556,1.4499363396233589,-0.4626681152362089,1.0406669301266547,0.19555985994190728,5.803297581649547,0.6219364359879798,0.3928552721177425,1.8365856203693909,-1.5267957782559627,0.8740894901144491,-1.2052128464342227,0.4942310704279418,5.066929883803484,10.886226163202739,4.696929159606422,-2.671853261023882,1.2996674251706697,10.344579319481028,-2.2706215500254423,0.9774205178192386,0.99837351070442,-3.476131870433885,-9.5736744299608,-10.579764494112354,4.6735556599342365,6.622007115612671,-0.027055463700575988,-5.37496993023815,4.115226337448563,-1.2620751751186488,-1.0989180834621304,5.227460969854203,0.4395996079246567,4.051456454236302,-6.400454739235483,3.795584975556432,-1.905918146447061,0.9990605848232414,-5.428668448171514,4.052703884101416,-2.3345135929904504,-0.2457908320019686,-0.26179623013429243,2.607849797733386,-1.5168158904521722,0.5515913640044667,0.7856187697544259,-0.3739163211458729,2.8285182438670065,-0.934565684514177,-0.037141031926435364,-1.067086763962799,-0.1006489604614802,-2.1638772349288016,0.7592757677292283,0.8725364573799466,-1.0857730462134008,-0.3546858278550724,0.3943048267820437,0.1039199205318253,0.29922293635407105,-0.2952860774136701,-4.636287306312492,-2.9471089197669165,-9.698649116730163,3.4504173744680067,2.1064340702026785,-0.5620017638209185,2.215498052309406,0.8353465582360942,-0.276704516695081,-0.5498688774215332,0.7315413405920568,-0.5032933626076708,-0.26480173818578256,-0.3352849070733077,-2.5820113048378612,-0.5661998001647794,1.7981806642691112,-0.7308118592407875,0.19189839852065127,0.22809583507450437,1.054496812188388,-0.06704486848893021,0.9358173779910883,-0.569237324243721,-0.5536415214000501,-0.4171119307801008,0.3271254500138543,-1.6734236177003203,0.6947977892797441,0.03484866965204336,0.5904791764644424,-0.3515151515151471,-0.5508540844874732,0.5661366416215285,3.938909545817859,1.7418632252887756,-0.33517900859306726,0.6346955933991705,0.6716466810824828,1.9168809190614366,-0.5524332609528781,0.10435731946183413,-2.6928196821221717,0.25052742616034074,0.164408786005521,0.23636005515066394,-0.5780441475076947,-0.029646710038699897,-0.16310526055653973,0.6419353774052006,-0.10494039713381254,-0.15101029167967628,-1.834590915815948,-0.14234279494265145,1.0967633741405525,-0.03483511379470672,-0.29869073892768716,1.2000066574571644,-0.3075455562134066,-0.23755712093965764,0.158748532402897,0.6686588849081243,0.6953783579886519,-0.5032737222710915,0.20298253368036256,-0.31529250322642755,0.37856440511305767,0.08326394671107629,0.6688199406218454,0.3224656468758136,-0.38119235677019914,0.36319416295096385,3.5671012455774864,-0.7612273230692468,0.09431144783789147,0.5637651345027361,-0.27015209719229993,0.4666092538949451,-0.38028147062948436,-0.19243104554201862,-1.16621731770018,0.0539237454799224,0.3122721364486658,3.865177061770142,-0.03347076632839174,-0.50375150288402,0.5858418991679049,3.149378792256563,1.4757481940144368,0.194679722799318,3.6003770028275373,-1.766319561079388,-0.12680591570968236,4.1114455682839335,1.5127639457926279,-7.036702077399671,2.1112240453027287,0.02559581366246011,1.1515168746978999,-1.1791657297054225,0.9557265370557344,1.8905402549834305,-1.0701397818242198,0.12298575880815843,-1.5856841752627693,-0.4283384157151904,0.4259077247411147,0.9361436554991442,4.578286163963918,-0.432679387261492,1.4318875003374032,0.003991537939573853,-2.739416194353539,1.1244408574203613,1.6367940480216392,-0.8997138484062028,-0.5774990263097912,0.18371178862337523,-0.8454122564552025,-0.45554679213468674,0.5163722798245951,-0.028539976352581764,1.3716693855356121,1.4858721452614354,2.797415330945996,-0.8728179551122262,0.35271996369059533,-1.9602775659994465,0.7275603005140407,0.5116327759022266,0.3488992748623243,0.25687264046911906,0.24068634428500157,-0.6351255405667056,1.345926493705596,0.06024945839582241,0.11786409757097438,-0.43379229154936194,0.8765052885912894,0.7542265992279473,-0.03793482796556891,0.27576436061882426,1.030641722698089,4.170412546199187,3.6270796375317715,6.643995650866352,-2.5119850755981665,-0.2937184308315466,1.275413421410887,2.819492954022107,4.577796828118297,-0.2479711451758293,-1.259373394966612,0.2600807290582985,3.5891422997903932,2.34591768252983,2.1619770002446748,10.62327559779277,-12.240956760454825,-10.971205273441353,0.708268676568391,0.2872582793119083,-0.918568920105356,0.5371996942945989,-14.31341441917856,3.480508125900017,2.3793844662848063,-0.6759872812446943,0.41421781258781376,1.1839863713799081,9.189085180330236,-2.348172786748026,1.4042092440955667,-0.4493532205501305,2.989843915846402,0.31243558728126786,-0.39581688602420284,-3.0748851803997668,0.9913855873819433,1.780287064356556,0.23539925238940107,0.20005436259853404,-0.22678197463080751,0.09570418705817652,5.434711749494769,1.9187963726298385,2.3032901255788607,1.7898794228108361,1.2612752570613006,-1.491993479720033,1.0522319777289013,2.234744497423291,0.16205775663071798,-6.461474785291655,-0.5742271566202106,1.5960836274995893,-0.5246652396834195,-0.8547008547008517,1.4041427763869851,0.29167288835798555,1.9811807678564275,1.8268706688468361,0.7847372898366567,-0.6211945903909388,3.064311412675247,3.2704309339061766,0.1918766251232995,4.410080183276066,0.5965441579813602,-2.5424306454911116,1.867394041124637,1.2675935461723187,0.0,3.6043289236167064,2.3321063394682984,1.9168511842431402,-1.5560906360049809,0.9536708759908974,0.4506281962245229,-3.872473150381428,-6.010428755904995,3.3469565217391306,-6.038755058940337,5.293180027222566,3.8738593163977875,0.8629582930783197,0.6558867458925866,0.7749999999999924,-4.94554300941894,-7.373233092834708,-11.489415849413298,6.461152985151264,1.687018924706285,6.289898788689374,-6.3719278205151,-1.0055855271937197,-9.731462848669825,3.760986432289437,-0.6219289047883381,8.176016054120595,0.13196018244929775,-0.6856706298047133,-1.301960633479804,4.419200529992295,0.8126591962977825,2.0055529847293085,3.778001578703827,-0.9232302567734108,-0.7474078976395293,5.1476733227831195,-0.4887205330266875,-0.08072053700399762,1.0136485394786954,-0.06229637923339526,1.5061534962472312,-0.3850590451531577,-2.5900347392887157,-0.14880952380952328,0.42653784881032664,0.8886842015488172,0.927350499602686,1.4875493127622708,-0.11389239644458149,1.5525204703005002,-0.5719725323005798,0.790475021480308,-1.98910457818805,3.5569619204612435,1.2270527536695441,1.231933875415847,2.8608673931370454,-0.09486010032404568,0.40334832280020105,1.9745950567034098,5.46854713663576,2.1961170512099004,2.5653556531435306,3.1930957190505316,1.1562949137331247,1.5011732939020694,1.1344058778819388,7.931308753624622,1.8574288449821674,1.809885151763746,3.437914421446675,-6.725739355285432,4.678583027884753,0.22161769838939804,-3.896269023887311,-0.22894220647365904,6.033036409236359,2.694811020667842,5.245016281470893,4.880993706325376,-2.0880401778647584,6.476582402508324,6.764516425876499,5.31024555899362,-5.674321913211433,-4.449496307993995,-7.425922394457018,5.735039507178019,4.629835791817416,-3.5529191659905868,5.099587675306938,5.312695448322935,3.3502500124590995,1.0769323501637285,-0.14073588168644902,6.967087478750389,6.565034371615397,-4.576697401508801,2.6887151557741795,0.6483415430457384,4.387688973408266,0.3528162539734314,-10.090226529777457,2.1578189447404306,-7.752979367100721,-1.6673515881533874,2.1902311955789733,5.452321961755935,-4.051011340873845,1.6210870819255208,5.104649366697567,-1.2010478398406965,0.6065226283886727,1.4600374804558225,-4.9615470088272495,-0.740209758042254,-4.285146037128151,2.985737053400306,0.8752375168955329,-1.3775880751439873,-2.302978750216589,-1.8659002595894925,2.9541393686718154,2.297653672296107,1.4656443296958699,0.013453052689849088,0.252499048804955,-3.446345876652257,2.091588384299592,-2.05729308453958,-5.792474706564388,-1.465505614188889,2.6114407196540457,-1.706658218138768,-5.282666779761646,-10.499073137095127,-3.453968762194448,15.472427480283123,4.05984536059345,-1.9599979300352066,23.936078964384212,-5.318001135718331,5.336312112034047,-2.83688952784934,0.8958394374450673,-6.475102183051051,-1.8253586288269341,5.626914941983441,5.136276190404909,-2.93911378029984,1.1271066771809446,4.2855381222843825],\"type\":\"scatter\"}],                        {\"legend\":{\"bgcolor\":\"#F5F6F9\",\"font\":{\"color\":\"#4D5663\"}},\"paper_bgcolor\":\"#F5F6F9\",\"plot_bgcolor\":\"#F5F6F9\",\"template\":{\"data\":{\"barpolar\":[{\"marker\":{\"line\":{\"color\":\"#E5ECF6\",\"width\":0.5},\"pattern\":{\"fillmode\":\"overlay\",\"size\":10,\"solidity\":0.2}},\"type\":\"barpolar\"}],\"bar\":[{\"error_x\":{\"color\":\"#2a3f5f\"},\"error_y\":{\"color\":\"#2a3f5f\"},\"marker\":{\"line\":{\"color\":\"#E5ECF6\",\"width\":0.5},\"pattern\":{\"fillmode\":\"overlay\",\"size\":10,\"solidity\":0.2}},\"type\":\"bar\"}],\"carpet\":[{\"aaxis\":{\"endlinecolor\":\"#2a3f5f\",\"gridcolor\":\"white\",\"linecolor\":\"white\",\"minorgridcolor\":\"white\",\"startlinecolor\":\"#2a3f5f\"},\"baxis\":{\"endlinecolor\":\"#2a3f5f\",\"gridcolor\":\"white\",\"linecolor\":\"white\",\"minorgridcolor\":\"white\",\"startlinecolor\":\"#2a3f5f\"},\"type\":\"carpet\"}],\"choropleth\":[{\"colorbar\":{\"outlinewidth\":0,\"ticks\":\"\"},\"type\":\"choropleth\"}],\"contourcarpet\":[{\"colorbar\":{\"outlinewidth\":0,\"ticks\":\"\"},\"type\":\"contourcarpet\"}],\"contour\":[{\"colorbar\":{\"outlinewidth\":0,\"ticks\":\"\"},\"colorscale\":[[0.0,\"#0d0887\"],[0.1111111111111111,\"#46039f\"],[0.2222222222222222,\"#7201a8\"],[0.3333333333333333,\"#9c179e\"],[0.4444444444444444,\"#bd3786\"],[0.5555555555555556,\"#d8576b\"],[0.6666666666666666,\"#ed7953\"],[0.7777777777777778,\"#fb9f3a\"],[0.8888888888888888,\"#fdca26\"],[1.0,\"#f0f921\"]],\"type\":\"contour\"}],\"heatmapgl\":[{\"colorbar\":{\"outlinewidth\":0,\"ticks\":\"\"},\"colorscale\":[[0.0,\"#0d0887\"],[0.1111111111111111,\"#46039f\"],[0.2222222222222222,\"#7201a8\"],[0.3333333333333333,\"#9c179e\"],[0.4444444444444444,\"#bd3786\"],[0.5555555555555556,\"#d8576b\"],[0.6666666666666666,\"#ed7953\"],[0.7777777777777778,\"#fb9f3a\"],[0.8888888888888888,\"#fdca26\"],[1.0,\"#f0f921\"]],\"type\":\"heatmapgl\"}],\"heatmap\":[{\"colorbar\":{\"outlinewidth\":0,\"ticks\":\"\"},\"colorscale\":[[0.0,\"#0d0887\"],[0.1111111111111111,\"#46039f\"],[0.2222222222222222,\"#7201a8\"],[0.3333333333333333,\"#9c179e\"],[0.4444444444444444,\"#bd3786\"],[0.5555555555555556,\"#d8576b\"],[0.6666666666666666,\"#ed7953\"],[0.7777777777777778,\"#fb9f3a\"],[0.8888888888888888,\"#fdca26\"],[1.0,\"#f0f921\"]],\"type\":\"heatmap\"}],\"histogram2dcontour\":[{\"colorbar\":{\"outlinewidth\":0,\"ticks\":\"\"},\"colorscale\":[[0.0,\"#0d0887\"],[0.1111111111111111,\"#46039f\"],[0.2222222222222222,\"#7201a8\"],[0.3333333333333333,\"#9c179e\"],[0.4444444444444444,\"#bd3786\"],[0.5555555555555556,\"#d8576b\"],[0.6666666666666666,\"#ed7953\"],[0.7777777777777778,\"#fb9f3a\"],[0.8888888888888888,\"#fdca26\"],[1.0,\"#f0f921\"]],\"type\":\"histogram2dcontour\"}],\"histogram2d\":[{\"colorbar\":{\"outlinewidth\":0,\"ticks\":\"\"},\"colorscale\":[[0.0,\"#0d0887\"],[0.1111111111111111,\"#46039f\"],[0.2222222222222222,\"#7201a8\"],[0.3333333333333333,\"#9c179e\"],[0.4444444444444444,\"#bd3786\"],[0.5555555555555556,\"#d8576b\"],[0.6666666666666666,\"#ed7953\"],[0.7777777777777778,\"#fb9f3a\"],[0.8888888888888888,\"#fdca26\"],[1.0,\"#f0f921\"]],\"type\":\"histogram2d\"}],\"histogram\":[{\"marker\":{\"pattern\":{\"fillmode\":\"overlay\",\"size\":10,\"solidity\":0.2}},\"type\":\"histogram\"}],\"mesh3d\":[{\"colorbar\":{\"outlinewidth\":0,\"ticks\":\"\"},\"type\":\"mesh3d\"}],\"parcoords\":[{\"line\":{\"colorbar\":{\"outlinewidth\":0,\"ticks\":\"\"}},\"type\":\"parcoords\"}],\"pie\":[{\"automargin\":true,\"type\":\"pie\"}],\"scatter3d\":[{\"line\":{\"colorbar\":{\"outlinewidth\":0,\"ticks\":\"\"}},\"marker\":{\"colorbar\":{\"outlinewidth\":0,\"ticks\":\"\"}},\"type\":\"scatter3d\"}],\"scattercarpet\":[{\"marker\":{\"colorbar\":{\"outlinewidth\":0,\"ticks\":\"\"}},\"type\":\"scattercarpet\"}],\"scattergeo\":[{\"marker\":{\"colorbar\":{\"outlinewidth\":0,\"ticks\":\"\"}},\"type\":\"scattergeo\"}],\"scattergl\":[{\"marker\":{\"colorbar\":{\"outlinewidth\":0,\"ticks\":\"\"}},\"type\":\"scattergl\"}],\"scattermapbox\":[{\"marker\":{\"colorbar\":{\"outlinewidth\":0,\"ticks\":\"\"}},\"type\":\"scattermapbox\"}],\"scatterpolargl\":[{\"marker\":{\"colorbar\":{\"outlinewidth\":0,\"ticks\":\"\"}},\"type\":\"scatterpolargl\"}],\"scatterpolar\":[{\"marker\":{\"colorbar\":{\"outlinewidth\":0,\"ticks\":\"\"}},\"type\":\"scatterpolar\"}],\"scatter\":[{\"fillpattern\":{\"fillmode\":\"overlay\",\"size\":10,\"solidity\":0.2},\"type\":\"scatter\"}],\"scatterternary\":[{\"marker\":{\"colorbar\":{\"outlinewidth\":0,\"ticks\":\"\"}},\"type\":\"scatterternary\"}],\"surface\":[{\"colorbar\":{\"outlinewidth\":0,\"ticks\":\"\"},\"colorscale\":[[0.0,\"#0d0887\"],[0.1111111111111111,\"#46039f\"],[0.2222222222222222,\"#7201a8\"],[0.3333333333333333,\"#9c179e\"],[0.4444444444444444,\"#bd3786\"],[0.5555555555555556,\"#d8576b\"],[0.6666666666666666,\"#ed7953\"],[0.7777777777777778,\"#fb9f3a\"],[0.8888888888888888,\"#fdca26\"],[1.0,\"#f0f921\"]],\"type\":\"surface\"}],\"table\":[{\"cells\":{\"fill\":{\"color\":\"#EBF0F8\"},\"line\":{\"color\":\"white\"}},\"header\":{\"fill\":{\"color\":\"#C8D4E3\"},\"line\":{\"color\":\"white\"}},\"type\":\"table\"}]},\"layout\":{\"annotationdefaults\":{\"arrowcolor\":\"#2a3f5f\",\"arrowhead\":0,\"arrowwidth\":1},\"autotypenumbers\":\"strict\",\"coloraxis\":{\"colorbar\":{\"outlinewidth\":0,\"ticks\":\"\"}},\"colorscale\":{\"diverging\":[[0,\"#8e0152\"],[0.1,\"#c51b7d\"],[0.2,\"#de77ae\"],[0.3,\"#f1b6da\"],[0.4,\"#fde0ef\"],[0.5,\"#f7f7f7\"],[0.6,\"#e6f5d0\"],[0.7,\"#b8e186\"],[0.8,\"#7fbc41\"],[0.9,\"#4d9221\"],[1,\"#276419\"]],\"sequential\":[[0.0,\"#0d0887\"],[0.1111111111111111,\"#46039f\"],[0.2222222222222222,\"#7201a8\"],[0.3333333333333333,\"#9c179e\"],[0.4444444444444444,\"#bd3786\"],[0.5555555555555556,\"#d8576b\"],[0.6666666666666666,\"#ed7953\"],[0.7777777777777778,\"#fb9f3a\"],[0.8888888888888888,\"#fdca26\"],[1.0,\"#f0f921\"]],\"sequentialminus\":[[0.0,\"#0d0887\"],[0.1111111111111111,\"#46039f\"],[0.2222222222222222,\"#7201a8\"],[0.3333333333333333,\"#9c179e\"],[0.4444444444444444,\"#bd3786\"],[0.5555555555555556,\"#d8576b\"],[0.6666666666666666,\"#ed7953\"],[0.7777777777777778,\"#fb9f3a\"],[0.8888888888888888,\"#fdca26\"],[1.0,\"#f0f921\"]]},\"colorway\":[\"#636efa\",\"#EF553B\",\"#00cc96\",\"#ab63fa\",\"#FFA15A\",\"#19d3f3\",\"#FF6692\",\"#B6E880\",\"#FF97FF\",\"#FECB52\"],\"font\":{\"color\":\"#2a3f5f\"},\"geo\":{\"bgcolor\":\"white\",\"lakecolor\":\"white\",\"landcolor\":\"#E5ECF6\",\"showlakes\":true,\"showland\":true,\"subunitcolor\":\"white\"},\"hoverlabel\":{\"align\":\"left\"},\"hovermode\":\"closest\",\"mapbox\":{\"style\":\"light\"},\"paper_bgcolor\":\"white\",\"plot_bgcolor\":\"#E5ECF6\",\"polar\":{\"angularaxis\":{\"gridcolor\":\"white\",\"linecolor\":\"white\",\"ticks\":\"\"},\"bgcolor\":\"#E5ECF6\",\"radialaxis\":{\"gridcolor\":\"white\",\"linecolor\":\"white\",\"ticks\":\"\"}},\"scene\":{\"xaxis\":{\"backgroundcolor\":\"#E5ECF6\",\"gridcolor\":\"white\",\"gridwidth\":2,\"linecolor\":\"white\",\"showbackground\":true,\"ticks\":\"\",\"zerolinecolor\":\"white\"},\"yaxis\":{\"backgroundcolor\":\"#E5ECF6\",\"gridcolor\":\"white\",\"gridwidth\":2,\"linecolor\":\"white\",\"showbackground\":true,\"ticks\":\"\",\"zerolinecolor\":\"white\"},\"zaxis\":{\"backgroundcolor\":\"#E5ECF6\",\"gridcolor\":\"white\",\"gridwidth\":2,\"linecolor\":\"white\",\"showbackground\":true,\"ticks\":\"\",\"zerolinecolor\":\"white\"}},\"shapedefaults\":{\"line\":{\"color\":\"#2a3f5f\"}},\"ternary\":{\"aaxis\":{\"gridcolor\":\"white\",\"linecolor\":\"white\",\"ticks\":\"\"},\"baxis\":{\"gridcolor\":\"white\",\"linecolor\":\"white\",\"ticks\":\"\"},\"bgcolor\":\"#E5ECF6\",\"caxis\":{\"gridcolor\":\"white\",\"linecolor\":\"white\",\"ticks\":\"\"}},\"title\":{\"x\":0.05},\"xaxis\":{\"automargin\":true,\"gridcolor\":\"white\",\"linecolor\":\"white\",\"ticks\":\"\",\"title\":{\"standoff\":15},\"zerolinecolor\":\"white\",\"zerolinewidth\":2},\"yaxis\":{\"automargin\":true,\"gridcolor\":\"white\",\"linecolor\":\"white\",\"ticks\":\"\",\"title\":{\"standoff\":15},\"zerolinecolor\":\"white\",\"zerolinewidth\":2}}},\"title\":{\"font\":{\"color\":\"#4D5663\"}},\"xaxis\":{\"gridcolor\":\"#E1E5ED\",\"showgrid\":true,\"tickfont\":{\"color\":\"#4D5663\"},\"title\":{\"font\":{\"color\":\"#4D5663\"},\"text\":\"\"},\"zerolinecolor\":\"#E1E5ED\"},\"yaxis\":{\"gridcolor\":\"#E1E5ED\",\"showgrid\":true,\"tickfont\":{\"color\":\"#4D5663\"},\"title\":{\"font\":{\"color\":\"#4D5663\"},\"text\":\"\"},\"zerolinecolor\":\"#E1E5ED\"}},                        {\"showLink\": true, \"linkText\": \"Export to plot.ly\", \"plotlyServerURL\": \"https://plot.ly\", \"responsive\": true}                    ).then(function(){\n",
       "                            \n",
       "var gd = document.getElementById('88f7084d-e8eb-4d7a-b843-bf4f97f5d02a');\n",
       "var x = new MutationObserver(function (mutations, observer) {{\n",
       "        var display = window.getComputedStyle(gd).display;\n",
       "        if (!display || display === 'none') {{\n",
       "            console.log([gd, 'removed!']);\n",
       "            Plotly.purge(gd);\n",
       "            observer.disconnect();\n",
       "        }}\n",
       "}});\n",
       "\n",
       "// Listen for the removal of the full notebook cells\n",
       "var notebookContainer = gd.closest('#notebook-container');\n",
       "if (notebookContainer) {{\n",
       "    x.observe(notebookContainer, {childList: true});\n",
       "}}\n",
       "\n",
       "// Listen for the clearing of the current output cell\n",
       "var outputEl = gd.closest('.output');\n",
       "if (outputEl) {{\n",
       "    x.observe(outputEl, {childList: true});\n",
       "}}\n",
       "\n",
       "                        })                };                });            </script>        </div>"
      ]
     },
     "metadata": {},
     "output_type": "display_data"
    }
   ],
   "source": [
    "#this converts the index to a string\n",
    "Bit.index = Bit.index.astype(str)\n",
    "Bit['Close_price_pct_change'].iplot(color='blue')"
   ]
  },
  {
   "cell_type": "code",
   "execution_count": null,
   "id": "86987226-cbc9-46a0-a6df-362518c65788",
   "metadata": {},
   "outputs": [],
   "source": []
  },
  {
   "cell_type": "code",
   "execution_count": null,
   "id": "c4caba4e-c70e-4cfa-bdc6-43ee4520fd24",
   "metadata": {},
   "outputs": [],
   "source": []
  }
 ],
 "metadata": {
  "kernelspec": {
   "display_name": "Python 3 (ipykernel)",
   "language": "python",
   "name": "python3"
  },
  "language_info": {
   "codemirror_mode": {
    "name": "ipython",
    "version": 3
   },
   "file_extension": ".py",
   "mimetype": "text/x-python",
   "name": "python",
   "nbconvert_exporter": "python",
   "pygments_lexer": "ipython3",
   "version": "3.12.4"
  }
 },
 "nbformat": 4,
 "nbformat_minor": 5
}
